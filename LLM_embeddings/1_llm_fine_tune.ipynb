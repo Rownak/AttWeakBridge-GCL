{
 "cells": [
  {
   "cell_type": "code",
   "execution_count": 1,
   "id": "0f3241f1-e6c4-4dd8-b566-b3a1bc059d18",
   "metadata": {},
   "outputs": [
    {
     "name": "stderr",
     "output_type": "stream",
     "text": [
      "2024-07-24 12:19:20.582121: I tensorflow/core/platform/cpu_feature_guard.cc:182] This TensorFlow binary is optimized to use available CPU instructions in performance-critical operations.\n",
      "To enable the following instructions: AVX2 FMA, in other operations, rebuild TensorFlow with the appropriate compiler flags.\n",
      "2024-07-24 12:19:21.146085: W tensorflow/compiler/tf2tensorrt/utils/py_utils.cc:38] TF-TRT Warning: Could not find TensorRT\n"
     ]
    },
    {
     "name": "stdout",
     "output_type": "stream",
     "text": [
      "Using device: cuda\n"
     ]
    }
   ],
   "source": [
    "from transformers import GPT2Tokenizer, GPT2LMHeadModel, DataCollatorWithPadding, TrainingArguments, Trainer\n",
    "from torch.utils.data import Dataset, DataLoader\n",
    "import torch\n",
    "import torch.nn as nn\n",
    "import os\n",
    "\n",
    "os.environ[\"CUDA_VISIBLE_DEVICES\"] = \"0\" \n",
    "# Check if a GPU is available and if not, use a CPU\n",
    "device = torch.device(\"cuda\" if torch.cuda.is_available() else \"cpu\")\n",
    "print(f'Using device: {device}')"
   ]
  },
  {
   "cell_type": "code",
   "execution_count": 2,
   "id": "5c4462d5-66e0-4130-9c5a-7c91b3f21de4",
   "metadata": {},
   "outputs": [],
   "source": [
    "import json\n",
    "import numpy as np\n",
    "data_dir = \"../datasets/ics_attack/\"\n",
    "output_dir = \"../model_outputs/ics_attack/llm_finetuned_models/\"\n",
    "model_name = \"gpt2-xl\"\n",
    "n_epoch = 10\n",
    "if not os.path.exists(output_dir+model_name):\n",
    "    os.makedirs(output_dir+model_name)"
   ]
  },
  {
   "cell_type": "code",
   "execution_count": 3,
   "id": "34b5b0e4-d15d-4e9c-b0a9-5ad9c62629a3",
   "metadata": {},
   "outputs": [
    {
     "name": "stderr",
     "output_type": "stream",
     "text": [
      "Using pad_token, but it is not set yet.\n"
     ]
    }
   ],
   "source": [
    "# Initialize the tokenizer and model\n",
    "tokenizer = GPT2Tokenizer.from_pretrained(model_name)\n",
    "model = GPT2LMHeadModel.from_pretrained(model_name)\n",
    "model.to(device)\n",
    "# Set padding token\n",
    "if tokenizer.pad_token is None:\n",
    "    tokenizer.pad_token = tokenizer.eos_token\n",
    "    tokenizer.pad_token_id = tokenizer.eos_token_id"
   ]
  },
  {
   "cell_type": "code",
   "execution_count": 4,
   "id": "f63d0bb2-c746-4bd7-99f3-34b6d60fd253",
   "metadata": {},
   "outputs": [
    {
     "name": "stdout",
     "output_type": "stream",
     "text": [
      "Number of Nodes with Description:  1136\n"
     ]
    }
   ],
   "source": [
    "with open(data_dir+\"doc_id_to_desc.json\") as f:\n",
    "    doc_id_to_desc = json.load(f)\n",
    "print(\"Number of Nodes with Description: \",len(doc_id_to_desc))"
   ]
  },
  {
   "cell_type": "code",
   "execution_count": 5,
   "id": "56e73257-5a96-4670-8a80-c973f5ab95fe",
   "metadata": {},
   "outputs": [],
   "source": [
    "# text_data is a list containing your text data\n",
    "text_data = []  # Your text items\n",
    "for doc_id in doc_id_to_desc:\n",
    "    text_data.append(doc_id_to_desc[doc_id])"
   ]
  },
  {
   "cell_type": "code",
   "execution_count": 6,
   "id": "5ead7ca3-1507-4645-8644-0a2f4e24a9de",
   "metadata": {},
   "outputs": [
    {
     "name": "stdout",
     "output_type": "stream",
     "text": [
      "Max # token in the longest text : 512\n"
     ]
    }
   ],
   "source": [
    "# Calculate max_length based on the longest text in your dataset\n",
    "#max_length = max([len(tokenizer.encode(text)) for text in text_data])\n",
    "max_length = min(max([len(tokenizer.encode(text)) for text in text_data]), 512)  # Limit to 512 tokens\n",
    "\n",
    "print(\"Max # token in the longest text :\",max_length)"
   ]
  },
  {
   "cell_type": "code",
   "execution_count": 7,
   "id": "44bf3429-c068-450b-bc5a-2472a59df545",
   "metadata": {},
   "outputs": [],
   "source": [
    "# Custom dataset\n",
    "# Custom dataset with chunking\n",
    "class CustomDataset(Dataset):\n",
    "    def __init__(self, tokenizer, texts, max_length):\n",
    "        self.tokenizer = tokenizer\n",
    "        self.max_length = max_length\n",
    "        self.examples = []\n",
    "\n",
    "        for text in texts:\n",
    "            tokenized_text = tokenizer.encode(text)\n",
    "            for i in range(0, len(tokenized_text), max_length):\n",
    "                chunk = tokenized_text[i:i + max_length]\n",
    "                self.examples.append(chunk)\n",
    "\n",
    "    def __len__(self):\n",
    "        return len(self.examples)\n",
    "\n",
    "    def __getitem__(self, idx):\n",
    "        chunk = self.examples[idx]\n",
    "        tokenized_inputs = self.tokenizer.prepare_for_model(\n",
    "            chunk,\n",
    "            max_length=self.max_length,\n",
    "            padding='max_length',\n",
    "            truncation=True,\n",
    "            return_tensors=\"pt\"\n",
    "        )\n",
    "        tokenized_inputs[\"labels\"] = tokenized_inputs[\"input_ids\"].clone()\n",
    "        # Move tensors to the device\n",
    "        for key in tokenized_inputs:\n",
    "            tokenized_inputs[key] = tokenized_inputs[key].squeeze(0).to(device)\n",
    "        return tokenized_inputs\n"
   ]
  },
  {
   "cell_type": "code",
   "execution_count": 8,
   "id": "d1a078b8-c6c6-48a3-b06f-5092ffd79720",
   "metadata": {},
   "outputs": [],
   "source": [
    "# Create dataset\n",
    "dataset = CustomDataset(tokenizer, text_data, max_length)\n",
    "\n",
    "# Create a data collator that will dynamically pad the sequences\n",
    "data_collator = DataCollatorWithPadding(tokenizer=tokenizer)"
   ]
  },
  {
   "cell_type": "code",
   "execution_count": null,
   "id": "b6cec43b-5bac-42e2-a8b2-d90846a43c7f",
   "metadata": {},
   "outputs": [],
   "source": []
  },
  {
   "cell_type": "code",
   "execution_count": 9,
   "id": "5db6c4b5-20d9-4544-b378-44b9a5d49696",
   "metadata": {},
   "outputs": [
    {
     "name": "stderr",
     "output_type": "stream",
     "text": [
      "/home/afarhan/anaconda3/envs/gpt/lib/python3.8/site-packages/transformers/optimization.py:391: FutureWarning: This implementation of AdamW is deprecated and will be removed in a future version. Use the PyTorch implementation torch.optim.AdamW instead, or set `no_deprecation_warning=True` to disable this warning\n",
      "  warnings.warn(\n"
     ]
    },
    {
     "data": {
      "text/html": [
       "\n",
       "    <div>\n",
       "      \n",
       "      <progress value='1430' max='1430' style='width:300px; height:20px; vertical-align: middle;'></progress>\n",
       "      [1430/1430 47:15, Epoch 9/10]\n",
       "    </div>\n",
       "    <table border=\"1\" class=\"dataframe\">\n",
       "  <thead>\n",
       " <tr style=\"text-align: left;\">\n",
       "      <th>Step</th>\n",
       "      <th>Training Loss</th>\n",
       "    </tr>\n",
       "  </thead>\n",
       "  <tbody>\n",
       "    <tr>\n",
       "      <td>100</td>\n",
       "      <td>0.961500</td>\n",
       "    </tr>\n",
       "    <tr>\n",
       "      <td>200</td>\n",
       "      <td>0.449200</td>\n",
       "    </tr>\n",
       "    <tr>\n",
       "      <td>300</td>\n",
       "      <td>0.324300</td>\n",
       "    </tr>\n",
       "    <tr>\n",
       "      <td>400</td>\n",
       "      <td>0.152100</td>\n",
       "    </tr>\n",
       "    <tr>\n",
       "      <td>500</td>\n",
       "      <td>0.100400</td>\n",
       "    </tr>\n",
       "    <tr>\n",
       "      <td>600</td>\n",
       "      <td>0.058600</td>\n",
       "    </tr>\n",
       "    <tr>\n",
       "      <td>700</td>\n",
       "      <td>0.036500</td>\n",
       "    </tr>\n",
       "    <tr>\n",
       "      <td>800</td>\n",
       "      <td>0.026800</td>\n",
       "    </tr>\n",
       "    <tr>\n",
       "      <td>900</td>\n",
       "      <td>0.022400</td>\n",
       "    </tr>\n",
       "    <tr>\n",
       "      <td>1000</td>\n",
       "      <td>0.017800</td>\n",
       "    </tr>\n",
       "    <tr>\n",
       "      <td>1100</td>\n",
       "      <td>0.014800</td>\n",
       "    </tr>\n",
       "    <tr>\n",
       "      <td>1200</td>\n",
       "      <td>0.012600</td>\n",
       "    </tr>\n",
       "    <tr>\n",
       "      <td>1300</td>\n",
       "      <td>0.012800</td>\n",
       "    </tr>\n",
       "    <tr>\n",
       "      <td>1400</td>\n",
       "      <td>0.010500</td>\n",
       "    </tr>\n",
       "  </tbody>\n",
       "</table><p>"
      ],
      "text/plain": [
       "<IPython.core.display.HTML object>"
      ]
     },
     "metadata": {},
     "output_type": "display_data"
    },
    {
     "data": {
      "text/plain": [
       "TrainOutput(global_step=1430, training_loss=0.15408067611547616, metrics={'train_runtime': 2837.5854, 'train_samples_per_second': 4.035, 'train_steps_per_second': 0.504, 'total_flos': 5.18158683635712e+16, 'train_loss': 0.15408067611547616, 'epoch': 9.98})"
      ]
     },
     "execution_count": 9,
     "metadata": {},
     "output_type": "execute_result"
    }
   ],
   "source": [
    "# Training arguments and Trainer\n",
    "training_args = TrainingArguments(\n",
    "    per_device_train_batch_size=2,  # Reduce batch size\n",
    "    gradient_accumulation_steps=4,  # Accumulate gradients over 4 steps\n",
    "    num_train_epochs=n_epoch,\n",
    "    learning_rate=1e-4,\n",
    "    output_dir=output_dir+model_name+'/results',\n",
    "    logging_dir=output_dir+model_name+'/logs',\n",
    "    logging_steps=100,\n",
    "    load_best_model_at_end=False,\n",
    "    evaluation_strategy=\"no\",\n",
    "    remove_unused_columns=False,\n",
    "    push_to_hub=False,\n",
    "    save_strategy=\"no\",  # Disable checkpoint saving\n",
    "    fp16=True,  # Use mixed precision training\n",
    ")\n",
    "\n",
    "trainer = Trainer(\n",
    "    model=model,\n",
    "    args=training_args,\n",
    "    train_dataset=dataset,\n",
    "    eval_dataset=None,  # You can specify an evaluation dataset here\n",
    "    data_collator=data_collator,  # Add the data collator here\n",
    ")\n",
    "# Clear cache before training\n",
    "torch.cuda.empty_cache()\n",
    "trainer.train()"
   ]
  },
  {
   "cell_type": "code",
   "execution_count": 10,
   "id": "2aa1a0f9-e28f-4bc8-9655-a4cacea94f61",
   "metadata": {},
   "outputs": [
    {
     "data": {
      "text/plain": [
       "('../model_outputs/ics_attack/llm_finetuned_models/gpt2-xl/Epoch_10/tokenizer_config.json',\n",
       " '../model_outputs/ics_attack/llm_finetuned_models/gpt2-xl/Epoch_10/special_tokens_map.json',\n",
       " '../model_outputs/ics_attack/llm_finetuned_models/gpt2-xl/Epoch_10/vocab.json',\n",
       " '../model_outputs/ics_attack/llm_finetuned_models/gpt2-xl/Epoch_10/merges.txt',\n",
       " '../model_outputs/ics_attack/llm_finetuned_models/gpt2-xl/Epoch_10/added_tokens.json')"
      ]
     },
     "execution_count": 10,
     "metadata": {},
     "output_type": "execute_result"
    }
   ],
   "source": [
    "trainer.save_model()\n",
    "model.save_pretrained(output_dir+model_name+'/epoch_{}'.format(n_epoch))\n",
    "tokenizer.save_pretrained(output_dir+model_name+'/epoch_{}'.format(n_epoch))"
   ]
  },
  {
   "cell_type": "code",
   "execution_count": 11,
   "id": "9befc6dd-ac48-4da9-b6bf-1ea375bd4e07",
   "metadata": {},
   "outputs": [],
   "source": [
    "torch.cuda.empty_cache()"
   ]
  },
  {
   "cell_type": "code",
   "execution_count": null,
   "id": "d9f9eadf-60c0-4d11-9d6a-0e19f8cdf675",
   "metadata": {},
   "outputs": [],
   "source": []
  }
 ],
 "metadata": {
  "kernelspec": {
   "display_name": "Python 3 (ipykernel)",
   "language": "python",
   "name": "python3"
  },
  "language_info": {
   "codemirror_mode": {
    "name": "ipython",
    "version": 3
   },
   "file_extension": ".py",
   "mimetype": "text/x-python",
   "name": "python",
   "nbconvert_exporter": "python",
   "pygments_lexer": "ipython3",
   "version": "3.8.19"
  }
 },
 "nbformat": 4,
 "nbformat_minor": 5
}
