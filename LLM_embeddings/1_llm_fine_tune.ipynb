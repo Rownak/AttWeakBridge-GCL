{
 "cells": [
  {
   "cell_type": "code",
   "execution_count": 1,
   "id": "0f3241f1-e6c4-4dd8-b566-b3a1bc059d18",
   "metadata": {},
   "outputs": [
    {
     "name": "stderr",
     "output_type": "stream",
     "text": [
      "2024-07-27 20:43:26.782418: I tensorflow/core/platform/cpu_feature_guard.cc:182] This TensorFlow binary is optimized to use available CPU instructions in performance-critical operations.\n",
      "To enable the following instructions: AVX2 FMA, in other operations, rebuild TensorFlow with the appropriate compiler flags.\n",
      "2024-07-27 20:43:27.302521: W tensorflow/compiler/tf2tensorrt/utils/py_utils.cc:38] TF-TRT Warning: Could not find TensorRT\n"
     ]
    },
    {
     "name": "stdout",
     "output_type": "stream",
     "text": [
      "Using device: cuda\n"
     ]
    }
   ],
   "source": [
    "import json\n",
    "import numpy as np\n",
    "import torch\n",
    "from torch.utils.data import Dataset\n",
    "from transformers import AutoTokenizer, AutoModelForMaskedLM, GPT2Tokenizer, GPT2LMHeadModel, DataCollatorForLanguageModeling, DataCollatorWithPadding, TrainingArguments, Trainer\n",
    "import sys\n",
    "sys.path.append('../')\n",
    "import config\n",
    "import os\n",
    "os.environ[\"CUDA_VISIBLE_DEVICES\"] = \"0\"\n",
    "device = torch.device(\"cuda\" if torch.cuda.is_available() else \"cpu\")\n",
    "print(f'Using device: {device}')"
   ]
  },
  {
   "cell_type": "code",
   "execution_count": 2,
   "id": "86a8d3b8-036b-4108-ae58-999f70a19068",
   "metadata": {},
   "outputs": [
    {
     "name": "stdout",
     "output_type": "stream",
     "text": [
      "data_dir:  /home/afarhan/post-doc/AWEB_GCL/datasets/enterprise_attack/\n",
      "output_dir:  /home/afarhan/post-doc/AWEB_GCLmodel_outputs/enterprise_attack/\n",
      "llm_dir:  /home/afarhan/post-doc/AWEB_GCLmodel_outputs/enterprise_attack/llm_finetuned_models/\n"
     ]
    }
   ],
   "source": [
    "data_dir = config.DATA_DIR\n",
    "print(\"data_dir: \", data_dir)\n",
    "output_dir = config.OUTPUT_DIR\n",
    "print(\"output_dir: \", output_dir)\n",
    "llm_dir = output_dir+\"llm_finetuned_models/\"\n",
    "print(\"llm_dir: \", llm_dir)\n",
    "models = [\"jackaduma/SecRoBERTa\", \"ehsanaghaei/SecureBERT\", \"gpt2-xl\"]\n",
    "model_names = [\"SecRoBERTa\", \"SecureBERT\", \"gpt2-xl\"]\n",
    "n_epoch = 10\n",
    "model_id = 0"
   ]
  },
  {
   "cell_type": "code",
   "execution_count": 3,
   "id": "5c4462d5-66e0-4130-9c5a-7c91b3f21de4",
   "metadata": {},
   "outputs": [
    {
     "name": "stdout",
     "output_type": "stream",
     "text": [
      "Number of Nodes with Description:  2986\n"
     ]
    }
   ],
   "source": [
    "\n",
    "if not os.path.exists(llm_dir+model_names[model_id]):\n",
    "    os.makedirs(llm_dir+model_names[model_id])\n",
    "\n",
    "# load attack and weakness description with ID\n",
    "with open(config.DESCRIPTION_FILE) as f:\n",
    "    doc_id_to_desc = json.load(f)\n",
    "print(\"Number of Nodes with Description: \",len(doc_id_to_desc))\n",
    "# text_data is a list containing your text data\n",
    "text_data = []  # Your text items\n",
    "for doc_id in doc_id_to_desc:\n",
    "    text_data.append(doc_id_to_desc[doc_id])"
   ]
  },
  {
   "cell_type": "code",
   "execution_count": null,
   "id": "80ea48d4-efdb-462e-b4fc-0150d36a27ee",
   "metadata": {},
   "outputs": [],
   "source": []
  },
  {
   "cell_type": "code",
   "execution_count": 4,
   "id": "34b5b0e4-d15d-4e9c-b0a9-5ad9c62629a3",
   "metadata": {},
   "outputs": [],
   "source": [
    "# Initialize the tokenizer and model based on model_name\n",
    "model_name = models[model_id]\n",
    "if \"gpt2\" in model_name:\n",
    "    tokenizer = GPT2Tokenizer.from_pretrained(models[model_id])\n",
    "    model = GPT2LMHeadModel.from_pretrained(models[model_id])\n",
    "elif(\"SecRoBERTa\" in model_name):\n",
    "    tokenizer = AutoTokenizer.from_pretrained(models[model_id])\n",
    "    model = AutoModelForMaskedLM.from_pretrained(models[model_id])\n",
    "elif(\"SecureBERT\" in model_name):\n",
    "    tokenizer = AutoTokenizer.from_pretrained(models[model_id])\n",
    "    model = AutoModelForMaskedLM.from_pretrained(models[model_id])\n",
    "model.to(device)\n",
    "model.to(device)\n",
    "# Set padding token\n",
    "if tokenizer.pad_token is None:\n",
    "    tokenizer.pad_token = tokenizer.eos_token\n",
    "    tokenizer.pad_token_id = tokenizer.eos_token_id"
   ]
  },
  {
   "cell_type": "code",
   "execution_count": 5,
   "id": "5ead7ca3-1507-4645-8644-0a2f4e24a9de",
   "metadata": {},
   "outputs": [
    {
     "name": "stdout",
     "output_type": "stream",
     "text": [
      "Max # token in the longest text : 512\n"
     ]
    }
   ],
   "source": [
    "# Calculate max_length based on the longest text in your dataset\n",
    "#max_length = max([len(tokenizer.encode(text)) for text in text_data])\n",
    "max_length = min(max([len(tokenizer.encode(text)) for text in text_data]), 512)  # Limit to 512 tokens\n",
    "print(\"Max # token in the longest text :\",max_length)"
   ]
  },
  {
   "cell_type": "code",
   "execution_count": 6,
   "id": "44bf3429-c068-450b-bc5a-2472a59df545",
   "metadata": {},
   "outputs": [],
   "source": [
    "# Custom dataset\n",
    "# Custom dataset with chunking\n",
    "class CustomDataset(Dataset):\n",
    "    def __init__(self, tokenizer, texts, max_length):\n",
    "        self.tokenizer = tokenizer\n",
    "        self.max_length = max_length\n",
    "        self.examples = []\n",
    "\n",
    "        for text in texts:\n",
    "            tokenized_text = tokenizer.encode(text)\n",
    "            for i in range(0, len(tokenized_text), max_length):\n",
    "                chunk = tokenized_text[i:i + max_length]\n",
    "                self.examples.append(chunk)\n",
    "\n",
    "    def __len__(self):\n",
    "        return len(self.examples)\n",
    "\n",
    "    def __getitem__(self, idx):\n",
    "        chunk = self.examples[idx]\n",
    "        tokenized_inputs = self.tokenizer.prepare_for_model(\n",
    "            chunk,\n",
    "            max_length=self.max_length,\n",
    "            padding='max_length',\n",
    "            truncation=True,\n",
    "            return_tensors=\"pt\"\n",
    "        )\n",
    "        tokenized_inputs[\"labels\"] = tokenized_inputs[\"input_ids\"].clone()\n",
    "        for key in tokenized_inputs:\n",
    "            tokenized_inputs[key] = tokenized_inputs[key].squeeze(0).to(device)\n",
    "        return tokenized_inputs\n"
   ]
  },
  {
   "cell_type": "code",
   "execution_count": 7,
   "id": "d1a078b8-c6c6-48a3-b06f-5092ffd79720",
   "metadata": {},
   "outputs": [],
   "source": [
    "max_length = 512  # Define your max length\n",
    "dataset = CustomDataset(tokenizer, text_data, max_length)\n",
    "\n",
    "if \"gpt2\" in model_name:\n",
    "    data_collator = DataCollatorWithPadding(tokenizer=tokenizer)\n",
    "else:\n",
    "    data_collator = DataCollatorForLanguageModeling(tokenizer=tokenizer, mlm=True, mlm_probability=0.15)\n"
   ]
  },
  {
   "cell_type": "code",
   "execution_count": 9,
   "id": "b6cec43b-5bac-42e2-a8b2-d90846a43c7f",
   "metadata": {},
   "outputs": [
    {
     "name": "stdout",
     "output_type": "stream",
     "text": [
      "DataCollatorForLanguageModeling(tokenizer=RobertaTokenizerFast(name_or_path='jackaduma/SecRoBERTa', vocab_size=52000, model_max_length=1000000000000000019884624838656, is_fast=True, padding_side='right', truncation_side='right', special_tokens={'bos_token': AddedToken(\"<s>\", rstrip=False, lstrip=False, single_word=False, normalized=True), 'eos_token': AddedToken(\"</s>\", rstrip=False, lstrip=False, single_word=False, normalized=True), 'unk_token': AddedToken(\"<unk>\", rstrip=False, lstrip=False, single_word=False, normalized=True), 'sep_token': AddedToken(\"</s>\", rstrip=False, lstrip=False, single_word=False, normalized=True), 'pad_token': AddedToken(\"<pad>\", rstrip=False, lstrip=False, single_word=False, normalized=True), 'cls_token': AddedToken(\"<s>\", rstrip=False, lstrip=False, single_word=False, normalized=True), 'mask_token': AddedToken(\"<mask>\", rstrip=False, lstrip=True, single_word=False, normalized=True)}), mlm=True, mlm_probability=0.15, pad_to_multiple_of=None, tf_experimental_compile=False, return_tensors='pt')\n"
     ]
    }
   ],
   "source": [
    "print(data_collator)"
   ]
  },
  {
   "cell_type": "code",
   "execution_count": 8,
   "id": "5db6c4b5-20d9-4544-b378-44b9a5d49696",
   "metadata": {},
   "outputs": [
    {
     "name": "stderr",
     "output_type": "stream",
     "text": [
      "/home/afarhan/anaconda3/envs/gpt/lib/python3.8/site-packages/transformers/optimization.py:391: FutureWarning: This implementation of AdamW is deprecated and will be removed in a future version. Use the PyTorch implementation torch.optim.AdamW instead, or set `no_deprecation_warning=True` to disable this warning\n",
      "  warnings.warn(\n",
      "You're using a RobertaTokenizerFast tokenizer. Please note that with a fast tokenizer, using the `__call__` method is faster than using a method to encode the text followed by a call to the `pad` method to get a padded encoding.\n"
     ]
    },
    {
     "data": {
      "text/html": [
       "\n",
       "    <div>\n",
       "      \n",
       "      <progress value='3810' max='3810' style='width:300px; height:20px; vertical-align: middle;'></progress>\n",
       "      [3810/3810 07:41, Epoch 9/10]\n",
       "    </div>\n",
       "    <table border=\"1\" class=\"dataframe\">\n",
       "  <thead>\n",
       " <tr style=\"text-align: left;\">\n",
       "      <th>Step</th>\n",
       "      <th>Training Loss</th>\n",
       "    </tr>\n",
       "  </thead>\n",
       "  <tbody>\n",
       "    <tr>\n",
       "      <td>100</td>\n",
       "      <td>4.734900</td>\n",
       "    </tr>\n",
       "    <tr>\n",
       "      <td>200</td>\n",
       "      <td>4.289800</td>\n",
       "    </tr>\n",
       "    <tr>\n",
       "      <td>300</td>\n",
       "      <td>4.136100</td>\n",
       "    </tr>\n",
       "    <tr>\n",
       "      <td>400</td>\n",
       "      <td>3.762600</td>\n",
       "    </tr>\n",
       "    <tr>\n",
       "      <td>500</td>\n",
       "      <td>3.725100</td>\n",
       "    </tr>\n",
       "    <tr>\n",
       "      <td>600</td>\n",
       "      <td>3.515500</td>\n",
       "    </tr>\n",
       "    <tr>\n",
       "      <td>700</td>\n",
       "      <td>3.543900</td>\n",
       "    </tr>\n",
       "    <tr>\n",
       "      <td>800</td>\n",
       "      <td>3.354500</td>\n",
       "    </tr>\n",
       "    <tr>\n",
       "      <td>900</td>\n",
       "      <td>3.423000</td>\n",
       "    </tr>\n",
       "    <tr>\n",
       "      <td>1000</td>\n",
       "      <td>3.252600</td>\n",
       "    </tr>\n",
       "    <tr>\n",
       "      <td>1100</td>\n",
       "      <td>3.238400</td>\n",
       "    </tr>\n",
       "    <tr>\n",
       "      <td>1200</td>\n",
       "      <td>3.115300</td>\n",
       "    </tr>\n",
       "    <tr>\n",
       "      <td>1300</td>\n",
       "      <td>3.034800</td>\n",
       "    </tr>\n",
       "    <tr>\n",
       "      <td>1400</td>\n",
       "      <td>3.096800</td>\n",
       "    </tr>\n",
       "    <tr>\n",
       "      <td>1500</td>\n",
       "      <td>3.135100</td>\n",
       "    </tr>\n",
       "    <tr>\n",
       "      <td>1600</td>\n",
       "      <td>2.936500</td>\n",
       "    </tr>\n",
       "    <tr>\n",
       "      <td>1700</td>\n",
       "      <td>2.887800</td>\n",
       "    </tr>\n",
       "    <tr>\n",
       "      <td>1800</td>\n",
       "      <td>2.904500</td>\n",
       "    </tr>\n",
       "    <tr>\n",
       "      <td>1900</td>\n",
       "      <td>2.738400</td>\n",
       "    </tr>\n",
       "    <tr>\n",
       "      <td>2000</td>\n",
       "      <td>2.692800</td>\n",
       "    </tr>\n",
       "    <tr>\n",
       "      <td>2100</td>\n",
       "      <td>2.595500</td>\n",
       "    </tr>\n",
       "    <tr>\n",
       "      <td>2200</td>\n",
       "      <td>2.593100</td>\n",
       "    </tr>\n",
       "    <tr>\n",
       "      <td>2300</td>\n",
       "      <td>2.667500</td>\n",
       "    </tr>\n",
       "    <tr>\n",
       "      <td>2400</td>\n",
       "      <td>2.424400</td>\n",
       "    </tr>\n",
       "    <tr>\n",
       "      <td>2500</td>\n",
       "      <td>2.437700</td>\n",
       "    </tr>\n",
       "    <tr>\n",
       "      <td>2600</td>\n",
       "      <td>2.469900</td>\n",
       "    </tr>\n",
       "    <tr>\n",
       "      <td>2700</td>\n",
       "      <td>2.384400</td>\n",
       "    </tr>\n",
       "    <tr>\n",
       "      <td>2800</td>\n",
       "      <td>2.261900</td>\n",
       "    </tr>\n",
       "    <tr>\n",
       "      <td>2900</td>\n",
       "      <td>2.259000</td>\n",
       "    </tr>\n",
       "    <tr>\n",
       "      <td>3000</td>\n",
       "      <td>2.210400</td>\n",
       "    </tr>\n",
       "    <tr>\n",
       "      <td>3100</td>\n",
       "      <td>2.206700</td>\n",
       "    </tr>\n",
       "    <tr>\n",
       "      <td>3200</td>\n",
       "      <td>2.136400</td>\n",
       "    </tr>\n",
       "    <tr>\n",
       "      <td>3300</td>\n",
       "      <td>2.163400</td>\n",
       "    </tr>\n",
       "    <tr>\n",
       "      <td>3400</td>\n",
       "      <td>2.178100</td>\n",
       "    </tr>\n",
       "    <tr>\n",
       "      <td>3500</td>\n",
       "      <td>2.020100</td>\n",
       "    </tr>\n",
       "    <tr>\n",
       "      <td>3600</td>\n",
       "      <td>2.008800</td>\n",
       "    </tr>\n",
       "    <tr>\n",
       "      <td>3700</td>\n",
       "      <td>2.102000</td>\n",
       "    </tr>\n",
       "    <tr>\n",
       "      <td>3800</td>\n",
       "      <td>2.008000</td>\n",
       "    </tr>\n",
       "  </tbody>\n",
       "</table><p>"
      ],
      "text/plain": [
       "<IPython.core.display.HTML object>"
      ]
     },
     "metadata": {},
     "output_type": "display_data"
    },
    {
     "data": {
      "text/plain": [
       "TrainOutput(global_step=3810, training_loss=2.8570995360847533, metrics={'train_runtime': 461.7631, 'train_samples_per_second': 66.073, 'train_steps_per_second': 8.251, 'total_flos': 4041281476657152.0, 'train_loss': 2.8570995360847533, 'epoch': 9.99})"
      ]
     },
     "execution_count": 8,
     "metadata": {},
     "output_type": "execute_result"
    }
   ],
   "source": [
    "# Training arguments and Trainer\n",
    "training_args = TrainingArguments(\n",
    "    per_device_train_batch_size=2,\n",
    "    gradient_accumulation_steps=4,\n",
    "    num_train_epochs=n_epoch,\n",
    "    learning_rate=1e-4,\n",
    "    output_dir=os.path.join(llm_dir, model_names[model_id], 'results'),\n",
    "    logging_dir=os.path.join(llm_dir , model_names[model_id] , 'logs'),\n",
    "    logging_steps=100,\n",
    "    load_best_model_at_end=False,\n",
    "    evaluation_strategy=\"no\",\n",
    "    remove_unused_columns=False,\n",
    "    push_to_hub=False,\n",
    "    save_strategy=\"no\",\n",
    "    fp16=True,\n",
    ")\n",
    "\n",
    "trainer = Trainer(\n",
    "    model=model,\n",
    "    args=training_args,\n",
    "    train_dataset=dataset,\n",
    "    data_collator=data_collator,\n",
    ")\n",
    "\n",
    "torch.cuda.empty_cache()\n",
    "trainer.train()"
   ]
  },
  {
   "cell_type": "code",
   "execution_count": 10,
   "id": "2aa1a0f9-e28f-4bc8-9655-a4cacea94f61",
   "metadata": {},
   "outputs": [
    {
     "data": {
      "text/plain": [
       "('/home/afarhan/post-doc/AWEB_GCLmodel_outputs/enterprise_attack/llm_finetuned_models/SecRoBERTa/epoch_10/tokenizer_config.json',\n",
       " '/home/afarhan/post-doc/AWEB_GCLmodel_outputs/enterprise_attack/llm_finetuned_models/SecRoBERTa/epoch_10/special_tokens_map.json',\n",
       " '/home/afarhan/post-doc/AWEB_GCLmodel_outputs/enterprise_attack/llm_finetuned_models/SecRoBERTa/epoch_10/vocab.json',\n",
       " '/home/afarhan/post-doc/AWEB_GCLmodel_outputs/enterprise_attack/llm_finetuned_models/SecRoBERTa/epoch_10/merges.txt',\n",
       " '/home/afarhan/post-doc/AWEB_GCLmodel_outputs/enterprise_attack/llm_finetuned_models/SecRoBERTa/epoch_10/added_tokens.json',\n",
       " '/home/afarhan/post-doc/AWEB_GCLmodel_outputs/enterprise_attack/llm_finetuned_models/SecRoBERTa/epoch_10/tokenizer.json')"
      ]
     },
     "execution_count": 10,
     "metadata": {},
     "output_type": "execute_result"
    }
   ],
   "source": [
    "trainer.save_model()\n",
    "model.save_pretrained(llm_dir+model_names[model_id]+'/epoch_{}'.format(n_epoch))\n",
    "tokenizer.save_pretrained(llm_dir+model_names[model_id]+'/epoch_{}'.format(n_epoch))"
   ]
  },
  {
   "cell_type": "code",
   "execution_count": 11,
   "id": "9befc6dd-ac48-4da9-b6bf-1ea375bd4e07",
   "metadata": {},
   "outputs": [],
   "source": [
    "torch.cuda.empty_cache()"
   ]
  },
  {
   "cell_type": "code",
   "execution_count": 12,
   "id": "d9f9eadf-60c0-4d11-9d6a-0e19f8cdf675",
   "metadata": {},
   "outputs": [
    {
     "data": {
      "text/plain": [
       "'/home/afarhan/post-doc/AWEB_GCL/datasets/enterprise_attack/'"
      ]
     },
     "execution_count": 12,
     "metadata": {},
     "output_type": "execute_result"
    }
   ],
   "source": [
    "data_dir"
   ]
  },
  {
   "cell_type": "code",
   "execution_count": 13,
   "id": "1d674e28-8a64-4960-ba59-a6e9aa12a3b8",
   "metadata": {},
   "outputs": [
    {
     "data": {
      "text/plain": [
       "'/home/afarhan/post-doc/AWEB_GCL/datasets/enterprise_attack/doc_id_to_desc.json'"
      ]
     },
     "execution_count": 13,
     "metadata": {},
     "output_type": "execute_result"
    }
   ],
   "source": [
    "os.path.join(data_dir, 'doc_id_to_desc.json')"
   ]
  },
  {
   "cell_type": "code",
   "execution_count": null,
   "id": "b58357d4-090e-4e2e-9a2f-264f41b9aa60",
   "metadata": {},
   "outputs": [],
   "source": []
  }
 ],
 "metadata": {
  "kernelspec": {
   "display_name": "Python 3 (ipykernel)",
   "language": "python",
   "name": "python3"
  },
  "language_info": {
   "codemirror_mode": {
    "name": "ipython",
    "version": 3
   },
   "file_extension": ".py",
   "mimetype": "text/x-python",
   "name": "python",
   "nbconvert_exporter": "python",
   "pygments_lexer": "ipython3",
   "version": "3.8.19"
  }
 },
 "nbformat": 4,
 "nbformat_minor": 5
}
