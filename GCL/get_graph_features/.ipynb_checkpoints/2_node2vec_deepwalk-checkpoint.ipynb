{
 "cells": [
  {
   "cell_type": "code",
   "execution_count": 10,
   "id": "2ee5741b-be17-48ed-9714-69bb21b4987c",
   "metadata": {},
   "outputs": [],
   "source": [
    "import os\n",
    "import json\n",
    "import numpy as np\n",
    "import torch\n",
    "import networkx as nx\n",
    "from gensim.models import Word2Vec\n",
    "from torch_geometric.data import Data\n",
    "from node2vec import Node2Vec\n"
   ]
  },
  {
   "cell_type": "code",
   "execution_count": 11,
   "id": "5d92ef83-5bc3-4a25-980b-71cb3207ff51",
   "metadata": {},
   "outputs": [
    {
     "name": "stdout",
     "output_type": "stream",
     "text": [
      "Using device: cuda\n"
     ]
    }
   ],
   "source": [
    "# Set CUDA device and ensure the correct device is used\n",
    "os.environ[\"CUDA_VISIBLE_DEVICES\"] = \"1\"\n",
    "device = torch.device(\"cuda\" if torch.cuda.is_available() else \"cpu\")\n",
    "print(f'Using device: {device}')"
   ]
  },
  {
   "cell_type": "code",
   "execution_count": 12,
   "id": "03b9391b-8bfd-433a-a7cd-3d35d33aa9c8",
   "metadata": {},
   "outputs": [],
   "source": [
    "# Paths\n",
    "data_dir = \"../../datasets/ics_attack/\"\n",
    "embeddings_dir = \"../../model_outputs/ics_attack/embeddings/\"\n",
    "\n"
   ]
  },
  {
   "cell_type": "code",
   "execution_count": 13,
   "id": "30b2a2dc-6fbd-4733-9b06-4732d364924c",
   "metadata": {},
   "outputs": [],
   "source": [
    "# Load data\n",
    "def load_data(data_dir):\n",
    "    with open(os.path.join(data_dir, 'attack_weak_range.json')) as fp:\n",
    "        attack_weak_range = json.load(fp)\n",
    "    with open(os.path.join(data_dir, 'combined_edges.json')) as fp:\n",
    "        edges_json = json.load(fp)\n",
    "    return attack_weak_range, edges_json"
   ]
  },
  {
   "cell_type": "code",
   "execution_count": null,
   "id": "ddc2a4e0-0f16-42c9-a0db-3b42d14c824a",
   "metadata": {},
   "outputs": [],
   "source": [
    "# Generate random walks for DeepWalk\n",
    "def generate_random_walks(G, num_walks, walk_length):\n",
    "    walks = []\n",
    "    nodes = list(G.nodes())\n",
    "    for _ in range(num_walks):\n",
    "        np.random.shuffle(nodes)\n",
    "        for node in nodes:\n",
    "            walk = [node]\n",
    "            while len(walk) < walk_length:\n",
    "                cur = walk[-1]\n",
    "                neighbors = list(G.neighbors(cur))\n",
    "                if neighbors:\n",
    "                    next_node = np.random.choice(neighbors)\n",
    "                    walk.append(next_node)\n",
    "                else:\n",
    "                    break\n",
    "            walks.append(walk)\n",
    "    return walks"
   ]
  },
  {
   "cell_type": "code",
   "execution_count": null,
   "id": "9bf42703-26e2-4cf2-9fe8-7350de1d2b2a",
   "metadata": {},
   "outputs": [],
   "source": [
    "# Create and save node2vec embeddings\n",
    "def create_node2vec_embeddings(G, dimensions, walk_length, num_walks, window, min_count, batch_words, embeddings_dir):\n",
    "    node2vec = Node2Vec(G, dimensions=dimensions, walk_length=walk_length, num_walks=num_walks, workers=4)\n",
    "    model = node2vec.fit(window=window, min_count=min_count, batch_words=batch_words)\n",
    "    embeddings = np.array([model.wv[str(n)] for n in G.nodes()])\n",
    "    np.save(os.path.join(embeddings_dir, 'node2vec.npy'), embeddings)"
   ]
  },
  {
   "cell_type": "code",
   "execution_count": null,
   "id": "90869dd8-e4a3-405b-b639-a626e2264bc7",
   "metadata": {},
   "outputs": [],
   "source": [
    "# Create and save DeepWalk embeddings\n",
    "def create_deepwalk_embeddings(G, num_walks, walk_length, vector_size, window, min_count, sg, workers, epochs, embeddings_dir):\n",
    "    walks = generate_random_walks(G, num_walks, walk_length)\n",
    "    walks = [[str(node) for node in walk] for walk in walks]\n",
    "    model = Word2Vec(sentences=walks, vector_size=vector_size, window=window, min_count=min_count, sg=sg, workers=workers, epochs=epochs)\n",
    "    node_ids = list(G.nodes())\n",
    "    embeddings_array = np.array([model.wv[str(node)] for node in node_ids])\n",
    "    np.save(os.path.join(embeddings_dir, 'deepwalk.npy'), embeddings_array)"
   ]
  },
  {
   "cell_type": "code",
   "execution_count": null,
   "id": "88c66b03-ebbb-4e6d-9692-c28565626168",
   "metadata": {},
   "outputs": [],
   "source": [
    "def main():\n",
    "    # Load data\n",
    "    attack_weak_range, edges_json = load_data(data_dir)\n",
    "\n",
    "    attack_range = attack_weak_range['attack']\n",
    "    weak_range = attack_weak_range['cwe']\n",
    "    n_nodes = attack_weak_range['n_nodes']\n",
    "    node_list = list(range(0, n_nodes))\n",
    "    edge_list = [(int(e[0]), int(e[1])) for e in edges_json]\n",
    "\n",
    "    # Create graph\n",
    "    G = nx.Graph()\n",
    "    G.add_edges_from(edge_list)\n",
    "\n",
    "    # Create and save node2vec embeddings\n",
    "    create_node2vec_embeddings(G, dimensions=64, walk_length=30, num_walks=100, window=10, min_count=1, batch_words=4, embeddings_dir=embeddings_dir)\n",
    "\n",
    "    # Create and save DeepWalk embeddings\n",
    "    create_deepwalk_embeddings(G, num_walks=200, walk_length=30, vector_size=256, window=5, min_count=0, sg=1, workers=4, epochs=10, embeddings_dir=embeddings_dir)\n"
   ]
  },
  {
   "cell_type": "code",
   "execution_count": null,
   "id": "6e4e1112-f2ab-4336-8eb5-132acecbd60c",
   "metadata": {},
   "outputs": [],
   "source": [
    "if __name__ == \"__main__\":\n",
    "    main()"
   ]
  },
  {
   "cell_type": "code",
   "execution_count": 2,
   "id": "53eb8628-69b0-4a76-b98e-88a437bde84d",
   "metadata": {},
   "outputs": [],
   "source": [
    "\n",
    "# attack_range = (0,203)\n",
    "# weak_range = (203,1136)\n",
    "# # Generate embeddings for both sets of nodes\n",
    "# attack_nodes = list(range(attack_range[0],attack_range[1]))\n",
    "# weakness_nodes = list(range(weak_range[0],weak_range[1]))\n",
    "# attack_embeddings = node2vec_emb[attack_nodes]\n",
    "# weakness_embeddings = node2vec_emb[weakness_nodes]"
   ]
  },
  {
   "cell_type": "code",
   "execution_count": 3,
   "id": "69c15498-eb70-4c39-9d5d-f454f671a807",
   "metadata": {},
   "outputs": [],
   "source": [
    "# # Compute cosine similarity between all pairs of nodes\n",
    "# weak_attack_matrix = cosine_similarity(weakness_embeddings, attack_embeddings)\n",
    "# # Compute cosine similarity between all pairs of nodes\n",
    "# attack_weak_matrix = cosine_similarity(attack_embeddings, weakness_embeddings)"
   ]
  },
  {
   "cell_type": "code",
   "execution_count": 4,
   "id": "46c57cc2-7de5-42ca-a9dd-4d18316e78be",
   "metadata": {},
   "outputs": [],
   "source": [
    "# import matplotlib.pyplot as plt\n",
    "# import matplotlib.colors as mcolors\n",
    "# def histogram2(attack_weak_matrix):\n",
    "#     # print(len(cosine_sim_pairs))\n",
    "#     # print(len(cosine_sim_pairs[0]))\n",
    "#     # for row in cosine_sim_pairs:\n",
    "#     #     print(row[0][1], row[1][1])\n",
    "#     #Extract the cosine similarity values from the filtered results\n",
    "#     #cosine_sim_values = [pair[1] for row in cosine_sim_pairs for pair in row[-30:]]\n",
    "#     cosine_sim_values=[]\n",
    "#     for i in range(len(attack_weak_matrix)):\n",
    "#         for j in range(len(attack_weak_matrix[0])):\n",
    "#             cosine_sim_values.append(attack_weak_matrix[i][j])\n",
    "#     #print(cosine_sim_values)\n",
    "#     # Define the bins for the histogram\n",
    "#     bins = np.arange(0, 1.1, 0.05)  # Bins from 0 to 1 with step size 0.1\n",
    "    \n",
    "#     # Create the histogram\n",
    "#     plt.hist(cosine_sim_values, bins=bins, edgecolor='black')\n",
    "    \n",
    "#     # Set the x-axis and y-axis labels\n",
    "#     plt.xlabel('Cosine Similarity')\n",
    "#     plt.ylabel('Frequency')\n",
    "    \n",
    "#     # Set the title of the histogram\n",
    "#     plt.title('Attack & Weak Positive')\n",
    "#     # plt.savefig(dir2+'/histogram_pos_t_40.png',dpi=300)\n",
    "#     # Show the plot\n",
    "#     plt.show()"
   ]
  },
  {
   "cell_type": "code",
   "execution_count": 5,
   "id": "c5aaeb72-c494-4ebb-9614-b434e202c717",
   "metadata": {},
   "outputs": [],
   "source": [
    "# histogram2(attack_weak_matrix)"
   ]
  },
  {
   "cell_type": "code",
   "execution_count": 6,
   "id": "207bcd1f-f9e0-4711-8d1d-3b4d31a9fc31",
   "metadata": {},
   "outputs": [],
   "source": [
    "# def get_anchor_pos_neg(positive_threshold,negative_threshold):\n",
    "#     anchor_pos_pair = []\n",
    "#     anchor_neg_pair = []\n",
    "#     # positive_threshold = 0.65  # Similarity threshold for positive pairs\n",
    "#     # negative_threshold = 0.45  # Similarity threshold for negative pairs\n",
    "#     for i, attack_node in enumerate(attack_nodes):\n",
    "#         for j, weakness_node in enumerate(weakness_nodes):\n",
    "#             if attack_weak_matrix[i, j] > positive_threshold:\n",
    "#                 anchor_pos_pair.append((attack_node,weakness_node, attack_weak_matrix[i, j]))\n",
    "#             if attack_weak_matrix[i, j] < negative_threshold:\n",
    "#                 anchor_neg_pair.append((attack_node,weakness_node, attack_weak_matrix[i, j]))\n",
    "            \n",
    "#     for i, weakness_node in enumerate(weakness_nodes):\n",
    "#         for j, attack_node in enumerate(attack_nodes):\n",
    "#             if weak_attack_matrix[i, j] > positive_threshold:\n",
    "#                 anchor_pos_pair.append((weakness_node,attack_node, weak_attack_matrix[i, j]))\n",
    "#             if weak_attack_matrix[i, j] < negative_threshold:\n",
    "#                 anchor_neg_pair.append((weakness_node,attack_node, weak_attack_matrix[i, j]))\n",
    "    \n",
    "#     anchor_pos_pair.sort(reverse=True, key=lambda x:x[2])\n",
    "#     anchor_neg_pair.sort(key=lambda x:x[2])\n",
    "#     print(len(anchor_pos_pair))\n",
    "#     print(len(anchor_neg_pair))\n",
    "#     anchor_pos_neg_triple = []\n",
    "#     anchor_for_neg = [pair[0] for pair in anchor_neg_pair]\n",
    "#     pos_pair = []\n",
    "#     neg_pair = []\n",
    "#     for anchor,pos,val in anchor_pos_pair:\n",
    "#         if(anchor in anchor_for_neg):\n",
    "#             idx = anchor_for_neg.index(anchor)\n",
    "#             anchor_pos_neg_triple.append((anchor,pos,anchor_neg_pair[idx][1]))\n",
    "#             pos_pair.append((pos,val))\n",
    "#             neg_pair.append((anchor_neg_pair[idx][1],anchor_neg_pair[idx][2]))\n",
    "#             anchor_for_neg.pop(idx)\n",
    "#             anchor_neg_pair.pop(idx)\n",
    "#     return anchor_pos_neg_triple"
   ]
  },
  {
   "cell_type": "code",
   "execution_count": 7,
   "id": "9ede4d0c-4af7-468a-a064-5789eab3e1b2",
   "metadata": {},
   "outputs": [],
   "source": [
    "# anchor_pos_neg_triple=get_anchor_pos_neg(positive_threshold=0.30,negative_threshold=0.15)"
   ]
  },
  {
   "cell_type": "code",
   "execution_count": 8,
   "id": "a2a5fa2f-df4b-4393-bd28-a4a6431956cd",
   "metadata": {},
   "outputs": [],
   "source": [
    "# ass = set()\n",
    "# ps=set()\n",
    "# ns=set()\n",
    "# for a,p,n in anchor_pos_neg_triple:\n",
    "#     ass.add(a)\n",
    "#     ps.add(p)\n",
    "#     ns.add(n)\n",
    "# print(len(ass))\n",
    "# print(len(ps))\n",
    "# print(len(ns))"
   ]
  },
  {
   "cell_type": "code",
   "execution_count": 9,
   "id": "ebf653e1-7f04-4f5e-b984-4b63951ee955",
   "metadata": {},
   "outputs": [],
   "source": [
    "# import pickle\n",
    "# with open(graph_path+'graph_features/anchor_pos_neg_triple_4_node2vec.npy', 'wb') as f:\n",
    "#     pickle.dump(anchor_pos_neg_triple, f)"
   ]
  },
  {
   "cell_type": "code",
   "execution_count": null,
   "id": "9baf63b5-75e2-4fac-a4ea-7c8d56543b26",
   "metadata": {},
   "outputs": [],
   "source": []
  },
  {
   "cell_type": "code",
   "execution_count": null,
   "id": "d55984fd-1eea-48ee-8330-1c4de04db939",
   "metadata": {},
   "outputs": [],
   "source": []
  },
  {
   "cell_type": "code",
   "execution_count": null,
   "id": "1b717363-ec34-4963-8553-db80667ffd12",
   "metadata": {},
   "outputs": [],
   "source": []
  }
 ],
 "metadata": {
  "kernelspec": {
   "display_name": "Python 3 (ipykernel)",
   "language": "python",
   "name": "python3"
  },
  "language_info": {
   "codemirror_mode": {
    "name": "ipython",
    "version": 3
   },
   "file_extension": ".py",
   "mimetype": "text/x-python",
   "name": "python",
   "nbconvert_exporter": "python",
   "pygments_lexer": "ipython3",
   "version": "3.8.19"
  }
 },
 "nbformat": 4,
 "nbformat_minor": 5
}
