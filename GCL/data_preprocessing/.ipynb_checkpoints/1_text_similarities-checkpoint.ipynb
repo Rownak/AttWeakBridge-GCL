{
 "cells": [
  {
   "cell_type": "code",
   "execution_count": 1,
   "id": "bb28029c-48e4-4adc-8829-e8fbf8b05fce",
   "metadata": {},
   "outputs": [],
   "source": [
    "import numpy as np\n",
    "import os\n",
    "import json\n",
    "import pickle\n",
    "import sys\n",
    "#base_dir = os.environ['AWEB_DIR']\n",
    "sys.path.append(\"../../\")\n",
    "import config"
   ]
  },
  {
   "cell_type": "code",
   "execution_count": 2,
   "id": "e9bc22fe-cf94-4ba0-bae5-02f25ba5cb1b",
   "metadata": {},
   "outputs": [],
   "source": [
    "models = [\"pt_SecRoBERTa\",\"SecRoBERTa\",\"pt_SecureBERT\",\"SecureBERT\",\"pt_gpt2-xl\",\"gpt2-xl\", \"pt_gpt2\",\"gpt2\"]\n",
    "result_dir = config.OUTPUT_DIR\n",
    "embeddings_dir = config.EMBEDDING_DIR\n",
    "data_dir = config.DATA_DIR\n",
    "model_name = models[4]\n",
    "text_emb_dir = embeddings_dir+model_name+\"/\"\n",
    "output_dir = result_dir+\"gcl_data/\"+model_name\n",
    "if not os.path.exists(output_dir):\n",
    "    os.makedirs(output_dir)\n",
    "\n",
    "# Assuming predefined weights are stored in a numpy array named 'predefined_embeddings1_weights'\n",
    "# text_embeddings = np.load(embeddings_dir+'deepwalk.npy')\n",
    "text_embeddings = np.load(text_emb_dir+'text_embeddings.npy')\n",
    "with open(data_dir+\"doc_id_to_emb_id.json\") as f:\n",
    "    doc_id_to_emb_id = json.load(f)\n",
    "with open(data_dir+\"emb_id_to_doc_id.json\") as f:\n",
    "    emb_id_to_doc_id = json.load(f)\n",
    "with open(data_dir+'attack_weak_range.json') as fp:\n",
    "    attack_weak_range = json.load(fp)"
   ]
  },
  {
   "cell_type": "code",
   "execution_count": 3,
   "id": "c6830509-c1c9-4e25-85f6-2aff3d66ea5d",
   "metadata": {},
   "outputs": [
    {
     "name": "stdout",
     "output_type": "stream",
     "text": [
      "text_embedding shape (2982, 128)\n",
      "id_to_pos len 2982\n",
      "pos_to_id len 2982\n"
     ]
    }
   ],
   "source": [
    "print(\"text_embedding shape\",text_embeddings.shape)\n",
    "print(\"id_to_pos len\",len(doc_id_to_emb_id))\n",
    "print(\"pos_to_id len\",len(emb_id_to_doc_id))"
   ]
  },
  {
   "cell_type": "code",
   "execution_count": 4,
   "id": "6e83b2fe-9877-440c-b5a1-e364972e08ca",
   "metadata": {},
   "outputs": [
    {
     "name": "stdout",
     "output_type": "stream",
     "text": [
      "[0, 2043]\n",
      "[2043, 2982]\n",
      "2982\n"
     ]
    }
   ],
   "source": [
    "attack_range = attack_weak_range['attack']\n",
    "weak_range = attack_weak_range['cwe']\n",
    "total_nodes = weak_range[1]\n",
    "print(attack_range)\n",
    "print(weak_range)\n",
    "print(total_nodes)\n"
   ]
  },
  {
   "cell_type": "code",
   "execution_count": 5,
   "id": "9343acb4-bc60-4d4e-afc6-74152e0e1964",
   "metadata": {},
   "outputs": [
    {
     "name": "stdout",
     "output_type": "stream",
     "text": [
      "(2982, 2982)\n"
     ]
    }
   ],
   "source": [
    "from sklearn.metrics.pairwise import cosine_similarity\n",
    "# Compute the cosine similarity matrix\n",
    "text_sim_matrix = cosine_similarity(text_embeddings)\n",
    "# np.save(output_dir+\"/text_sim_matrix.npy\", text_sim_matrix)\n",
    "np.save(output_dir+\"/deepwalk_sim_matrix.npy\", text_sim_matrix)\n",
    "\n",
    "# Verify the shape of the resulting cosine similarity matrix\n",
    "print(text_sim_matrix.shape)  # This should print (1136, 1136)"
   ]
  },
  {
   "cell_type": "code",
   "execution_count": 6,
   "id": "a90b5d63-e058-414b-b473-d6fda0c85eec",
   "metadata": {},
   "outputs": [],
   "source": [
    "# # Initialize an empty list to store the filtered results\n",
    "# attack_sorted_cos_sim = []\n",
    "# weak_sorted_cos_sim = []\n",
    "# # Iterate over the size in the cosine similarity matrix\n",
    "# for i in range(total_nodes):\n",
    "#     # Get the current row\n",
    "#     row = text_sim_matrix[i]\n",
    "    \n",
    "#     # Get the sorted indices in descending order\n",
    "#     sorted_indices = np.argsort(-row)\n",
    "    \n",
    "#     # Get the sorted cosine similarities\n",
    "#     sorted_similarities = row[sorted_indices]\n",
    "    \n",
    "#     # Combine the indices and similarities\n",
    "#     sorted_row = list(zip(sorted_indices, sorted_similarities))\n",
    "#     if(i<attack_range[1]):\n",
    "#         # Filter the sorted row to keep only the pairs with indices from 203 to 1135\n",
    "#         filtered_sorted_row = [pair for pair in sorted_row if weak_range[0] <= pair[0] < weak_range[1]]\n",
    "#         # Append the filtered sorted row to the results\n",
    "#         attack_sorted_cos_sim.append(filtered_sorted_row)\n",
    "#     else:\n",
    "#         # Filter the sorted row to keep only the pairs with indices from 0 to 202\n",
    "#         filtered_sorted_row = [pair for pair in sorted_row if attack_range[0] <= pair[0] < attack_range[1]]\n",
    "#         # Append the filtered sorted row to the results\n",
    "#         weak_sorted_cos_sim.append(filtered_sorted_row)"
   ]
  },
  {
   "cell_type": "code",
   "execution_count": 7,
   "id": "57206c0b-23f1-4b29-a57e-c61d0bc58901",
   "metadata": {},
   "outputs": [],
   "source": [
    "# Initialize an empty list to store the filtered results\n",
    "attack_sorted_cos_sim = []\n",
    "weak_sorted_cos_sim = []\n",
    "# Iterate over the size in the cosine similarity matrix\n",
    "for i in range(total_nodes):\n",
    "    # Get the current row\n",
    "    row = text_sim_matrix[i]\n",
    "    \n",
    "    # Get the sorted indices in descending order\n",
    "    sorted_indices = np.argsort(-row)\n",
    "    \n",
    "    # Get the sorted cosine similarities\n",
    "    sorted_similarities = row[sorted_indices]\n",
    "    \n",
    "    # Combine the indices and similarities\n",
    "    sorted_row = list(zip(sorted_indices, sorted_similarities))\n",
    "    if(i<attack_range[1]):\n",
    "        # Filter the sorted row to keep only the pairs with indices from   0 to 202\n",
    "        filtered_sorted_row = [pair for pair in sorted_row if attack_range[0] <= pair[0] < attack_range[1]]\n",
    "        # Append the filtered sorted row to the results\n",
    "        attack_sorted_cos_sim.append(filtered_sorted_row)\n",
    "    else:\n",
    "        # Filter the sorted row to keep only the pairs with indices from 203 to 1135\n",
    "        filtered_sorted_row = [pair for pair in sorted_row if weak_range[0] <= pair[0] < weak_range[1]]\n",
    "        # Append the filtered sorted row to the results\n",
    "        weak_sorted_cos_sim.append(filtered_sorted_row)"
   ]
  },
  {
   "cell_type": "code",
   "execution_count": 8,
   "id": "c08dc877-58fc-46fb-a449-043615babe32",
   "metadata": {},
   "outputs": [],
   "source": [
    "with open(output_dir+'/attack_text.pkl', 'wb') as file:\n",
    "    pickle.dump(attack_sorted_cos_sim, file)\n",
    "\n",
    "# with open(output_dir+'/attack_graph_deepwalk.pkl', 'wb') as file:\n",
    "#     pickle.dump(attack_sorted_cos_sim, file)"
   ]
  },
  {
   "cell_type": "code",
   "execution_count": 9,
   "id": "1c03aa73-7cdf-4da9-9e2a-4528d98f4325",
   "metadata": {},
   "outputs": [],
   "source": [
    "with open(output_dir+'/weak_text.pkl', 'wb') as file:\n",
    "    pickle.dump(weak_sorted_cos_sim, file)\n",
    "# with open(output_dir+'/weak_graph_deepwalk.pkl', 'wb') as file:\n",
    "#     pickle.dump(weak_sorted_cos_sim, file)"
   ]
  },
  {
   "cell_type": "code",
   "execution_count": null,
   "id": "ccfa9c38-5fe3-4895-a1ac-86a3f6598d9f",
   "metadata": {},
   "outputs": [],
   "source": [
    "# Analysis"
   ]
  },
  {
   "cell_type": "code",
   "execution_count": null,
   "id": "c7c07138-c9c5-42ed-aa05-af02151405a2",
   "metadata": {},
   "outputs": [],
   "source": [
    "print(output_dir)"
   ]
  },
  {
   "cell_type": "code",
   "execution_count": null,
   "id": "8f0a8ffb-399b-4985-b158-5a4212d573a9",
   "metadata": {},
   "outputs": [],
   "source": [
    "len(attack_sorted_cos_sim)"
   ]
  },
  {
   "cell_type": "code",
   "execution_count": null,
   "id": "bb35f700-0edf-40d2-b210-e7813285aa5f",
   "metadata": {},
   "outputs": [],
   "source": []
  }
 ],
 "metadata": {
  "kernelspec": {
   "display_name": "Python 3 (ipykernel)",
   "language": "python",
   "name": "python3"
  },
  "language_info": {
   "codemirror_mode": {
    "name": "ipython",
    "version": 3
   },
   "file_extension": ".py",
   "mimetype": "text/x-python",
   "name": "python",
   "nbconvert_exporter": "python",
   "pygments_lexer": "ipython3",
   "version": "3.8.19"
  }
 },
 "nbformat": 4,
 "nbformat_minor": 5
}
