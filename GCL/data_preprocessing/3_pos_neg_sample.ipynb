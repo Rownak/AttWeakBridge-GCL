{
 "cells": [
  {
   "cell_type": "code",
   "execution_count": 1,
   "id": "a2f13e35-4125-43a0-ad49-99b0e4386336",
   "metadata": {},
   "outputs": [],
   "source": [
    "import numpy as np\n",
    "import json\n",
    "from sklearn.metrics.pairwise import cosine_similarity\n",
    "# Approach1: top and bottom similar for each weak and attack\n",
    "# nodes: 1136\n",
    "# anchors: 15420\n",
    "# number of edges:\n",
    "# anchor_edges = 2077\n",
    "# positive_edges = 1356\n",
    "# negative_edges = 842\n",
    "# Approach2: using thresold pos=0.40, neg=0.2 random negative selection\n",
    "# nodes: 873\n",
    "# anchors: 30694\n",
    "# number of edges:\n",
    "# anchor_edges = 1412\n",
    "# positive_edges = 1425\n",
    "# negative_edges = 1013\n",
    "# Sample 3: using thresold pos=0.45, neg=0.2 random negative selection\n",
    "# nodes: 523\n",
    "# anchors: 14350\n",
    "# number of edges:\n",
    "# anchor_edges = 722\n",
    "# positive_edges = 703\n",
    "# negative_edges = 565\n",
    "# Sample 4: using thresold pos=0.40, neg=0.2 select anchors that present both in positive and negative.\n",
    "# nodes: 873\n",
    "# anchors: 12218\n",
    "# number of edges:\n",
    "# anchor_edges = 1412\n",
    "# positive_edges = 1065\n",
    "# negative_edges = 676"
   ]
  },
  {
   "cell_type": "code",
   "execution_count": 2,
   "id": "6391ea32-3b7d-4f8e-b2ef-f46a73d0b017",
   "metadata": {},
   "outputs": [],
   "source": [
    "models = [\"pretrained_SecBert\", \"SecBert_E5\", \"pretrained_SecureBert\",  \"SecureBert_E5\", \"pretrained_Gpt2\",\"Gpt2_E5\"]\n",
    "# models = [\"pretrained_SecBert\", \"SecBert\", \"pretrained_SecureBert\",  \"SecureBert\", \"pretrained_Gpt2\",\"Gpt2\"]\n",
    "#models = [\"pretrained_SecBert\",\"pretrained_SecureBert\",\"pretrained_Gpt2\"]\n",
    "current_model = models[4]\n",
    "margin1=1.0\n",
    "margin2=1.0\n",
    "# Define positive and negative pairs based on similarity\n",
    "\n",
    "dir_name = \"../../ics_cwe/\"+current_model+\"/\"\n",
    "# Assuming predefined weights are stored in a numpy array named 'predefined_embeddings1_weights'\n",
    "text_embeddings = np.load(dir_name+'data/all_embeddings.npy')\n",
    "with open('../../ics_cwe/id_to_pos.json') as fp:\n",
    "    id_to_pos = json.load(fp)\n",
    "with open('../../ics_cwe/pos_to_id.json') as fp:\n",
    "    pos_to_id = json.load(fp)"
   ]
  },
  {
   "cell_type": "code",
   "execution_count": 3,
   "id": "4dc84875-cf39-42b0-abb7-816ccb7df989",
   "metadata": {},
   "outputs": [],
   "source": [
    "# Placeholder function for generating text embeddings\n",
    "def get_text_embeddings(text_embeddings, nodes):\n",
    "    return [text_embeddings[node] for node in nodes]"
   ]
  },
  {
   "cell_type": "code",
   "execution_count": 4,
   "id": "20dcf661-51f8-412f-8905-08f083e352ca",
   "metadata": {},
   "outputs": [],
   "source": [
    "attack_range = (0,203)\n",
    "weak_range = (203,1136)"
   ]
  },
  {
   "cell_type": "code",
   "execution_count": 5,
   "id": "2129d2a5-001a-44ba-8d1b-0173be042b44",
   "metadata": {},
   "outputs": [],
   "source": [
    "# Generate embeddings for both sets of nodes\n",
    "attack_nodes = list(range(attack_range[0],attack_range[1]))\n",
    "weakness_nodes = list(range(weak_range[0],weak_range[1]))\n",
    "attack_embeddings = get_text_embeddings(text_embeddings, attack_nodes)\n",
    "weakness_embeddings = get_text_embeddings(text_embeddings, weakness_nodes)"
   ]
  },
  {
   "cell_type": "code",
   "execution_count": 6,
   "id": "e137ad65-e7b4-46f4-8291-50dded01d015",
   "metadata": {},
   "outputs": [],
   "source": [
    "# Compute cosine similarity between all pairs of nodes\n",
    "weak_attack_matrix = cosine_similarity(weakness_embeddings, attack_embeddings)\n",
    "# Compute cosine similarity between all pairs of nodes\n",
    "attack_weak_matrix = cosine_similarity(attack_embeddings, weakness_embeddings)"
   ]
  },
  {
   "cell_type": "code",
   "execution_count": 7,
   "id": "8275a1fb-9a99-44d2-89ea-1fafc7cd1f7f",
   "metadata": {},
   "outputs": [],
   "source": [
    "# Approach1: using top and bottom similar for each weak and attack"
   ]
  },
  {
   "cell_type": "code",
   "execution_count": null,
   "id": "28de2277-11ab-4905-9bf4-17974f24c787",
   "metadata": {},
   "outputs": [],
   "source": [
    "anchor_pos_neg_triple = []\n",
    "for i, attack_node in enumerate(attack_nodes):\n",
    "    # Get the similarity scores for the current attack node\n",
    "    sim_scores = attack_weak_matrix[i]\n",
    "    \n",
    "    # Get the indices of the 5 most similar and 5 least similar nodes\n",
    "    top5_sim_indices = np.argsort(sim_scores)[-30:]  # Most similar\n",
    "    bottom5_sim_indices = np.argsort(sim_scores)[:30]  # Least similar\n",
    "    \n",
    "    # Select the most similar positive nodes\n",
    "    # Select the least similar negative nodes\n",
    "    for j in range(len(top5_sim_indices)):\n",
    "        idx1 = top5_sim_indices[j]\n",
    "        idx2 = bottom5_sim_indices[j]\n",
    "        anchor_pos_neg_triple.append((attack_node, weakness_nodes[idx1], weakness_nodes[idx2]))\n",
    "for i, weak_node in enumerate(weakness_nodes):\n",
    "    # Get the similarity scores for the current attack node\n",
    "    sim_scores = weak_attack_matrix[i]\n",
    "    \n",
    "    # Get the indices of the 5 most similar and 5 least similar nodes\n",
    "    top5_sim_indices = np.argsort(sim_scores)[-10:]  # Most similar\n",
    "    bottom5_sim_indices = np.argsort(sim_scores)[:10]  # Least similar\n",
    "    \n",
    "    # Select the most similar positive nodes\n",
    "    # Select the least similar negative nodes\n",
    "    for j in range(len(top5_sim_indices)):\n",
    "        idx1 = top5_sim_indices[j]\n",
    "        idx2 = bottom5_sim_indices[j]\n",
    "        anchor_pos_neg_triple.append((weak_node, attack_nodes[idx1], attack_nodes[idx2]))"
   ]
  },
  {
   "cell_type": "code",
   "execution_count": null,
   "id": "d05b6c41-9932-46ec-b3f5-97da7dc7b872",
   "metadata": {},
   "outputs": [],
   "source": [
    "len(anchor_pos_neg_triple)"
   ]
  },
  {
   "cell_type": "code",
   "execution_count": null,
   "id": "c920c8b1-9427-4bbc-b2cb-5458280ad668",
   "metadata": {},
   "outputs": [],
   "source": [
    "import pickle\n",
    "with open(dir_name+'data/anchor_pos_neg_triple_1.pkl', 'wb') as f:\n",
    "    pickle.dump(anchor_pos_neg_triple, f)"
   ]
  },
  {
   "cell_type": "code",
   "execution_count": null,
   "id": "fec39a83-f0ca-40d0-bf61-717557138822",
   "metadata": {},
   "outputs": [],
   "source": [
    "# Approach2: using thresold. "
   ]
  },
  {
   "cell_type": "code",
   "execution_count": 14,
   "id": "d68023e5-f0f8-43bf-9f20-7ecc18cda337",
   "metadata": {},
   "outputs": [
    {
     "name": "stdout",
     "output_type": "stream",
     "text": [
      "59988\n",
      "25082\n"
     ]
    }
   ],
   "source": [
    "import random\n",
    "from collections import defaultdict\n",
    "anchor_pos_pair = []\n",
    "anchor_neg_pair = []\n",
    "positive_threshold = 0.65  # Similarity threshold for positive pairs\n",
    "negative_threshold = 0.45  # Similarity threshold for negative pairs\n",
    "for i, attack_node in enumerate(attack_nodes):\n",
    "    for j, weakness_node in enumerate(weakness_nodes):\n",
    "        if attack_weak_matrix[i, j] >= positive_threshold:\n",
    "            anchor_pos_pair.append((attack_node,weakness_node, attack_weak_matrix[i, j]))\n",
    "        if attack_weak_matrix[i, j] <= negative_threshold:\n",
    "            anchor_neg_pair.append((attack_node,weakness_node, attack_weak_matrix[i, j]))\n",
    "        \n",
    "for i, weakness_node in enumerate(weakness_nodes):\n",
    "    for j, attack_node in enumerate(attack_nodes):\n",
    "        if weak_attack_matrix[i, j] >= positive_threshold:\n",
    "            anchor_pos_pair.append((weakness_node,attack_node, weak_attack_matrix[i, j]))\n",
    "        if weak_attack_matrix[i, j] <= negative_threshold:\n",
    "            anchor_neg_pair.append((weakness_node,attack_node, weak_attack_matrix[i, j]))\n",
    "\n",
    "anchor_pos_pair.sort(reverse=True, key=lambda x:x[2])\n",
    "anchor_neg_pair.sort(key=lambda x:x[2])\n",
    "print(len(anchor_pos_pair))\n",
    "print(len(anchor_neg_pair))\n",
    "anchor_pos_neg_triple = []\n",
    "anchor_for_neg = [pair[0] for pair in anchor_neg_pair]\n",
    "pos_pair = []\n",
    "neg_pair = []\n",
    "for anchor,pos,val in anchor_pos_pair:\n",
    "    if(anchor in anchor_for_neg):\n",
    "        idx = anchor_for_neg.index(anchor)\n",
    "        anchor_pos_neg_triple.append((anchor,pos,anchor_neg_pair[idx][1]))\n",
    "        pos_pair.append((pos,val))\n",
    "        neg_pair.append((anchor_neg_pair[idx][1],anchor_neg_pair[idx][2]))\n",
    "        anchor_for_neg.pop(idx)\n",
    "        anchor_neg_pair.pop(idx)\n",
    "\n",
    "\n",
    "\n",
    "# anchor_dict = defaultdict(list)\n",
    "# anchor_pos_neg_triple = []\n",
    "# pos_pair = []\n",
    "# neg_pair = []\n",
    "# for anchor,neg,val in anchor_neg_pair:\n",
    "#     anchor_dict[anchor].append((anchor,neg,val))\n",
    "# for anchor,pos,val in anchor_pos_pair:\n",
    "#     if(anchor in anchor_dict.keys()):\n",
    "#         idx = random.randrange(0, len(anchor_dict[anchor]))\n",
    "#         anchor_pos_neg_triple.append((anchor,pos,anchor_dict[anchor][idx][1]))\n",
    "#         pos_pair.append((pos,val))\n",
    "#         neg_pair.append((anchor_dict[anchor][idx][1],anchor_dict[anchor][idx][2]))\n",
    "#         #anchor_dict[anchor].pop(idx)"
   ]
  },
  {
   "cell_type": "code",
   "execution_count": 15,
   "id": "260e427b-bd0b-40f9-8d46-8b89c57c4ea3",
   "metadata": {},
   "outputs": [
    {
     "name": "stdout",
     "output_type": "stream",
     "text": [
      "843\n",
      "572\n",
      "295\n"
     ]
    }
   ],
   "source": [
    "ass = set()\n",
    "ps=set()\n",
    "ns=set()\n",
    "for a,p,n in anchor_pos_neg_triple:\n",
    "    ass.add(a)\n",
    "    ps.add(p)\n",
    "    ns.add(n)\n",
    "print(len(ass))\n",
    "print(len(ps))\n",
    "print(len(ns))\n"
   ]
  },
  {
   "cell_type": "code",
   "execution_count": 16,
   "id": "79c74261-63ee-48fd-bb2c-28ca567a1fc2",
   "metadata": {},
   "outputs": [],
   "source": [
    "import pickle\n",
    "with open(dir_name+'data/anchor_pos_neg_triple_4.pkl', 'wb') as f:\n",
    "    pickle.dump(anchor_pos_neg_triple, f)"
   ]
  },
  {
   "cell_type": "code",
   "execution_count": null,
   "id": "3d0ddb12-7f75-43ff-8167-456cb53d0995",
   "metadata": {},
   "outputs": [],
   "source": [
    "dir2 = '../data1/node_similarities/'+current_model\n",
    "\n",
    "import matplotlib.pyplot as plt\n",
    "import matplotlib.colors as mcolors\n",
    "def histogram2(all_pairs):\n",
    "    # print(len(cosine_sim_pairs))\n",
    "    # print(len(cosine_sim_pairs[0]))\n",
    "    # for row in cosine_sim_pairs:\n",
    "    #     print(row[0][1], row[1][1])\n",
    "    #Extract the cosine similarity values from the filtered results\n",
    "    #cosine_sim_values = [pair[1] for row in cosine_sim_pairs for pair in row[-30:]]\n",
    "    cosine_sim_values = [pair[1] for pair in all_pairs]\n",
    "    \n",
    "    # Define the bins for the histogram\n",
    "    bins = np.arange(0, 1.1, 0.1)  # Bins from 0 to 1 with step size 0.1\n",
    "    \n",
    "    # Create the histogram\n",
    "    plt.hist(cosine_sim_values, bins=bins, edgecolor='black')\n",
    "    \n",
    "    # Set the x-axis and y-axis labels\n",
    "    plt.xlabel('Cosine Similarity')\n",
    "    plt.ylabel('Frequency')\n",
    "    \n",
    "    # Set the title of the histogram\n",
    "    plt.title('Attack & Weak Positive')\n",
    "    plt.savefig(dir2+'/histogram_pos_t_40.png',dpi=300)\n",
    "    # Show the plot\n",
    "    plt.show()"
   ]
  },
  {
   "cell_type": "code",
   "execution_count": null,
   "id": "6e819b0e-9a29-457d-a202-9ef32f650d33",
   "metadata": {},
   "outputs": [],
   "source": [
    "histogram2(pos_pair)"
   ]
  },
  {
   "cell_type": "code",
   "execution_count": null,
   "id": "2a26753f-5036-463f-9e5c-45bd1c59858a",
   "metadata": {},
   "outputs": [],
   "source": [
    "histogram2(neg_pair)"
   ]
  },
  {
   "cell_type": "code",
   "execution_count": null,
   "id": "018b826b-37d6-4e54-94e6-3754a31c5fc4",
   "metadata": {},
   "outputs": [],
   "source": [
    "import pickle\n",
    "with open('../data/pos_neg_sample/anchor_pos_neg_triple_4.pkl', 'wb') as f:\n",
    "    pickle.dump(anchor_pos_neg_triple, f)"
   ]
  },
  {
   "cell_type": "code",
   "execution_count": null,
   "id": "2d5bcf0d-fbee-4eb6-b3cb-565dccf9ea3a",
   "metadata": {},
   "outputs": [],
   "source": [
    "with open('../data/pos_neg_sample/anchor_pos_neg_triple_1.pkl', 'rb') as f:\n",
    "    x=pickle.load(f)"
   ]
  },
  {
   "cell_type": "code",
   "execution_count": null,
   "id": "e445560f-c681-4d35-85ca-c81de030b45a",
   "metadata": {},
   "outputs": [],
   "source": []
  },
  {
   "cell_type": "code",
   "execution_count": null,
   "id": "bab2adb3-4a5e-438b-bbaa-f9a4f569a21e",
   "metadata": {},
   "outputs": [],
   "source": []
  }
 ],
 "metadata": {
  "kernelspec": {
   "display_name": "Python 3 (ipykernel)",
   "language": "python",
   "name": "python3"
  },
  "language_info": {
   "codemirror_mode": {
    "name": "ipython",
    "version": 3
   },
   "file_extension": ".py",
   "mimetype": "text/x-python",
   "name": "python",
   "nbconvert_exporter": "python",
   "pygments_lexer": "ipython3",
   "version": "3.8.19"
  }
 },
 "nbformat": 4,
 "nbformat_minor": 5
}
