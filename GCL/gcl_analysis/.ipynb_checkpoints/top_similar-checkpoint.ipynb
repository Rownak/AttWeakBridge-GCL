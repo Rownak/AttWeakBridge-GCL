{
 "cells": [
  {
   "cell_type": "code",
   "execution_count": 1,
   "id": "f835838c-f90f-4e17-8519-23a9383c7e25",
   "metadata": {},
   "outputs": [],
   "source": [
    "import numpy as np\n",
    "from sklearn.metrics.pairwise import cosine_similarity\n"
   ]
  },
  {
   "cell_type": "code",
   "execution_count": 2,
   "id": "7d52dd65-b68f-4804-8ac8-c457dab90dba",
   "metadata": {},
   "outputs": [],
   "source": [
    "dir_name = \"../ics_cwe/\"\n",
    "models = [\"pretrained_SecBert\", \"SecBert_E5\", \"pretrained_SecureBert\",  \"SecureBert_E5\", \"pretrained_Gpt2\",\"Gpt2_E5\"]\n",
    "text_embeddings = []\n",
    "our_embeddings = []\n",
    "text_matrix = []\n",
    "our_emb_matrix = []\n",
    "for model in models:\n",
    "    text_embeddings.append(np.load(dir_name+model+\"/data/all_embeddings.npy\"))\n",
    "    our_embeddings.append(np.load(dir_name+model+\"/data/our_embeddings.npy\"))\n",
    "    text_matrix.append(cosine_similarity(text_embeddings[-1]))\n",
    "    our_emb_matrix.append(cosine_similarity(our_embeddings[-1]))"
   ]
  },
  {
   "cell_type": "code",
   "execution_count": 3,
   "id": "5effa27c-10d2-4d01-9b73-ed669b4aba85",
   "metadata": {},
   "outputs": [
    {
     "data": {
      "text/plain": [
       "(1136, 1136)"
      ]
     },
     "execution_count": 3,
     "metadata": {},
     "output_type": "execute_result"
    }
   ],
   "source": [
    "text_matrix[0].shape"
   ]
  },
  {
   "cell_type": "code",
   "execution_count": 4,
   "id": "9612aa21-63cb-450b-a75e-b0ed4af4392a",
   "metadata": {},
   "outputs": [
    {
     "data": {
      "text/plain": [
       "(1136, 1136)"
      ]
     },
     "execution_count": 4,
     "metadata": {},
     "output_type": "execute_result"
    }
   ],
   "source": [
    "our_emb_matrix[0].shape"
   ]
  },
  {
   "cell_type": "code",
   "execution_count": 5,
   "id": "531cdd3f-206d-4fdb-9c1d-e0eb074430ae",
   "metadata": {},
   "outputs": [],
   "source": [
    "weakness_hop_sim_matrix = np.load('../ics_cwe/weakness_hop_sim_matrix.npy')\n",
    "attack_hop_sim_matrix = np.load('../ics_cwe/attack_hop_sim_matrix.npy')"
   ]
  },
  {
   "cell_type": "code",
   "execution_count": 6,
   "id": "97c91d07-9401-4b39-8840-113221e056a6",
   "metadata": {},
   "outputs": [],
   "source": [
    "import numpy as np\n",
    "def top_cosine_sim(cos_mat1):\n",
    "    # Example cosine similarity matrix\n",
    "    cosine_matrix = cos_mat1\n",
    "    \n",
    "    # Get the shape of the matrix\n",
    "    N = cosine_matrix.shape[0]\n",
    "    \n",
    "    # Flatten the matrix while keeping track of the indices\n",
    "    flattened_indices = np.argsort(cosine_matrix, axis=None)[::-1]\n",
    "    \n",
    "    # Convert the flattened indices back to row and column indices\n",
    "    row_indices, col_indices = np.unravel_index(flattened_indices, (N, N))\n",
    "    \n",
    "    # Pair the row and column indices with their corresponding values\n",
    "    sorted_pairs = [(row_indices[i], col_indices[i], cosine_matrix[row_indices[i], col_indices[i]]) \n",
    "                    for i in range(len(flattened_indices))]\n",
    "    \n",
    "    # Filter out pairs where the row index is greater than or equal to the column index to avoid duplicates\n",
    "    # and exclude the diagonal elements (where row index == column index)\n",
    "    # filtered_sorted_pairs = [(row, col, value) for row, col, value in sorted_pairs if row < col]\n",
    "    filtered_sorted_pairs = [(row, col) for row, col, value in sorted_pairs if (row < 203 and col>=203)]\n",
    "    \n",
    "    # # Print the sorted pairs\n",
    "    # count = 0\n",
    "    # for row, col, value in filtered_sorted_pairs:\n",
    "    #     print(f\"({row}, {col}) -> {value}\")\n",
    "    #     count+=1\n",
    "    #     if(count>10):\n",
    "    #         break\n",
    "    return filtered_sorted_pairs"
   ]
  },
  {
   "cell_type": "code",
   "execution_count": 7,
   "id": "a5ffb63e-589a-4a63-8737-caf76dc858ff",
   "metadata": {},
   "outputs": [],
   "source": [
    "text_sorted_pairs = []\n",
    "for i in range(len(models)):\n",
    "    text_sorted_pairs.append(top_cosine_sim(text_matrix[i]))"
   ]
  },
  {
   "cell_type": "code",
   "execution_count": 8,
   "id": "59d516ba-af72-44ab-91a9-4c2769c93458",
   "metadata": {},
   "outputs": [],
   "source": [
    "\n",
    "our_sorted_pairs = []\n",
    "for i in range(len(models)):\n",
    "    our_sorted_pairs.append(top_cosine_sim(our_emb_matrix[i]))"
   ]
  },
  {
   "cell_type": "code",
   "execution_count": 393,
   "id": "b35baca1-3ab3-46bc-9b1b-ff0d34262aed",
   "metadata": {},
   "outputs": [
    {
     "data": {
      "text/plain": [
       "[(148, 974),\n",
       " (148, 373),\n",
       " (147, 526),\n",
       " (104, 244),\n",
       " (103, 792),\n",
       " (143, 862),\n",
       " (177, 797),\n",
       " (103, 585),\n",
       " (106, 899),\n",
       " (64, 1024),\n",
       " (132, 540),\n",
       " (106, 550),\n",
       " (104, 437),\n",
       " (105, 391),\n",
       " (170, 1055),\n",
       " (106, 548),\n",
       " (71, 855),\n",
       " (132, 1105),\n",
       " (143, 244),\n",
       " (103, 848)]"
      ]
     },
     "execution_count": 393,
     "metadata": {},
     "output_type": "execute_result"
    }
   ],
   "source": [
    "text_sorted_pairs[0][500:520]"
   ]
  },
  {
   "cell_type": "code",
   "execution_count": null,
   "id": "40cf9ae3-840e-43da-89d1-72b954561ef6",
   "metadata": {},
   "outputs": [],
   "source": []
  },
  {
   "cell_type": "code",
   "execution_count": 9,
   "id": "66c02113-d1df-4cda-a0a1-ce95cd56004c",
   "metadata": {},
   "outputs": [],
   "source": [
    "import json\n",
    "with open('../ics_cwe/id_to_pos.json') as fp:\n",
    "    id_to_pos = json.load(fp)\n",
    "with open('../ics_cwe/pos_to_id.json') as fp:\n",
    "    pos_to_id = json.load(fp)"
   ]
  },
  {
   "cell_type": "code",
   "execution_count": 10,
   "id": "4e50488b-1e43-4ea2-b75c-7eb4f5cf5ee3",
   "metadata": {},
   "outputs": [],
   "source": [
    "import json\n",
    "import networkx as nx\n",
    "\n",
    "# Load the JSON data again\n",
    "with open('../../graph_network/graph_0.json', 'r') as file:\n",
    "    a_graph_data = json.load(file)"
   ]
  },
  {
   "cell_type": "code",
   "execution_count": 11,
   "id": "09cb6a6b-1c70-4bb4-ab51-e75097fb6a1b",
   "metadata": {},
   "outputs": [],
   "source": [
    "with open('../../graph_network/graph_Weakness.json') as f:\n",
    "    w_graph_data = json.load(f)"
   ]
  },
  {
   "cell_type": "code",
   "execution_count": 12,
   "id": "b31e2f8d-17d3-4f71-a9ca-85ea8802db4e",
   "metadata": {},
   "outputs": [],
   "source": [
    "def get_index_id_mapping(graph, isAttack):\n",
    "    mapping = {}\n",
    "    id_tag = 'ID'\n",
    "    if(isAttack):\n",
    "        id_tag = 'id'\n",
    "    for i in range(len(graph['nodes'])):\n",
    "        mapping[graph['nodes'][i][id_tag]]=i\n",
    "    return mapping"
   ]
  },
  {
   "cell_type": "code",
   "execution_count": 13,
   "id": "49a1c593-69a0-4eed-883a-f1caa7922ece",
   "metadata": {},
   "outputs": [],
   "source": [
    "attack_map = get_index_id_mapping(a_graph_data, True)\n",
    "weakness_map = get_index_id_mapping(w_graph_data, False)"
   ]
  },
  {
   "cell_type": "code",
   "execution_count": 14,
   "id": "285522d4-35fd-4707-a4db-320371f08943",
   "metadata": {},
   "outputs": [],
   "source": [
    "# 138-[622-619]\n",
    "# 64-[689-688]"
   ]
  },
  {
   "cell_type": "code",
   "execution_count": 15,
   "id": "a3d14ffd-a2fe-442b-ade5-5725bdeffb3e",
   "metadata": {},
   "outputs": [
    {
     "data": {
      "text/plain": [
       "419"
      ]
     },
     "execution_count": 15,
     "metadata": {},
     "output_type": "execute_result"
    }
   ],
   "source": [
    "weakness_map[pos_to_id['622']]"
   ]
  },
  {
   "cell_type": "code",
   "execution_count": 16,
   "id": "40978571-24e1-4e21-b04f-29e4fd478f41",
   "metadata": {},
   "outputs": [],
   "source": [
    "def getConnectedWeak(w_pos):\n",
    "    w_id = pos_to_id[str(w_pos)]\n",
    "    # print(w_id)\n",
    "    res_set = set()\n",
    "    for i in range(len(w_graph_data['links'])):\n",
    "        \n",
    "        if(w_graph_data['links'][i]['target']==w_id):\n",
    "            # print(w_graph_data['links'][i]['source'])\n",
    "            res_set.add(id_to_pos[w_graph_data['links'][i]['source']])\n",
    "        if(w_graph_data['links'][i]['source']==w_id):\n",
    "            # print(w_graph_data['links'][i]['target'])\n",
    "            res_set.add(id_to_pos[w_graph_data['links'][i]['target']])\n",
    "    return res_set"
   ]
  },
  {
   "cell_type": "code",
   "execution_count": 17,
   "id": "a9803721-9b1d-4a31-8a2b-8659ea327ea1",
   "metadata": {},
   "outputs": [],
   "source": [
    "# getConnectedWeak(203)"
   ]
  },
  {
   "cell_type": "code",
   "execution_count": null,
   "id": "f0648e8a-4a25-48bc-ad02-7c719c9358b5",
   "metadata": {},
   "outputs": [],
   "source": []
  },
  {
   "cell_type": "code",
   "execution_count": 18,
   "id": "b1d1a89c-3209-44ac-a631-1b5974915f8f",
   "metadata": {},
   "outputs": [],
   "source": [
    "def getTopNeighborPos(text_sorted_pairs,our_sorted_pairs,model,k=5):\n",
    "    position_in_text = []\n",
    "    position_in_our = []\n",
    "\n",
    "    # Store the sorted rows to avoid recomputing them\n",
    "    our_sorted_rows = {}\n",
    "    text_sorted_rows = {}\n",
    "\n",
    "    intersect_pairs = list(set(text_sorted_pairs[model][:k])& set(our_sorted_pairs[model][:k]))\n",
    "    \n",
    "    #for a, w in intersect_pairs:\n",
    "    for a, w in intersect_pairs:\n",
    "        w_set = list(getConnectedWeak(w))\n",
    "        our_pos_sum = 0\n",
    "        text_pos_sum = 0\n",
    "        \n",
    "        for wneigh in w_set:\n",
    "            # Cache the sorted rows to avoid recomputation\n",
    "            if wneigh not in our_sorted_rows:\n",
    "                our_sorted_rows[wneigh] = np.argsort(our_emb_matrix[model][wneigh][:203])[::-1]\n",
    "            if wneigh not in text_sorted_rows:\n",
    "                text_sorted_rows[wneigh] = np.argsort(text_matrix[model][wneigh][:203])[::-1]\n",
    "            \n",
    "            our_sort = our_sorted_rows[wneigh]\n",
    "            text_sort = text_sorted_rows[wneigh]\n",
    "\n",
    "            our_pos = np.where(our_sort == a)[0][0]\n",
    "            text_pos = np.where(text_sort == a)[0][0]\n",
    "\n",
    "            our_pos_sum += our_pos\n",
    "            text_pos_sum += text_pos\n",
    "\n",
    "        position_in_our.append(our_pos_sum / len(w_set))\n",
    "        position_in_text.append(text_pos_sum / len(w_set))\n",
    "\n",
    "    return position_in_our, position_in_text\n",
    "        "
   ]
  },
  {
   "cell_type": "code",
   "execution_count": 522,
   "id": "50795682-35aa-47d5-b52d-d1fc5ecdf665",
   "metadata": {},
   "outputs": [],
   "source": [
    "position_in_our, position_in_text = getTopNeighborPos(text_sorted_pairs,our_sorted_pairs,5,k=1000)"
   ]
  },
  {
   "cell_type": "code",
   "execution_count": 523,
   "id": "e4513e7d-8c5e-4011-959d-a796d35d63f1",
   "metadata": {},
   "outputs": [
    {
     "data": {
      "text/plain": [
       "189"
      ]
     },
     "execution_count": 523,
     "metadata": {},
     "output_type": "execute_result"
    }
   ],
   "source": [
    "len(position_in_our)"
   ]
  },
  {
   "cell_type": "code",
   "execution_count": 524,
   "id": "fb88633c-a0f8-422e-bfa5-9784090ebbff",
   "metadata": {},
   "outputs": [],
   "source": [
    "import numpy as np\n",
    "import matplotlib.pyplot as plt\n",
    "\n",
    "# Function to compute medians for specified ranges\n",
    "def compute_medians(data, range_size):\n",
    "    medians = []\n",
    "    for i in range(0, len(data), range_size):\n",
    "        median = np.mean(data[i:i + range_size])\n",
    "        medians.append(median)\n",
    "    return medians\n",
    "\n",
    "def plot_pos_comparison(position_in_our, position_in_text):\n",
    "    # Dummy data for demonstration purposes (replace with actual data)\n",
    "    # Define range size\n",
    "    range_size = 20\n",
    "    \n",
    "    # Compute medians\n",
    "    medians_in_our = compute_medians(position_in_our, range_size)\n",
    "    medians_in_text = compute_medians(position_in_text, range_size)\n",
    "    num_ranges = len(medians_in_our)\n",
    "    range_labels = [f'{i*range_size}-{(i+1)*range_size}' for i in range(num_ranges)]\n",
    "    # Plotting the data\n",
    "    plt.figure(figsize=(5, 3))\n",
    "    plt.plot(medians_in_our, label='Mean Ranking by AWEB F. Gpt2', marker='o')\n",
    "    plt.plot(medians_in_text, label='Mean Ranking by Text Embd. F. Gpt2', marker='x')\n",
    "    \n",
    "    # Adding titles and labels\n",
    "    #plt.title('Median Comparison of Positions in Our Embedding and Text Embedding')\n",
    "    plt.xlabel('Top K att&ck-weakness pairs')\n",
    "    plt.ylabel('Mean Ranking Position')\n",
    "    plt.xticks(ticks=range(num_ranges), labels=range_labels, rotation=45)\n",
    "    plt.legend()\n",
    "    plt.grid(True)\n",
    "    plt.savefig(dir_name+\"plots/mean_ranking_secureBert.pdf\", dpi=300, bbox_inches='tight')\n",
    "    # Show the plot\n",
    "    plt.show()"
   ]
  },
  {
   "cell_type": "code",
   "execution_count": 525,
   "id": "b3665f37-a275-496a-8b88-6c8a11719edc",
   "metadata": {},
   "outputs": [
    {
     "data": {
      "image/png": "[encoded data removed]",
      "text/plain": [
       "<Figure size 500x300 with 1 Axes>"
      ]
     },
     "metadata": {},
     "output_type": "display_data"
    }
   ],
   "source": [
    "plot_pos_comparison(position_in_our, position_in_text)"
   ]
  },
  {
   "cell_type": "code",
   "execution_count": 80,
   "id": "77938058-a348-4a17-bc83-fea7998826b1",
   "metadata": {},
   "outputs": [
    {
     "name": "stdout",
     "output_type": "stream",
     "text": [
      "1004\n",
      "276\n",
      "276\n",
      "277\n",
      "278\n",
      "279\n",
      "281\n",
      "281\n",
      "285\n",
      "668\n",
      "766\n"
     ]
    }
   ],
   "source": [
    "for i in range(len(w_graph_data['links'])):\n",
    "    if(w_graph_data['links'][i]['target']=='732'):\n",
    "        print(w_graph_data['links'][i]['source'])\n",
    "    if(w_graph_data['links'][i]['source']=='732'):\n",
    "        print(w_graph_data['links'][i]['target'])"
   ]
  },
  {
   "cell_type": "code",
   "execution_count": 19,
   "id": "4431ab89-8b6b-4737-921c-990bfbd0ee20",
   "metadata": {},
   "outputs": [
    {
     "data": {
      "text/plain": [
       "{'modified': '2023-03-09T18:38:51.471Z',\n",
       " 'name': 'Network Sniffing',\n",
       " 'description': 'Network sniffing is the practice of using a network interface on a computer system to monitor or capture information (Citation: Enterprise ATT&CK January 2018) regardless of whether it is the specified destination for the information. \\n\\nAn adversary may attempt to sniff the traffic to gain information about the target. This information can vary in the level of importance. Relatively unimportant information is general communications to and from machines.  Relatively important information would be login information. User credentials may be sent over an unencrypted protocol, such as Telnet, that can be captured and obtained through network packet analysis. \\n\\nIn addition, ARP and Domain Name Service (DNS) poisoning can be used to capture credentials to websites, proxies, and internal systems by redirecting traffic to an adversary.',\n",
       " 'kill_chain_phases': [{'kill_chain_name': 'mitre-ics-attack',\n",
       "   'phase_name': 'discovery'}],\n",
       " 'x_mitre_attack_spec_version': '2.1.0',\n",
       " 'x_mitre_deprecated': False,\n",
       " 'x_mitre_detection': '',\n",
       " 'x_mitre_domains': ['ics-attack'],\n",
       " 'x_mitre_is_subtechnique': False,\n",
       " 'x_mitre_modified_by_ref': 'identity--c78cb6e5-0c4b-4611-8297-d1b8b55e40b5',\n",
       " 'x_mitre_platforms': ['Field Controller/RTU/PLC/IED'],\n",
       " 'x_mitre_version': '1.0',\n",
       " 'x_mitre_data_sources': ['Process: Process Creation',\n",
       "  'Command: Command Execution'],\n",
       " 'type': 'attack-pattern',\n",
       " 'id': 'attack-pattern--38213338-1aab-479d-949b-c81b66ccca5c',\n",
       " 'created': '2020-05-21T17:43:26.506Z',\n",
       " 'created_by_ref': 'identity--c78cb6e5-0c4b-4611-8297-d1b8b55e40b5',\n",
       " 'revoked': False,\n",
       " 'external_references': [{'source_name': 'mitre-attack',\n",
       "   'url': 'https://attack.mitre.org/techniques/T0842',\n",
       "   'external_id': 'T0842'},\n",
       "  {'source_name': 'Enterprise ATT&CK January 2018',\n",
       "   'description': 'Enterprise ATT&CK 2018, January 11 Network Sniffing Retrieved. 2018/05/17 ',\n",
       "   'url': 'https://attack.mitre.org/wiki/Technique/T1040'}],\n",
       " 'object_marking_refs': ['marking-definition--fa42a846-8d90-4e51-bc29-71d5b4802168']}"
      ]
     },
     "execution_count": 19,
     "metadata": {},
     "output_type": "execute_result"
    }
   ],
   "source": [
    "a_graph_data['nodes'][attack_map[pos_to_id['64']]]"
   ]
  },
  {
   "cell_type": "code",
   "execution_count": 21,
   "id": "f847bf12-330e-471a-8466-7a3f6aeb34bb",
   "metadata": {},
   "outputs": [
    {
     "data": {
      "text/plain": [
       "{'ID': '291',\n",
       " 'Name': 'Reliance on IP Address for Authentication',\n",
       " 'Abstraction': 'Variant',\n",
       " 'Structure': 'Simple',\n",
       " 'Status': 'Incomplete',\n",
       " 'Description': 'The product uses an IP address for authentication.',\n",
       " 'Extended_Description': 'IP addresses can be easily spoofed. Attackers can forge the source IP address of the packets they send, but response packets will return to the forged IP address. To see the response packets, the attacker has to sniff the traffic between the victim machine and the forged IP address. In order to accomplish the required sniffing, attackers typically attempt to locate themselves on the same subnet as the victim machine. Attackers may be able to circumvent this requirement by using source routing, but source routing is disabled across much of the Internet today. In summary, IP address verification can be a useful part of an authentication scheme, but it should not be the single factor required for authentication.',\n",
       " 'Related_Weaknesses': [{'Nature': 'ChildOf',\n",
       "   'CWE_ID': '290',\n",
       "   'View_ID': '1000',\n",
       "   'Ordinal': 'Primary'},\n",
       "  {'Nature': 'ChildOf', 'CWE_ID': '923', 'View_ID': '1000'},\n",
       "  {'Nature': 'ChildOf', 'CWE_ID': '471', 'View_ID': '1000'}],\n",
       " 'Likelihood_Of_Exploit': 'High',\n",
       " 'Mapping_Notes': ['Allowed',\n",
       "  'This CWE entry is at the Variant level of abstraction, which is a preferred level of abstraction for mapping to the root causes of vulnerabilities.',\n",
       "  \"Carefully read both the name and description to ensure that this mapping is an appropriate fit. Do not try to 'force' a mapping to a lower-level Base/Variant simply to comply with this preferred level of abstraction.\"],\n",
       " 'Content_History': ['Trusting Self-reported IP Address']}"
      ]
     },
     "execution_count": 21,
     "metadata": {},
     "output_type": "execute_result"
    }
   ],
   "source": [
    "w_graph_data['nodes'][weakness_map[pos_to_id['689']]]"
   ]
  },
  {
   "cell_type": "code",
   "execution_count": 66,
   "id": "36ab4a13-9328-460e-b190-64f9b1ad8cfb",
   "metadata": {},
   "outputs": [
    {
     "data": {
      "text/plain": [
       "220"
      ]
     },
     "execution_count": 66,
     "metadata": {},
     "output_type": "execute_result"
    }
   ],
   "source": [
    "id_to_pos['573']"
   ]
  },
  {
   "cell_type": "code",
   "execution_count": 67,
   "id": "3b9eb784-4952-46dd-8702-b81c00655a85",
   "metadata": {},
   "outputs": [
    {
     "data": {
      "text/plain": [
       "{'ID': '732',\n",
       " 'Name': 'Incorrect Permission Assignment for Critical Resource',\n",
       " 'Abstraction': 'Class',\n",
       " 'Structure': 'Simple',\n",
       " 'Status': 'Draft',\n",
       " 'Description': 'The product specifies permissions for a security-critical resource in a way that allows that resource to be read or modified by unintended actors.',\n",
       " 'Extended_Description': 'When a resource is given a permission setting that provides access to a wider range of actors than required, it could lead to the exposure of sensitive information, or the modification of that resource by unintended parties. This is especially dangerous when the resource is related to program configuration, execution, or sensitive user data. For example, consider a misconfigured storage account for the cloud that can be read or written by a public or anonymous user.',\n",
       " 'Related_Weaknesses': [{'Nature': 'ChildOf',\n",
       "   'CWE_ID': '285',\n",
       "   'View_ID': '1000',\n",
       "   'Ordinal': 'Primary'},\n",
       "  {'Nature': 'ChildOf', 'CWE_ID': '668', 'View_ID': '1000'}],\n",
       " 'Likelihood_Of_Exploit': 'High',\n",
       " 'Mapping_Notes': ['Allowed-with-Review',\n",
       "  'While the name itself indicates an assignment of permissions for resources, this is often misused for vulnerabilities in which \"permissions\" are not checked, which is an \"authorization\" weakness (CWE-285 or descendants) within CWE\\'s model [REF-1287].',\n",
       "  'Closely analyze the specific mistake that is allowing the resource to be exposed, and perform a CWE mapping for that mistake.'],\n",
       " 'Notes': ['The relationships between privileges, permissions, and actors (e.g. users and groups) need further refinement within the Research view. One complication is that these concepts apply to two different pillars, related to control of resources (CWE-664) and protection mechanism failures (CWE-693).'],\n",
       " 'Content_History': ['Insecure Permission Assignment for Resource',\n",
       "  'Insecure Permission Assignment for Critical Resource']}"
      ]
     },
     "execution_count": 67,
     "metadata": {},
     "output_type": "execute_result"
    }
   ],
   "source": [
    "w_graph_data['nodes'][weakness_map['732']]"
   ]
  },
  {
   "cell_type": "code",
   "execution_count": 64,
   "id": "5f14615f-b674-440f-a1ee-2546d7411655",
   "metadata": {},
   "outputs": [
    {
     "data": {
      "text/plain": [
       "619"
      ]
     },
     "execution_count": 64,
     "metadata": {},
     "output_type": "execute_result"
    }
   ],
   "source": [
    "id_to_pos['552']"
   ]
  },
  {
   "cell_type": "code",
   "execution_count": 35,
   "id": "cbc658b6-02f7-4147-916c-a8a6a23360b2",
   "metadata": {},
   "outputs": [
    {
     "data": {
      "text/plain": [
       "(array([53]),)"
      ]
     },
     "execution_count": 35,
     "metadata": {},
     "output_type": "execute_result"
    }
   ],
   "source": [
    "a = np.argsort(our_emb_matrix[0][688][:203])[::-1]\n",
    "np.where(a==64)"
   ]
  },
  {
   "cell_type": "code",
   "execution_count": 36,
   "id": "b4992180-3266-4819-8bae-276bebd5aa6d",
   "metadata": {},
   "outputs": [
    {
     "data": {
      "text/plain": [
       "(array([72]),)"
      ]
     },
     "execution_count": 36,
     "metadata": {},
     "output_type": "execute_result"
    }
   ],
   "source": [
    "a = np.argsort(our_emb_matrix[0][688][:203])[::-1]\n",
    "np.where(a==64)\n",
    "a = np.argsort(text_matrix[0][688][:203])[::-1]\n",
    "np.where(a==64)"
   ]
  },
  {
   "cell_type": "code",
   "execution_count": 88,
   "id": "10ba7070-df79-4852-968d-aad6bfd0d530",
   "metadata": {},
   "outputs": [
    {
     "data": {
      "text/plain": [
       "619"
      ]
     },
     "execution_count": 88,
     "metadata": {},
     "output_type": "execute_result"
    }
   ],
   "source": [
    "1136-517"
   ]
  },
  {
   "cell_type": "code",
   "execution_count": 89,
   "id": "27ed133d-0e2d-4bdf-ac51-721164d2bfa7",
   "metadata": {},
   "outputs": [
    {
     "data": {
      "text/plain": [
       "81"
      ]
     },
     "execution_count": 89,
     "metadata": {},
     "output_type": "execute_result"
    }
   ],
   "source": [
    "1136-1055"
   ]
  },
  {
   "cell_type": "code",
   "execution_count": 124,
   "id": "ba7435f7-cd82-4d51-a90e-c404f0c0c542",
   "metadata": {},
   "outputs": [],
   "source": [
    "def get_top(cosine_matrix, k):\n",
    "    # Flatten the matrix while keeping track of the indices\n",
    "    flattened_indices = np.argsort(cosine_matrix, axis=None)[::-1]\n",
    "    \n",
    "    # Initialize an empty list to store the valid top 10 pairs\n",
    "    valid_top_indices = []\n",
    "    \n",
    "    # Loop over the sorted indices to filter out diagonal elements\n",
    "    for flat_index in flattened_indices:\n",
    "        row, col = np.unravel_index(flat_index, cosine_matrix.shape)\n",
    "        if (row != col) and ((row<203 and col>203)):\n",
    "            valid_top_indices.append((row, col))\n",
    "        if len(valid_top_indices) == k:\n",
    "            break\n",
    "    \n",
    "    # Print the row and column indices of the top 10 maximum values (excluding diagonal)\n",
    "    print(f\"Row and column indices of the top {k} maximum values (excluding diagonal): {valid_top_indices}\")\n",
    "    \n",
    "    # Optionally, print the corresponding values\n",
    "    top_values = [cosine_matrix[row, col] for row, col in valid_top_indices]\n",
    "    print(f\"Top {k} maximum values (excluding diagonal): {top_values}\")\n",
    "    return valid_top_indices"
   ]
  },
  {
   "cell_type": "code",
   "execution_count": 137,
   "id": "d3b35feb-81f9-4cc3-b034-6aeb4d4fa3b9",
   "metadata": {},
   "outputs": [
    {
     "name": "stdout",
     "output_type": "stream",
     "text": [
      "Row and column indices of the top 50 maximum values (excluding diagonal): [(55, 609), (9, 609), (117, 481), (27, 1121), (9, 608), (112, 974), (147, 1105), (156, 707), (55, 608), (64, 1121), (72, 903), (47, 608), (59, 1121), (150, 1105), (64, 689), (45, 953), (41, 609), (108, 1048), (69, 608), (17, 660), (147, 708), (93, 609), (176, 974), (9, 433), (117, 607), (66, 481), (23, 676), (27, 689), (62, 973), (156, 902), (62, 750), (172, 831), (41, 1105), (117, 606), (123, 1105), (24, 402), (62, 692), (80, 410), (34, 410), (109, 609), (109, 1105), (31, 708), (23, 677), (136, 440), (170, 903), (93, 1020), (147, 425), (23, 675), (147, 608), (78, 700)]\n",
      "Top 50 maximum values (excluding diagonal): [0.90922165, 0.89574367, 0.891054, 0.8893047, 0.8890803, 0.8748248, 0.87027353, 0.86971503, 0.8627675, 0.8622357, 0.8567123, 0.8556904, 0.8545036, 0.85385674, 0.8532069, 0.8510028, 0.85087425, 0.8439738, 0.8435763, 0.8424997, 0.8399693, 0.8393638, 0.8389293, 0.8387298, 0.8375761, 0.8367665, 0.836677, 0.8362685, 0.83599174, 0.83561856, 0.8341595, 0.8338766, 0.83296037, 0.83225256, 0.83199644, 0.83187973, 0.83171165, 0.8305574, 0.8296394, 0.82894677, 0.82834256, 0.82768434, 0.8274825, 0.8274011, 0.826755, 0.8267496, 0.8258251, 0.82577145, 0.8256662, 0.82529444]\n"
     ]
    }
   ],
   "source": [
    "top1 = get_top(our_emb_matrix[0],50)"
   ]
  },
  {
   "cell_type": "code",
   "execution_count": 138,
   "id": "ffa8a01d-0b9c-4813-b5f1-745bfe7c64b1",
   "metadata": {},
   "outputs": [
    {
     "name": "stdout",
     "output_type": "stream",
     "text": [
      "Row and column indices of the top 50 maximum values (excluding diagonal): [(64, 689), (112, 393), (64, 700), (37, 609), (123, 390), (74, 797), (5, 708), (176, 393), (43, 425), (64, 1121), (123, 1020), (109, 390), (64, 797), (74, 689), (85, 425), (177, 538), (137, 700), (45, 390), (69, 390), (5, 390), (71, 708), (47, 609), (74, 700), (10, 1020), (55, 609), (109, 609), (150, 425), (177, 425), (21, 425), (121, 797), (43, 708), (9, 609), (10, 425), (69, 425), (10, 1025), (112, 425), (68, 708), (45, 1120), (10, 390), (45, 209), (5, 425), (105, 391), (64, 725), (55, 215), (69, 609), (45, 1014), (47, 390), (167, 538), (85, 393), (123, 901)]\n",
      "Top 50 maximum values (excluding diagonal): [0.7224605577264848, 0.6961045823242791, 0.6855438816290164, 0.6817153199707007, 0.6815209218783034, 0.68150253837665, 0.6788426776620691, 0.6786281365870481, 0.6779542877290493, 0.674740289963606, 0.6735925008230782, 0.6689157415709652, 0.666410579994802, 0.6663217070562745, 0.6636631367016123, 0.6621950983086372, 0.6602272374317526, 0.6600930814885269, 0.6595416081264054, 0.6590200676357827, 0.6559785042366584, 0.6552413810944742, 0.6551931504361299, 0.654989300808556, 0.6549771791499774, 0.6514522423628615, 0.6510550839721421, 0.6499895966151252, 0.6484033022629816, 0.6476800751435152, 0.6471157399828603, 0.6453187782500638, 0.6451944837552219, 0.6449076981754014, 0.644485671459036, 0.6439830767975311, 0.6438722757386559, 0.6435060240823223, 0.642816640161979, 0.6418555652080816, 0.6408914407963838, 0.640234504204463, 0.6400538983410465, 0.6400104882116808, 0.6398679406553172, 0.6395072362942956, 0.6387964202831687, 0.6382507473444213, 0.6382123794458465, 0.6379772730696878]\n"
     ]
    }
   ],
   "source": [
    "top2 = get_top(text_matrix[0],50)"
   ]
  },
  {
   "cell_type": "code",
   "execution_count": 139,
   "id": "30de548c-7c61-4061-9ac5-3f492d7648bb",
   "metadata": {},
   "outputs": [
    {
     "data": {
      "text/plain": [
       "0.8532069"
      ]
     },
     "execution_count": 139,
     "metadata": {},
     "output_type": "execute_result"
    }
   ],
   "source": [
    "our_emb_matrix[0][64][689]"
   ]
  },
  {
   "cell_type": "code",
   "execution_count": 140,
   "id": "fa2df15c-02c3-4fde-bf6b-69683fd6ed49",
   "metadata": {},
   "outputs": [
    {
     "data": {
      "text/plain": [
       "{(9, 609), (55, 609), (64, 689), (64, 1121), (109, 609)}"
      ]
     },
     "execution_count": 140,
     "metadata": {},
     "output_type": "execute_result"
    }
   ],
   "source": [
    "set(top1) & set(top2)"
   ]
  },
  {
   "cell_type": "code",
   "execution_count": null,
   "id": "49a70d69-bd54-40d9-aeeb-8f56fa583c66",
   "metadata": {},
   "outputs": [],
   "source": []
  }
 ],
 "metadata": {
  "kernelspec": {
   "display_name": "Python 3 (ipykernel)",
   "language": "python",
   "name": "python3"
  },
  "language_info": {
   "codemirror_mode": {
    "name": "ipython",
    "version": 3
   },
   "file_extension": ".py",
   "mimetype": "text/x-python",
   "name": "python",
   "nbconvert_exporter": "python",
   "pygments_lexer": "ipython3",
   "version": "3.8.19"
  }
 },
 "nbformat": 4,
 "nbformat_minor": 5
}
