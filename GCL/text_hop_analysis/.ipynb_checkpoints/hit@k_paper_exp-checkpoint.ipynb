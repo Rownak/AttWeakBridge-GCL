{
 "cells": [
  {
   "cell_type": "code",
   "execution_count": 1,
   "id": "a628a1ea-cada-471d-9cd2-a71fe8af17cc",
   "metadata": {},
   "outputs": [],
   "source": [
    "import numpy as np\n",
    "from sklearn.metrics.pairwise import cosine_similarity\n"
   ]
  },
  {
   "cell_type": "code",
   "execution_count": 2,
   "id": "2bca8112-99d3-4413-be31-250e77ace84f",
   "metadata": {},
   "outputs": [],
   "source": [
    "dir_name = \"../ics_cwe/\"\n",
    "# models = [\"pretrained_SecBert\", \"SecBert\", \"pretrained_SecureBert\",  \"SecureBert\", \"pretrained_Gpt2\",\"Gpt2\"]\n",
    "models = [\"pretrained_SecBert\", \"SecBert\", \"pretrained_SecureBert\",  \"SecureBert\", \"pretrained_Gpt2\"]\n",
    "text_embeddings = []\n",
    "our_embeddings = []\n",
    "text_matrix = []\n",
    "our_emb_matrix = []\n",
    "for model in models:\n",
    "    text_embeddings.append(np.load(dir_name+model+\"/data/all_embeddings.npy\"))\n",
    "    our_embeddings.append(np.load(dir_name+model+\"/data/our_embeddings.npy\"))\n",
    "    text_matrix.append(cosine_similarity(text_embeddings[-1]))\n",
    "    our_emb_matrix.append(cosine_similarity(our_embeddings[-1]))"
   ]
  },
  {
   "cell_type": "code",
   "execution_count": 3,
   "id": "825d6cb8-c454-41c1-8c26-5bfd8b20380e",
   "metadata": {},
   "outputs": [],
   "source": [
    "# Experimental\n",
    "model = \"Gpt2\"\n",
    "text_embeddings.append(np.load(dir_name+model+\"/data/all_embeddings.npy\"))\n",
    "our_embeddings.append(np.load(dir_name+model+\"/data/our_embeddings_bl.npy\"))\n",
    "text_matrix.append(cosine_similarity(text_embeddings[-1]))\n",
    "our_emb_matrix.append(cosine_similarity(our_embeddings[-1]))"
   ]
  },
  {
   "cell_type": "code",
   "execution_count": null,
   "id": "84069a74-1ac8-44a1-bd84-fd28e76d1dc9",
   "metadata": {},
   "outputs": [],
   "source": [
    "from scipy.stats import spearmanr\n",
    "# Flatten the matrices\n",
    "def get_spearman_rank_corr(matrix1,matrix2):\n",
    "    flat_cosine_sim_matrix1 = matrix1.flatten()\n",
    "    flat_cosine_sim_matrix2 = matrix2.flatten()\n",
    "    \n",
    "    # Compute ranks for both arrays\n",
    "    ranks1 = np.argsort(np.argsort(flat_cosine_sim_matrix1))\n",
    "    ranks2 = np.argsort(np.argsort(flat_cosine_sim_matrix2))\n",
    "    \n",
    "    # Compute Spearman's rank correlation\n",
    "    spearman_corr, _ = spearmanr(ranks1, ranks2)\n",
    "    print(f\"Spearman's rank correlation: {spearman_corr}\")"
   ]
  },
  {
   "cell_type": "code",
   "execution_count": null,
   "id": "f9c9664a-a83d-4991-b733-d85ad7e1fdaa",
   "metadata": {},
   "outputs": [],
   "source": [
    "for i,model in enumerate(models):\n",
    "    print(\"Model: \", model)\n",
    "    get_spearman_rank_corr(text_matrix[i],our_emb_matrix[i])"
   ]
  },
  {
   "cell_type": "code",
   "execution_count": null,
   "id": "97b06165-db69-45d5-a4a8-05cebda2e67b",
   "metadata": {},
   "outputs": [],
   "source": [
    "# Gpt2\n",
    "# Spearman's rank correlation: 0.6097847943105891\n",
    "# Pretrained Gpt2\n",
    "# Spearman's rank correlation: 0.653669186712011\n",
    "# # SecBert\n",
    "# Spearman's rank correlation: 0.6641884030144916\n",
    "# Pretrained SecBert\n",
    "# Spearman's rank correlation: 0.5427275227072337\n",
    "# SecureBert\n",
    "# Spearman's rank correlation: 0.45052702541168266\n",
    "# Pretrained secureBert\n",
    "# Spearman's rank correlation: 0.4254799261180094\n",
    "\n"
   ]
  },
  {
   "cell_type": "code",
   "execution_count": null,
   "id": "e8c55e0d-69a6-4847-b810-700b27591af4",
   "metadata": {},
   "outputs": [],
   "source": [
    "import numpy as np\n",
    "import matplotlib.pyplot as plt\n",
    "\n",
    "def plot_hit_k(matrix1,matrix2, title):\n",
    "\n",
    "    # Initialize a dictionary to store average hit@k for each k\n",
    "    \n",
    "    plt.figure(figsize=(10, 6))\n",
    "    # Loop over all the models\n",
    "    models = [\"Gpt2\", \"pretrained_Gpt2\", \"SecBert\", \"pretrained_SecBert\", \"SecureBert\", \"pretrained_SecureBert\"]\n",
    "    markers = ['o', 's', '^', 'v', '<', '>']\n",
    "    for j,model in enumerate(models):\n",
    "        # Define the cosine similarity matrices\n",
    "        cosine_matrix1 = matrix1[j]\n",
    "        cosine_matrix2 = matrix2[j]\n",
    "        average_hit_at_k = {}\n",
    "        # Loop over each k from 10 to 1136\n",
    "        for k in range(10, 1136,100):\n",
    "            hit_at_k = []\n",
    "        \n",
    "            # Loop over each row\n",
    "            for i in range(1136):\n",
    "                # Get the indices of the top k values in the row for both matrices\n",
    "                top_k_indices_1 = np.argsort(cosine_matrix1[i])[-k:]\n",
    "                top_k_indices_2 = np.argsort(cosine_matrix2[i])[-k:]\n",
    "                \n",
    "                # Calculate the hit@k (number of common indices in top k)\n",
    "                hit_count = len(set(top_k_indices_1) & set(top_k_indices_2))\n",
    "                \n",
    "                # Append the result to the list\n",
    "                hit_at_k.append(hit_count)\n",
    "            \n",
    "            # Calculate the average hit@k for the current k\n",
    "            average_hit_at_k[k] = np.mean(hit_at_k)\n",
    "        \n",
    "        # Plot the results\n",
    "        ks = list(average_hit_at_k.keys())\n",
    "        hits = list(average_hit_at_k.values())\n",
    "        \n",
    "        \n",
    "        plt.plot(ks, hits, label=model, marker=markers[j])\n",
    "        plt.xlabel('k')\n",
    "        plt.ylabel('Average Hit@k')\n",
    "        plt.xticks(ks)\n",
    "        plt.grid(True)\n",
    "    plt.legend()\n",
    "    plt.title('Average Hit@k for Different Values of k')\n",
    "    plt.show()\n",
    "    plt.savefig(dir_name+\"plots/hit@k_with_text.png\", dpi=300, bbox_inches='tight')\n",
    "\n",
    "# # Print the results\n",
    "# for k in ks:\n",
    "#     print(f\"Average Hit@{k}: {average_hit_at_k[k]}\")"
   ]
  },
  {
   "cell_type": "code",
   "execution_count": null,
   "id": "62988a1e-ae90-4285-b160-d0e8c2e5161a",
   "metadata": {},
   "outputs": [],
   "source": [
    "plot_hit_k(text_matrix,our_emb_matrix, \"title\")"
   ]
  },
  {
   "cell_type": "code",
   "execution_count": null,
   "id": "311e2b74-99ae-4a79-92f4-fe27dc5a2432",
   "metadata": {},
   "outputs": [],
   "source": [
    "def dcg(relevance_scores):\n",
    "    \"\"\" Calculate Discounted Cumulative Gain (DCG) \"\"\"\n",
    "    return np.sum((2 ** relevance_scores - 1) / np.log2(np.arange(1, len(relevance_scores) + 1) + 1))\n",
    "\n",
    "def ndcg_at_k(row1, row2, k):\n",
    "    \"\"\" Calculate Normalized Discounted Cumulative Gain (NDCG) at k \"\"\"\n",
    "    relevance_scores = row1[np.argsort(row2)[-k:]]\n",
    "    ideal_relevance_scores = np.sort(row1)[-k:][::-1]\n",
    "    return dcg(relevance_scores) / dcg(ideal_relevance_scores)\n",
    "\n",
    "def NDCG_calculation(matrix1,matrix2):\n",
    "    plt.figure(figsize=(10, 6))\n",
    "    # Loop over all the models\n",
    "    models = [\"Gpt2\", \"pretrained_Gpt2\", \"SecBert\", \"pretrained_SecBert\", \"SecureBert\", \"pretrained_SecureBert\"]\n",
    "    markers = ['o', 's', '^', 'v', '<', '>']\n",
    "    for j,model in enumerate(models):\n",
    "        # Define the cosine similarity matrices\n",
    "        cosine_matrix1 = matrix1[j]\n",
    "        cosine_matrix2 = matrix2[j]\n",
    "        average_NDCG_at_k = {}\n",
    "        for k in range(10, 1136,100):\n",
    "            # Calculate NDCG for each row\n",
    "            #k = 5  # Set k to the number of elements since we want NDCG for the whole row\n",
    "            ndcg_scores = []\n",
    "            \n",
    "            for i in range(1136):\n",
    "                ndcg_score = ndcg_at_k(cosine_matrix1[i], cosine_matrix2[i], k)\n",
    "                ndcg_scores.append(ndcg_score)\n",
    "            #print(\"K \", k)\n",
    "            # Print NDCG scores for each row\n",
    "            #print(f\"NDCG scores for each row: {ndcg_scores}\")\n",
    "            #print(f\"Average NDCG: {np.mean(ndcg_scores)}\")\n",
    "            # Calculate the average hit@k for the current k\n",
    "            average_NDCG_at_k[k] = np.mean(ndcg_scores)\n",
    "        # Plot the results\n",
    "        ks = list(average_NDCG_at_k.keys())\n",
    "        hits = list(average_NDCG_at_k.values())\n",
    "        plt.plot(ks, hits, label=model, marker=markers[j])\n",
    "        plt.xlabel('k')\n",
    "        plt.ylabel('Average NDCG@k')\n",
    "        plt.xticks(ks)\n",
    "        plt.grid(True)\n",
    "    plt.legend()\n",
    "    plt.title('Average NDCG@k for Different Values of k')\n",
    "    plt.show()\n",
    "    plt.savefig(dir_name+\"plots/NDCG@k_with_text.png\", dpi=300, bbox_inches='tight')"
   ]
  },
  {
   "cell_type": "code",
   "execution_count": null,
   "id": "ea61db56-1ba1-4ca7-a0c4-50caef440ddd",
   "metadata": {},
   "outputs": [],
   "source": [
    "# NDCG_calculation(text_matrix,our_emb_matrix)"
   ]
  },
  {
   "cell_type": "code",
   "execution_count": null,
   "id": "71d8a345-630b-43b9-992d-013aac2f707e",
   "metadata": {},
   "outputs": [],
   "source": [
    "# Graph Calculation"
   ]
  },
  {
   "cell_type": "code",
   "execution_count": null,
   "id": "87d4b19a-cf1c-43b4-a233-62be2487f151",
   "metadata": {},
   "outputs": [],
   "source": [
    "weakness_hop_sim_matrix = np.load('../ics_cwe/weakness_hop_sim_matrix.npy')\n",
    "attack_hop_sim_matrix = np.load('../ics_cwe/attack_hop_sim_matrix.npy')"
   ]
  },
  {
   "cell_type": "code",
   "execution_count": null,
   "id": "bb91a0b2-4503-4eb9-822c-07d7b8e7c44d",
   "metadata": {},
   "outputs": [],
   "source": [
    "import numpy as np\n",
    "import matplotlib.pyplot as plt\n",
    "\n",
    "def plot_hit_k_graph(matrix1,matrix2, isAttack):\n",
    "    \n",
    "    # Initialize a dictionary to store average hit@k for each k\n",
    "    \n",
    "    plt.figure(figsize=(10, 6))\n",
    "    # Loop over all the models\n",
    "    models = [\"Gpt2\", \"pretrained_Gpt2\", \"SecBert\", \"pretrained_SecBert\", \"SecureBert\", \"pretrained_SecureBert\"]\n",
    "    #models = [\"Gpt2\"]\n",
    "    markers = ['o', 's', '^', 'v', '<', '>']\n",
    "    if(isAttack):\n",
    "        size = 203\n",
    "    else:\n",
    "        size = 933\n",
    "    for j,model in enumerate(models):\n",
    "        # Define the cosine similarity matrices\n",
    "        cosine_matrix1 = matrix1\n",
    "        if(isAttack):\n",
    "            cosine_matrix2 = matrix2[j][:203,:203]\n",
    "        else:\n",
    "            cosine_matrix2 = matrix2[j][203:,203:]\n",
    "        # Loop over each k from 10 to 1136\n",
    "        average_hit_at_k = {}\n",
    "        for k in range(10, size,int(size/20)):\n",
    "            hit_at_k = []\n",
    "        \n",
    "            # Loop over each row\n",
    "            for i in range(size):\n",
    "                # Get the indices of the top k values in the row for both matrices\n",
    "                top_k_indices_1 = np.argsort(cosine_matrix1[i])[-k:]\n",
    "                top_k_indices_2 = np.argsort(cosine_matrix2[i])[-k:]\n",
    "                \n",
    "                # Calculate the hit@k (number of common indices in top k)\n",
    "                hit_count = len(set(top_k_indices_1) & set(top_k_indices_2))\n",
    "                # print(set(top_k_indices_1))\n",
    "                # print(set(top_k_indices_2))\n",
    "                \n",
    "                # Append the result to the list\n",
    "                hit_at_k.append(hit_count)\n",
    "                # print(hit_count)\n",
    "            # Calculate the average hit@k for the current k\n",
    "            average_hit_at_k[k] = np.mean(hit_at_k)\n",
    "        \n",
    "        # Plot the results\n",
    "        ks = list(average_hit_at_k.keys())\n",
    "        hits = list(average_hit_at_k.values())\n",
    "        \n",
    "        \n",
    "        plt.plot(ks, hits, label=model, marker=markers[j])\n",
    "        plt.xlabel('k')\n",
    "        plt.ylabel('Average Hit@k')\n",
    "        plt.xticks(ks)\n",
    "        plt.grid(True)\n",
    "    plt.legend()\n",
    "    plt.title('Average Hit@k for Different Values of k')\n",
    "    plt.show()\n",
    "    if(isAttack):\n",
    "        plt.savefig(dir_name+\"plots/hit@k_with_attack_graph.png\", dpi=300, bbox_inches='tight')\n",
    "    else:\n",
    "        plt.savefig(dir_name+\"plots/hit@k_with_weakness_graph.png\", dpi=300, bbox_inches='tight')\n",
    "# # Print the results\n",
    "# for k in ks:\n",
    "#     print(f\"Average Hit@{k}: {average_hit_at_k[k]}\")"
   ]
  },
  {
   "cell_type": "code",
   "execution_count": null,
   "id": "43ac39cd-c68a-449c-a045-7d35bc06f8cb",
   "metadata": {},
   "outputs": [],
   "source": [
    "plot_hit_k_graph(attack_hop_sim_matrix,our_emb_matrix, True)"
   ]
  },
  {
   "cell_type": "code",
   "execution_count": null,
   "id": "47ce3ada-a44c-4cca-b4ca-9f29863525ed",
   "metadata": {},
   "outputs": [],
   "source": [
    "# plot_hit_k_graph(attack_hop_sim_matrix,text_matrix, True)"
   ]
  },
  {
   "cell_type": "code",
   "execution_count": null,
   "id": "be2fd72d-f212-4b33-83fa-9567c53ae554",
   "metadata": {},
   "outputs": [],
   "source": [
    "plot_hit_k_graph(weakness_hop_sim_matrix,our_emb_matrix, False)"
   ]
  },
  {
   "cell_type": "code",
   "execution_count": null,
   "id": "10710e80-9765-4f7d-ba28-649d8d65291a",
   "metadata": {},
   "outputs": [],
   "source": [
    "# plot_hit_k_graph(weakness_hop_sim_matrix,text_matrix, False)"
   ]
  },
  {
   "cell_type": "code",
   "execution_count": null,
   "id": "47cd10d1-2ffd-4893-a222-07b896600f3d",
   "metadata": {},
   "outputs": [],
   "source": [
    "from scipy.stats import spearmanr\n",
    "# Flatten the matrices\n",
    "def get_spearman_rank_corr_graph(matrix1,matrix2, isAttack):\n",
    "    cosine_matrix1 = matrix1\n",
    "    if(isAttack):\n",
    "        cosine_matrix2 = matrix2[:203,:203]\n",
    "    else:\n",
    "        cosine_matrix2 = matrix2[203:,203:]\n",
    "    print(cosine_matrix1.shape)\n",
    "    print(cosine_matrix2.shape)\n",
    "    flat_cosine_sim_matrix1 = cosine_matrix1.flatten()\n",
    "    flat_cosine_sim_matrix2 = cosine_matrix2.flatten()\n",
    "    \n",
    "    # Compute ranks for both arrays\n",
    "    ranks1 = np.argsort(np.argsort(flat_cosine_sim_matrix1))\n",
    "    ranks2 = np.argsort(np.argsort(flat_cosine_sim_matrix2))\n",
    "    \n",
    "    # Compute Spearman's rank correlation\n",
    "    spearman_corr, _ = spearmanr(ranks1, ranks2)\n",
    "    print(f\"Spearman's rank correlation: {spearman_corr}\")"
   ]
  },
  {
   "cell_type": "code",
   "execution_count": null,
   "id": "4fcec4b2-2278-42d9-a926-b58d37fbf562",
   "metadata": {},
   "outputs": [],
   "source": [
    "for i,model in enumerate(models):\n",
    "    print(\"Model: \", model)\n",
    "    get_spearman_rank_corr_graph(attack_hop_sim_matrix,our_emb_matrix[i], True)"
   ]
  },
  {
   "cell_type": "code",
   "execution_count": null,
   "id": "b68b33a9-6bbc-406e-b8f1-4876a5afa136",
   "metadata": {},
   "outputs": [],
   "source": [
    "for i,model in enumerate(models):\n",
    "    print(\"Model: \", model)\n",
    "    get_spearman_rank_corr_graph(weakness_hop_sim_matrix,our_emb_matrix[i], False)"
   ]
  },
  {
   "cell_type": "code",
   "execution_count": null,
   "id": "eb4f1fbe-6962-4902-a68e-a41bf62bf17c",
   "metadata": {},
   "outputs": [],
   "source": [
    "def dcg(relevance_scores):\n",
    "    \"\"\" Calculate Discounted Cumulative Gain (DCG) \"\"\"\n",
    "    return np.sum((2 ** relevance_scores - 1) / np.log2(np.arange(1, len(relevance_scores) + 1) + 1))\n",
    "\n",
    "def ndcg_at_k(row1, row2, k):\n",
    "    \"\"\" Calculate Normalized Discounted Cumulative Gain (NDCG) at k \"\"\"\n",
    "    relevance_scores = row1[np.argsort(row2)[-k:]]\n",
    "    ideal_relevance_scores = np.sort(row1)[-k:][::-1]\n",
    "    return dcg(relevance_scores) / dcg(ideal_relevance_scores)\n",
    "\n",
    "def NDCG_calculation_graph(matrix1,matrix2, isAttack):\n",
    "    plt.figure(figsize=(5, 3))\n",
    "    # Loop over all the models\n",
    "    \n",
    "    models = [\"PT SecBert\", \"FT SecBert\", \"PT SecureBert\",  \"FT SecureBert\", \"PT Gpt2\" ,  \"FT Gpt2\"]\n",
    "    markers = ['o', 's', '^', 'v', '<', '>']\n",
    "    for j,model in enumerate(models):\n",
    "        # Define the cosine similarity matrices\n",
    "        cosine_matrix1 = matrix1\n",
    "        size = 1136\n",
    "        if(isAttack):\n",
    "            cosine_matrix2 = matrix2[j][:203,:203]\n",
    "            size = 203\n",
    "        else:\n",
    "            cosine_matrix2 = matrix2[j][203:,203:]\n",
    "            size = 933\n",
    "        average_NDCG_at_k = {}\n",
    "        for k in range(10, size,int(size/10)):\n",
    "            # Calculate NDCG for each row\n",
    "            #k = 5  # Set k to the number of elements since we want NDCG for the whole row\n",
    "            ndcg_scores = []\n",
    "            \n",
    "            for i in range(size):\n",
    "                ndcg_score = ndcg_at_k(cosine_matrix1[i], cosine_matrix2[i], k)\n",
    "                ndcg_scores.append(ndcg_score)\n",
    "            #print(\"K \", k)\n",
    "            # Print NDCG scores for each row\n",
    "            #print(f\"NDCG scores for each row: {ndcg_scores}\")\n",
    "            #print(f\"Average NDCG: {np.mean(ndcg_scores)}\")\n",
    "            # Calculate the average hit@k for the current k\n",
    "            average_NDCG_at_k[k] = np.mean(ndcg_scores)\n",
    "        # Plot the results\n",
    "        ks = list(average_NDCG_at_k.keys())\n",
    "        hits = list(average_NDCG_at_k.values())\n",
    "        plt.plot(ks, hits, label=model, marker=markers[j])\n",
    "        plt.xlabel('k')\n",
    "        plt.ylabel('Average NDCG@k')\n",
    "        plt.xticks(ks)\n",
    "        plt.grid(True)\n",
    "    plt.legend()\n",
    "    #plt.title('Average NDCG@k for Different Values of k')\n",
    "    \n",
    "    if(isAttack):\n",
    "        plt.savefig(dir_name+\"plots/NDCG@k_with_attack.pdf\", dpi=300, bbox_inches='tight')\n",
    "    else:\n",
    "        plt.savefig(dir_name+\"plots/NDCG@k_with_weakness.pdf\", dpi=300, bbox_inches='tight')\n",
    "    plt.show()"
   ]
  },
  {
   "cell_type": "code",
   "execution_count": null,
   "id": "05a781d2-60e4-412e-890c-bbe3e6ebd9ba",
   "metadata": {},
   "outputs": [],
   "source": [
    "NDCG_calculation_graph(attack_hop_sim_matrix,our_emb_matrix, True)"
   ]
  },
  {
   "cell_type": "code",
   "execution_count": null,
   "id": "03e415ff-3e59-4e18-8029-bd6e7ef53f4e",
   "metadata": {},
   "outputs": [],
   "source": [
    "NDCG_calculation_graph(weakness_hop_sim_matrix,our_emb_matrix, False)"
   ]
  },
  {
   "cell_type": "code",
   "execution_count": null,
   "id": "7bc59182-95b5-40cc-a57c-9a55e78592e2",
   "metadata": {},
   "outputs": [],
   "source": [
    "text_embeddings[0].shape"
   ]
  },
  {
   "cell_type": "code",
   "execution_count": null,
   "id": "fb71c4e9-8ad8-43c1-afe4-2dc79e543210",
   "metadata": {},
   "outputs": [],
   "source": []
  }
 ],
 "metadata": {
  "kernelspec": {
   "display_name": "Python 3 (ipykernel)",
   "language": "python",
   "name": "python3"
  },
  "language_info": {
   "codemirror_mode": {
    "name": "ipython",
    "version": 3
   },
   "file_extension": ".py",
   "mimetype": "text/x-python",
   "name": "python",
   "nbconvert_exporter": "python",
   "pygments_lexer": "ipython3",
   "version": "3.8.19"
  }
 },
 "nbformat": 4,
 "nbformat_minor": 5
}
