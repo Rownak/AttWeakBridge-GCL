{
 "cells": [
  {
   "cell_type": "code",
   "execution_count": 11,
   "id": "bc38620a-909d-4339-86f9-5c27ff5c60ba",
   "metadata": {},
   "outputs": [
    {
     "name": "stdout",
     "output_type": "stream",
     "text": [
      "Spearman rank correlations for each row's top 10 items: [-0.71879699 -0.74210526 -0.47574819 -0.81578947 -0.61578947 -0.30147059\n",
      " -0.75263158 -0.83007519 -0.71879699 -0.61929825 -0.76992481 -0.81654135\n",
      " -0.88721805 -0.76666667 -0.49264706 -0.78070175 -0.65737874 -0.36519608\n",
      " -0.60526316 -0.73333333 -0.76992481 -0.5        -0.03921569 -0.67894737\n",
      " -0.74736842 -0.54411765 -0.63970588 -0.67368421 -0.8245614  -0.59824561\n",
      " -0.78596491 -0.72136223 -0.46130031 -0.83458647 -0.52982456 -0.65263158\n",
      " -0.74736842 -0.82406015 -0.76842105 -0.72807018 -0.51960784 -0.70278638\n",
      " -0.70701754 -0.67894737 -0.76842105 -0.68070175 -0.76057792 -0.80701754\n",
      " -0.56862745 -0.60577915 -0.68596491 -0.81754386 -0.58926729 -0.45614035\n",
      " -0.6962406  -0.73157895 -0.750258   -0.59824561 -0.76240602 -0.28173375\n",
      " -0.70175439 -0.62229102 -0.63333333 -0.83609023 -0.69298246 -0.64561404\n",
      " -0.72781955 -0.74406605 -0.65964912 -0.54210526 -0.7924812  -0.71403509\n",
      " -0.57894737 -0.69298246 -0.59803922 -0.8121775  -0.74586466 -0.7254902\n",
      " -0.77894737 -0.80150376 -0.79849624 -0.57688338 -0.86466165 -0.71729323\n",
      " -0.67017544 -0.57069143 -0.67218045 -0.66616541 -0.68947368 -0.68721805\n",
      " -0.9037594  -0.45304438 -0.77894737 -0.76842105 -0.63684211 -0.78596491\n",
      " -0.67719298 -0.74285714 -0.55147059 -0.63261094]\n",
      "Mean Spearman rank correlation: -0.6759412133274361\n",
      "Standard Deviation of Spearman rank correlations: 0.1348520950418467\n"
     ]
    }
   ],
   "source": [
    "import numpy as np\n",
    "from scipy.stats import spearmanr\n",
    "\n",
    "# Generate example similarity matrices (100x100)\n",
    "cosine_matrix1 = np.random.rand(100, 100)\n",
    "cosine_matrix2 = np.random.rand(100, 100)\n",
    "\n",
    "# Initialize a list to store Spearman correlation coefficients for each row\n",
    "spearman_correlations = []\n",
    "\n",
    "# Loop over each row\n",
    "for i in range(100):\n",
    "    # Get the indices of the top 10 values in the row for both matrices\n",
    "    top10_indices_1 = np.argsort(cosine_matrix1[i])[-10:]\n",
    "    top10_indices_2 = np.argsort(cosine_matrix2[i])[-10:]\n",
    "    \n",
    "    # Create a combined list of top indices\n",
    "    combined_indices = np.union1d(top10_indices_1, top10_indices_2)\n",
    "    \n",
    "    # Create rank vectors for the combined indices\n",
    "    rank_vector1 = np.argsort(np.argsort(cosine_matrix1[i][combined_indices]))\n",
    "    rank_vector2 = np.argsort(np.argsort(cosine_matrix2[i][combined_indices]))\n",
    "    \n",
    "    # Calculate Spearman's rank correlation coefficient for the combined top 10 items\n",
    "    spearman_corr, _ = spearmanr(rank_vector1, rank_vector2)\n",
    "    \n",
    "    # Append the result to the list\n",
    "    spearman_correlations.append(spearman_corr)\n",
    "\n",
    "# Convert list to numpy array for better analysis\n",
    "spearman_correlations = np.array(spearman_correlations)\n",
    "\n",
    "print(f\"Spearman rank correlations for each row's top 10 items: {spearman_correlations}\")\n",
    "print(f\"Mean Spearman rank correlation: {np.mean(spearman_correlations)}\")\n",
    "print(f\"Standard Deviation of Spearman rank correlations: {np.std(spearman_correlations)}\")"
   ]
  },
  {
   "cell_type": "code",
   "execution_count": null,
   "id": "ff428bbd-bff6-4b5c-8980-03842c820fb4",
   "metadata": {},
   "outputs": [],
   "source": [
    "models = [\"PT SecBert\", \"FT SecBert\", \"PT SecureBert\",  \"FT SecureBert\", \"PT Gpt2\" ,  \"FT Gpt2\"]\n",
    "models = [\"pretrained_SecBert\", \"SecBert\", \"pretrained_SecureBert\",  \"SecureBert\", \"pretrained_Gpt2\",\"Gpt2\"]\n"
   ]
  },
  {
   "cell_type": "code",
   "execution_count": 4,
   "id": "beafa7fd-f660-4b22-b9e1-84daef0256bc",
   "metadata": {},
   "outputs": [
    {
     "data": {
      "text/plain": [
       "array([0, 1, 2, 3, 4, 5, 6, 7, 8, 9])"
      ]
     },
     "execution_count": 4,
     "metadata": {},
     "output_type": "execute_result"
    }
   ],
   "source": [
    "ranks1"
   ]
  },
  {
   "cell_type": "code",
   "execution_count": 5,
   "id": "0112e1f1-003a-4cf5-b7c2-12b3580411fb",
   "metadata": {},
   "outputs": [
    {
     "data": {
      "text/plain": [
       "array([0, 1, 2, 3, 4, 5, 6, 7, 8, 9])"
      ]
     },
     "execution_count": 5,
     "metadata": {},
     "output_type": "execute_result"
    }
   ],
   "source": [
    "ranks2"
   ]
  },
  {
   "cell_type": "code",
   "execution_count": 6,
   "id": "898ef599-de90-4ed6-b607-b04070383f89",
   "metadata": {},
   "outputs": [
    {
     "data": {
      "text/plain": [
       "array([88, 96, 71, 24, 20, 98, 58, 61, 70, 79])"
      ]
     },
     "execution_count": 6,
     "metadata": {},
     "output_type": "execute_result"
    }
   ],
   "source": [
    "top10_indices_1"
   ]
  },
  {
   "cell_type": "code",
   "execution_count": 7,
   "id": "5a32803b-96cd-400c-a8fe-5fd98b3ceed1",
   "metadata": {},
   "outputs": [
    {
     "data": {
      "text/plain": [
       "array([78, 83, 37, 75,  3, 45, 14, 65, 64, 55])"
      ]
     },
     "execution_count": 7,
     "metadata": {},
     "output_type": "execute_result"
    }
   ],
   "source": [
    "top10_indices_2"
   ]
  },
  {
   "cell_type": "code",
   "execution_count": 9,
   "id": "ac9031d7-0d19-403d-a840-d02b8750eb44",
   "metadata": {},
   "outputs": [
    {
     "data": {
      "text/plain": [
       "array([0.83106881, 0.83876092, 0.88062472, 0.8965506 , 0.928922  ,\n",
       "       0.92894408, 0.93150184, 0.9647035 , 0.96520358, 0.97207685])"
      ]
     },
     "execution_count": 9,
     "metadata": {},
     "output_type": "execute_result"
    }
   ],
   "source": [
    "cosine_matrix1[i][top10_indices_1]"
   ]
  },
  {
   "cell_type": "code",
   "execution_count": 10,
   "id": "0def80eb-d373-42ba-aa5f-5d43f86a29b6",
   "metadata": {},
   "outputs": [
    {
     "data": {
      "text/plain": [
       "array([0.93618613, 0.93847017, 0.95409846, 0.95941094, 0.96753227,\n",
       "       0.97629745, 0.97634475, 0.98347607, 0.99311391, 0.99775101])"
      ]
     },
     "execution_count": 10,
     "metadata": {},
     "output_type": "execute_result"
    }
   ],
   "source": [
    "cosine_matrix2[i][top10_indices_2]"
   ]
  },
  {
   "cell_type": "code",
   "execution_count": 7,
   "id": "5327b23b-1d22-4963-99ba-6d1065a842ee",
   "metadata": {},
   "outputs": [
    {
     "name": "stdout",
     "output_type": "stream",
     "text": [
      "[4 3 2 1 0]\n",
      "[1 2 3 4 0]\n",
      "[0 1 2 3 4]\n",
      "[0 1 2 3 4]\n",
      "Spearman rank correlations for each row's top 3 items: [1.]\n",
      "Mean Spearman rank correlation: 0.9999999999999999\n",
      "Standard Deviation of Spearman rank correlations: 0.0\n"
     ]
    }
   ],
   "source": [
    "import numpy as np\n",
    "from scipy.stats import spearmanr\n",
    "\n",
    "# Define the cosine similarity matrices\n",
    "cosine_matrix1 = np.array([\n",
    "    [1, 0.9, 0.8, 0.7, 0.6],\n",
    "    [0.9, 1, 0.9, 0.8, 0.7],\n",
    "    [0.8, 0.9, 1, 0.9, 0.8],\n",
    "    [0.7, 0.8, 0.9, 1, 0.9],\n",
    "    [0.6, 0.7, 0.8, 0.9, 1]\n",
    "])\n",
    "\n",
    "cosine_matrix2 = np.array([\n",
    "    [1, 0.6, 0.7, 0.8, 0.9],\n",
    "    [0.6, 1, 0.7, 0.8, 0.9],\n",
    "    [0.7, 0.6, 1, 0.8, 0.9],\n",
    "    [0.8, 0.7, 0.6, 1, 0.9],\n",
    "    [0.9, 0.8, 0.7, 0.6, 1]\n",
    "])\n",
    "\n",
    "# Initialize a list to store Spearman correlation coefficients for each row\n",
    "spearman_correlations = []\n",
    "\n",
    "# Loop over each row\n",
    "for i in range(1):\n",
    "    # Get the indices of the top 3 values in the row for both matrices\n",
    "    top3_indices_1 = np.argsort(cosine_matrix1[i])\n",
    "    top3_indices_2 = np.argsort(cosine_matrix2[i])\n",
    "    print(top3_indices_1)\n",
    "    print(top3_indices_2)\n",
    "    # Rank the indices within the top 3 values\n",
    "    ranks1 = np.argsort(np.argsort(cosine_matrix1[i][top3_indices_1]))\n",
    "    ranks2 = np.argsort(np.argsort(cosine_matrix2[i][top3_indices_2]))\n",
    "    print(ranks1)\n",
    "    print(ranks2)\n",
    "    # Calculate Spearman's rank correlation coefficient for the top 3 items\n",
    "    spearman_corr, _ = spearmanr(ranks1, ranks2)\n",
    "    \n",
    "    # Append the result to the list\n",
    "    spearman_correlations.append(spearman_corr)\n",
    "\n",
    "# Convert list to numpy array for better analysis\n",
    "spearman_correlations = np.array(spearman_correlations)\n",
    "\n",
    "print(f\"Spearman rank correlations for each row's top 3 items: {spearman_correlations}\")\n",
    "print(f\"Mean Spearman rank correlation: {np.mean(spearman_correlations)}\")\n",
    "print(f\"Standard Deviation of Spearman rank correlations: {np.std(spearman_correlations)}\")"
   ]
  },
  {
   "cell_type": "code",
   "execution_count": 6,
   "id": "1ab934d7-c2b9-4d1c-844f-8e13272ac15e",
   "metadata": {},
   "outputs": [
    {
     "name": "stdout",
     "output_type": "stream",
     "text": [
      "[2 1 0]\n",
      "[3 4 0]\n",
      "Top 3 indices match for each row: [False]\n",
      "Overall match rate: 0.0%\n"
     ]
    }
   ],
   "source": [
    "import numpy as np\n",
    "\n",
    "# Define the cosine similarity matrices\n",
    "cosine_matrix1 = np.array([\n",
    "    [1, 0.9, 0.8, 0.7, 0.6],\n",
    "    [0.9, 1, 0.9, 0.8, 0.7],\n",
    "    [0.8, 0.9, 1, 0.9, 0.8],\n",
    "    [0.7, 0.8, 0.9, 1, 0.9],\n",
    "    [0.6, 0.7, 0.8, 0.9, 1]\n",
    "])\n",
    "\n",
    "cosine_matrix2 = np.array([\n",
    "    [1, 0.6, 0.7, 0.8, 0.9],\n",
    "    [0.6, 1, 0.7, 0.8, 0.9],\n",
    "    [0.7, 0.6, 1, 0.8, 0.9],\n",
    "    [0.8, 0.7, 0.6, 1, 0.9],\n",
    "    [0.9, 0.8, 0.7, 0.6, 1]\n",
    "])\n",
    "\n",
    "# Number of top items to compare\n",
    "top_n = 3\n",
    "\n",
    "# Initialize a list to store whether the top N indices match for each row\n",
    "top_n_match = []\n",
    "\n",
    "# Loop over each row\n",
    "for i in range(1):\n",
    "    # Get the indices of the top N values in the row for both matrices\n",
    "    top_indices_1 = np.argsort(cosine_matrix1[i])[-top_n:]\n",
    "    top_indices_2 = np.argsort(cosine_matrix2[i])[-top_n:]\n",
    "    print(top_indices_1)\n",
    "    print(top_indices_2)\n",
    "    # Check if the top indices are the same (regardless of order)\n",
    "    match = np.array_equal(np.sort(top_indices_1), np.sort(top_indices_2))\n",
    "    \n",
    "    # Append the result to the list\n",
    "    top_n_match.append(match)\n",
    "\n",
    "print(f\"Top {top_n} indices match for each row: {top_n_match}\")\n",
    "print(f\"Overall match rate: {np.mean(top_n_match) * 100}%\")"
   ]
  },
  {
   "cell_type": "code",
   "execution_count": 9,
   "id": "48235677-02d6-40bc-88a0-f5d3a5f52c75",
   "metadata": {},
   "outputs": [
    {
     "name": "stdout",
     "output_type": "stream",
     "text": [
      "row:  0\n",
      "[2 1 0]\n",
      "[3 4 0]\n",
      "row:  1\n",
      "[0 2 1]\n",
      "[3 4 1]\n",
      "row:  2\n",
      "[1 3 2]\n",
      "[3 4 2]\n",
      "row:  3\n",
      "[2 4 3]\n",
      "[0 4 3]\n",
      "row:  4\n",
      "[2 3 4]\n",
      "[1 0 4]\n",
      "Hit@3 for each row: [1, 1, 2, 2, 1]\n",
      "Average Hit@3: 1.4\n"
     ]
    }
   ],
   "source": [
    "import numpy as np\n",
    "\n",
    "# Define the cosine similarity matrices\n",
    "cosine_matrix1 = np.array([\n",
    "    [1, 0.9, 0.8, 0.7, 0.6],\n",
    "    [0.9, 1, 0.9, 0.8, 0.7],\n",
    "    [0.8, 0.9, 1, 0.9, 0.8],\n",
    "    [0.7, 0.8, 0.9, 1, 0.9],\n",
    "    [0.6, 0.7, 0.8, 0.9, 1]\n",
    "])\n",
    "\n",
    "cosine_matrix2 = np.array([\n",
    "    [1, 0.6, 0.7, 0.8, 0.9],\n",
    "    [0.6, 1, 0.7, 0.8, 0.9],\n",
    "    [0.7, 0.6, 1, 0.8, 0.9],\n",
    "    [0.8, 0.7, 0.6, 1, 0.9],\n",
    "    [0.9, 0.8, 0.7, 0.6, 1]\n",
    "])\n",
    "\n",
    "# Number of top items to compare\n",
    "top_k = 3\n",
    "\n",
    "# Initialize a list to store hit@k values for each row\n",
    "hit_at_k = []\n",
    "\n",
    "# Loop over each row\n",
    "for i in range(5):\n",
    "    # Get the indices of the top k values in the row for both matrices\n",
    "    top_k_indices_1 = np.argsort(cosine_matrix1[i])[-top_k:]\n",
    "    top_k_indices_2 = np.argsort(cosine_matrix2[i])[-top_k:]\n",
    "    print(\"row: \", i)\n",
    "    print(top_k_indices_1)\n",
    "    print(top_k_indices_2)\n",
    "    \n",
    "    # Calculate the hit@k (number of common indices in top k)\n",
    "    hit_count = len(set(top_k_indices_1) & set(top_k_indices_2))\n",
    "    \n",
    "    # Append the result to the list\n",
    "    hit_at_k.append(hit_count)\n",
    "\n",
    "print(f\"Hit@{top_k} for each row: {hit_at_k}\")\n",
    "print(f\"Average Hit@{top_k}: {np.mean(hit_at_k)}\")"
   ]
  },
  {
   "cell_type": "code",
   "execution_count": null,
   "id": "341494be-faac-4095-b789-a3e1345ffbdf",
   "metadata": {},
   "outputs": [],
   "source": []
  }
 ],
 "metadata": {
  "kernelspec": {
   "display_name": "Python 3 (ipykernel)",
   "language": "python",
   "name": "python3"
  },
  "language_info": {
   "codemirror_mode": {
    "name": "ipython",
    "version": 3
   },
   "file_extension": ".py",
   "mimetype": "text/x-python",
   "name": "python",
   "nbconvert_exporter": "python",
   "pygments_lexer": "ipython3",
   "version": "3.8.19"
  }
 },
 "nbformat": 4,
 "nbformat_minor": 5
}
