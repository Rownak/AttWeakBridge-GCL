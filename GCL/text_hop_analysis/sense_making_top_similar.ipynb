{
 "cells": [
  {
   "cell_type": "code",
   "execution_count": 143,
   "id": "f835838c-f90f-4e17-8519-23a9383c7e25",
   "metadata": {},
   "outputs": [],
   "source": [
    "import numpy as np\n",
    "from sklearn.metrics.pairwise import cosine_similarity\n"
   ]
  },
  {
   "cell_type": "code",
   "execution_count": 144,
   "id": "7d52dd65-b68f-4804-8ac8-c457dab90dba",
   "metadata": {},
   "outputs": [],
   "source": [
    "dir_name = \"../ics_cwe/\"\n",
    "models = [\"Gpt2\", \"pretrained_Gpt2\", \"SecBert\", \"pretrained_SecBert\", \"SecureBert\", \"pretrained_SecureBert\"]\n",
    "text_embeddings = []\n",
    "our_embeddings = []\n",
    "text_matrix = []\n",
    "our_emb_matrix = []\n",
    "for model in models:\n",
    "    text_embeddings.append(np.load(dir_name+model+\"/data/all_embeddings.npy\"))\n",
    "    our_embeddings.append(np.load(dir_name+model+\"/data/our_embeddings.npy\"))\n",
    "    text_matrix.append(cosine_similarity(text_embeddings[-1]))\n",
    "    our_emb_matrix.append(cosine_similarity(our_embeddings[-1]))"
   ]
  },
  {
   "cell_type": "code",
   "execution_count": 145,
   "id": "5effa27c-10d2-4d01-9b73-ed669b4aba85",
   "metadata": {},
   "outputs": [
    {
     "data": {
      "text/plain": [
       "(1136, 1136)"
      ]
     },
     "execution_count": 145,
     "metadata": {},
     "output_type": "execute_result"
    }
   ],
   "source": [
    "text_matrix[0].shape"
   ]
  },
  {
   "cell_type": "code",
   "execution_count": 146,
   "id": "9612aa21-63cb-450b-a75e-b0ed4af4392a",
   "metadata": {},
   "outputs": [
    {
     "data": {
      "text/plain": [
       "(1136, 1136)"
      ]
     },
     "execution_count": 146,
     "metadata": {},
     "output_type": "execute_result"
    }
   ],
   "source": [
    "our_emb_matrix[0].shape"
   ]
  },
  {
   "cell_type": "code",
   "execution_count": 147,
   "id": "531cdd3f-206d-4fdb-9c1d-e0eb074430ae",
   "metadata": {},
   "outputs": [],
   "source": [
    "weakness_hop_sim_matrix = np.load('../ics_cwe/weakness_hop_sim_matrix.npy')\n",
    "attack_hop_sim_matrix = np.load('../ics_cwe/attack_hop_sim_matrix.npy')"
   ]
  },
  {
   "cell_type": "code",
   "execution_count": 148,
   "id": "97c91d07-9401-4b39-8840-113221e056a6",
   "metadata": {},
   "outputs": [],
   "source": [
    "import numpy as np\n",
    "import matplotlib.pyplot as plt\n",
    "\n",
    "def top_cos_sim(matrix1,matrix2, title):\n",
    "\n",
    "    # Initialize a dictionary to store average hit@k for each k\n",
    "    \n",
    "\n",
    "    # models = [\"Gpt2\", \"pretrained_Gpt2\", \"SecBert\", \"pretrained_SecBert\", \"SecureBert\", \"pretrained_SecureBert\"]\n",
    "    models = [\"Gpt2\"]\n",
    "    for j,model in enumerate(models):\n",
    "        # Define the cosine similarity matrices\n",
    "        cosine_matrix1 = matrix1[j]\n",
    "        cosine_matrix2 = matrix2[j]\n",
    "        average_hit_at_k = {}\n",
    "        # Loop over each k from 10 to 1136\n",
    "        \n",
    "        for k in range(10, 500,50):\n",
    "            hit_at_k = []\n",
    "        \n",
    "            # Loop over each row\n",
    "            # for i in range(1136):\n",
    "            mx = [0,0]\n",
    "            mx_text = [0,0]\n",
    "            mx_our = [0,0]\n",
    "            for i in range(203):\n",
    "                # Get the indices of the top k values in the row for both matrices\n",
    "                top_k_indices_1 = np.argsort(cosine_matrix1[i])[-k:]\n",
    "                top_k_indices_2 = np.argsort(cosine_matrix2[i])[-k:]\n",
    "                only_weak1 = top_k_indices_1[top_k_indices_1>=203]\n",
    "                only_weak2 = top_k_indices_2[top_k_indices_2>=203]\n",
    "                if(len(only_weak1)>mx_text[0]):\n",
    "                    mx_text[0]=len(only_weak1)\n",
    "                    mx_text[1]=i\n",
    "                if(len(only_weak2)>mx_our[0]):\n",
    "                    mx_our[0]=len(only_weak2)\n",
    "                    mx_our[1]=i\n",
    "                # Calculate the hit@k (number of common indices in top k)\n",
    "                hit_count = len(set(only_weak1) & set(only_weak2))\n",
    "                if(hit_count>mx[0]):\n",
    "                    mx[0]=hit_count\n",
    "                    mx[1]=i\n",
    "            print(\"k: \",k,\" top hit \",mx, \" max text: \", mx_text, \" max our: \",mx_our)\n",
    "\n",
    "            \n",
    "\n"
   ]
  },
  {
   "cell_type": "code",
   "execution_count": 149,
   "id": "40cf9ae3-840e-43da-89d1-72b954561ef6",
   "metadata": {},
   "outputs": [
    {
     "name": "stdout",
     "output_type": "stream",
     "text": [
      "k:  10  top hit  [4, 136]  max text:  [8, 138]  max our:  [9, 62]\n",
      "k:  60  top hit  [28, 62]  max text:  [50, 180]  max our:  [57, 110]\n",
      "k:  110  top hit  [52, 62]  max text:  [98, 180]  max our:  [106, 171]\n",
      "k:  160  top hit  [84, 138]  max text:  [143, 180]  max our:  [152, 129]\n",
      "k:  210  top hit  [114, 138]  max text:  [190, 180]  max our:  [197, 129]\n",
      "k:  260  top hit  [144, 138]  max text:  [236, 180]  max our:  [242, 129]\n",
      "k:  310  top hit  [172, 138]  max text:  [280, 180]  max our:  [286, 119]\n",
      "k:  360  top hit  [214, 45]  max text:  [327, 180]  max our:  [333, 193]\n",
      "k:  410  top hit  [243, 138]  max text:  [372, 157]  max our:  [378, 180]\n",
      "k:  460  top hit  [283, 138]  max text:  [416, 157]  max our:  [423, 180]\n"
     ]
    }
   ],
   "source": [
    "top_cos_sim(text_matrix,our_emb_matrix, \"\")"
   ]
  },
  {
   "cell_type": "code",
   "execution_count": 161,
   "id": "687f49c1-72b5-48e9-b5b0-2eabd74f94a3",
   "metadata": {},
   "outputs": [
    {
     "data": {
      "text/plain": [
       "array([ 271,  261,  967, 1089, 1088,  394,  395,  301,  968,  272,  248,\n",
       "        784,  532,  247,   98,   54,  149,  201,  157,  180])"
      ]
     },
     "execution_count": 161,
     "metadata": {},
     "output_type": "execute_result"
    }
   ],
   "source": [
    "np.argsort(text_matrix[0][180])[-20:]"
   ]
  },
  {
   "cell_type": "code",
   "execution_count": 162,
   "id": "27038429-705f-445d-bfa4-f4ab8f868b1b",
   "metadata": {},
   "outputs": [
    {
     "data": {
      "text/plain": [
       "array([0.4212988 , 0.42268434, 0.42370372, 0.42494899, 0.42870585,\n",
       "       0.43041853, 0.43290311, 0.43934435, 0.44070803, 0.44710088,\n",
       "       0.45081399, 0.46298037, 0.4683687 , 0.48478989, 0.50231863,\n",
       "       0.5135854 , 0.51901524, 0.53019314, 0.64710249, 1.        ])"
      ]
     },
     "execution_count": 162,
     "metadata": {},
     "output_type": "execute_result"
    }
   ],
   "source": [
    "np.sort(text_matrix[0][180])[-20:]"
   ]
  },
  {
   "cell_type": "code",
   "execution_count": 164,
   "id": "181c2434-3849-4d0c-83bc-8c47f7db2d87",
   "metadata": {},
   "outputs": [
    {
     "data": {
      "text/plain": [
       "array([1093,  600,  274,  395, 1111,  850, 1054,  261,  272,  808,  201,\n",
       "        149, 1075, 1094,  291,  372,  968,  370,  157,  180])"
      ]
     },
     "execution_count": 164,
     "metadata": {},
     "output_type": "execute_result"
    }
   ],
   "source": [
    "np.argsort(our_emb_matrix[0][180])[-20:]"
   ]
  },
  {
   "cell_type": "code",
   "execution_count": 165,
   "id": "04c8d2bf-c26b-44cc-bc91-0bb6597c0399",
   "metadata": {},
   "outputs": [
    {
     "data": {
      "text/plain": [
       "{149, 157, 180, 201, 261, 272, 395, 968}"
      ]
     },
     "execution_count": 165,
     "metadata": {},
     "output_type": "execute_result"
    }
   ],
   "source": [
    "set(np.argsort(our_emb_matrix[0][180])[-20:])&set(np.argsort(text_matrix[0][180])[-20:])"
   ]
  },
  {
   "cell_type": "code",
   "execution_count": 58,
   "id": "1fd8be6a-c0bc-4fb9-a3d2-9087e12a7a4b",
   "metadata": {},
   "outputs": [
    {
     "data": {
      "text/plain": [
       "array([0.7037285 , 0.7038737 , 0.7069785 , 0.7078975 , 0.7123543 ,\n",
       "       0.7326614 , 0.74038345, 0.753019  , 0.7606681 , 0.99999994],\n",
       "      dtype=float32)"
      ]
     },
     "execution_count": 58,
     "metadata": {},
     "output_type": "execute_result"
    }
   ],
   "source": [
    "np.sort(our_emb_matrix[0][138])[-10:]"
   ]
  },
  {
   "cell_type": "code",
   "execution_count": 22,
   "id": "66c02113-d1df-4cda-a0a1-ce95cd56004c",
   "metadata": {},
   "outputs": [],
   "source": [
    "import json\n",
    "with open('../ics_cwe/id_to_pos.json') as fp:\n",
    "    id_to_pos = json.load(fp)\n",
    "with open('../ics_cwe/pos_to_id.json') as fp:\n",
    "    pos_to_id = json.load(fp)"
   ]
  },
  {
   "cell_type": "code",
   "execution_count": 25,
   "id": "4e50488b-1e43-4ea2-b75c-7eb4f5cf5ee3",
   "metadata": {},
   "outputs": [],
   "source": [
    "import json\n",
    "import networkx as nx\n",
    "\n",
    "# Load the JSON data again\n",
    "with open('../../graph_network/graph_0.json', 'r') as file:\n",
    "    a_graph_data = json.load(file)"
   ]
  },
  {
   "cell_type": "code",
   "execution_count": 26,
   "id": "09cb6a6b-1c70-4bb4-ab51-e75097fb6a1b",
   "metadata": {},
   "outputs": [],
   "source": [
    "with open('../../graph_network/graph_Weakness.json') as f:\n",
    "    w_graph_data = json.load(f)"
   ]
  },
  {
   "cell_type": "code",
   "execution_count": 37,
   "id": "b31e2f8d-17d3-4f71-a9ca-85ea8802db4e",
   "metadata": {},
   "outputs": [],
   "source": [
    "def get_index_id_mapping(graph, isAttack):\n",
    "    mapping = {}\n",
    "    id_tag = 'ID'\n",
    "    if(isAttack):\n",
    "        id_tag = 'id'\n",
    "    for i in range(len(graph['nodes'])):\n",
    "        mapping[graph['nodes'][i][id_tag]]=i\n",
    "    return mapping"
   ]
  },
  {
   "cell_type": "code",
   "execution_count": 38,
   "id": "49a1c593-69a0-4eed-883a-f1caa7922ece",
   "metadata": {},
   "outputs": [],
   "source": [
    "attack_map = get_index_id_mapping(a_graph_data, True)\n",
    "weakness_map = get_index_id_mapping(w_graph_data, False)"
   ]
  },
  {
   "cell_type": "code",
   "execution_count": null,
   "id": "285522d4-35fd-4707-a4db-320371f08943",
   "metadata": {},
   "outputs": [],
   "source": [
    "# 138-[622-619]"
   ]
  },
  {
   "cell_type": "code",
   "execution_count": 59,
   "id": "a3d14ffd-a2fe-442b-ade5-5725bdeffb3e",
   "metadata": {},
   "outputs": [
    {
     "data": {
      "text/plain": [
       "419"
      ]
     },
     "execution_count": 59,
     "metadata": {},
     "output_type": "execute_result"
    }
   ],
   "source": [
    "weakness_map[pos_to_id['622']]"
   ]
  },
  {
   "cell_type": "code",
   "execution_count": 169,
   "id": "4431ab89-8b6b-4737-921c-990bfbd0ee20",
   "metadata": {},
   "outputs": [
    {
     "data": {
      "text/plain": [
       "{'modified': '2023-03-09T18:38:51.471Z',\n",
       " 'name': 'Network Sniffing',\n",
       " 'description': 'Network sniffing is the practice of using a network interface on a computer system to monitor or capture information (Citation: Enterprise ATT&CK January 2018) regardless of whether it is the specified destination for the information. \\n\\nAn adversary may attempt to sniff the traffic to gain information about the target. This information can vary in the level of importance. Relatively unimportant information is general communications to and from machines.  Relatively important information would be login information. User credentials may be sent over an unencrypted protocol, such as Telnet, that can be captured and obtained through network packet analysis. \\n\\nIn addition, ARP and Domain Name Service (DNS) poisoning can be used to capture credentials to websites, proxies, and internal systems by redirecting traffic to an adversary.',\n",
       " 'kill_chain_phases': [{'kill_chain_name': 'mitre-ics-attack',\n",
       "   'phase_name': 'discovery'}],\n",
       " 'x_mitre_attack_spec_version': '2.1.0',\n",
       " 'x_mitre_deprecated': False,\n",
       " 'x_mitre_detection': '',\n",
       " 'x_mitre_domains': ['ics-attack'],\n",
       " 'x_mitre_is_subtechnique': False,\n",
       " 'x_mitre_modified_by_ref': 'identity--c78cb6e5-0c4b-4611-8297-d1b8b55e40b5',\n",
       " 'x_mitre_platforms': ['Field Controller/RTU/PLC/IED'],\n",
       " 'x_mitre_version': '1.0',\n",
       " 'x_mitre_data_sources': ['Process: Process Creation',\n",
       "  'Command: Command Execution'],\n",
       " 'type': 'attack-pattern',\n",
       " 'id': 'attack-pattern--38213338-1aab-479d-949b-c81b66ccca5c',\n",
       " 'created': '2020-05-21T17:43:26.506Z',\n",
       " 'created_by_ref': 'identity--c78cb6e5-0c4b-4611-8297-d1b8b55e40b5',\n",
       " 'revoked': False,\n",
       " 'external_references': [{'source_name': 'mitre-attack',\n",
       "   'url': 'https://attack.mitre.org/techniques/T0842',\n",
       "   'external_id': 'T0842'},\n",
       "  {'source_name': 'Enterprise ATT&CK January 2018',\n",
       "   'description': 'Enterprise ATT&CK 2018, January 11 Network Sniffing Retrieved. 2018/05/17 ',\n",
       "   'url': 'https://attack.mitre.org/wiki/Technique/T1040'}],\n",
       " 'object_marking_refs': ['marking-definition--fa42a846-8d90-4e51-bc29-71d5b4802168']}"
      ]
     },
     "execution_count": 169,
     "metadata": {},
     "output_type": "execute_result"
    }
   ],
   "source": [
    "a_graph_data['nodes'][attack_map[pos_to_id['64']]]"
   ]
  },
  {
   "cell_type": "code",
   "execution_count": 170,
   "id": "f847bf12-330e-471a-8466-7a3f6aeb34bb",
   "metadata": {},
   "outputs": [
    {
     "data": {
      "text/plain": [
       "{'ID': '291',\n",
       " 'Name': 'Reliance on IP Address for Authentication',\n",
       " 'Abstraction': 'Variant',\n",
       " 'Structure': 'Simple',\n",
       " 'Status': 'Incomplete',\n",
       " 'Description': 'The product uses an IP address for authentication.',\n",
       " 'Extended_Description': 'IP addresses can be easily spoofed. Attackers can forge the source IP address of the packets they send, but response packets will return to the forged IP address. To see the response packets, the attacker has to sniff the traffic between the victim machine and the forged IP address. In order to accomplish the required sniffing, attackers typically attempt to locate themselves on the same subnet as the victim machine. Attackers may be able to circumvent this requirement by using source routing, but source routing is disabled across much of the Internet today. In summary, IP address verification can be a useful part of an authentication scheme, but it should not be the single factor required for authentication.',\n",
       " 'Related_Weaknesses': [{'Nature': 'ChildOf',\n",
       "   'CWE_ID': '290',\n",
       "   'View_ID': '1000',\n",
       "   'Ordinal': 'Primary'},\n",
       "  {'Nature': 'ChildOf', 'CWE_ID': '923', 'View_ID': '1000'},\n",
       "  {'Nature': 'ChildOf', 'CWE_ID': '471', 'View_ID': '1000'}],\n",
       " 'Likelihood_Of_Exploit': 'High',\n",
       " 'Mapping_Notes': ['Allowed',\n",
       "  'This CWE entry is at the Variant level of abstraction, which is a preferred level of abstraction for mapping to the root causes of vulnerabilities.',\n",
       "  \"Carefully read both the name and description to ensure that this mapping is an appropriate fit. Do not try to 'force' a mapping to a lower-level Base/Variant simply to comply with this preferred level of abstraction.\"],\n",
       " 'Content_History': ['Trusting Self-reported IP Address']}"
      ]
     },
     "execution_count": 170,
     "metadata": {},
     "output_type": "execute_result"
    }
   ],
   "source": [
    "w_graph_data['nodes'][weakness_map[pos_to_id['689']]]"
   ]
  },
  {
   "cell_type": "code",
   "execution_count": 175,
   "id": "36ab4a13-9328-460e-b190-64f9b1ad8cfb",
   "metadata": {},
   "outputs": [
    {
     "data": {
      "text/plain": [
       "446"
      ]
     },
     "execution_count": 175,
     "metadata": {},
     "output_type": "execute_result"
    }
   ],
   "source": [
    "id_to_pos['923']"
   ]
  },
  {
   "cell_type": "code",
   "execution_count": 189,
   "id": "3b9eb784-4952-46dd-8702-b81c00655a85",
   "metadata": {},
   "outputs": [
    {
     "data": {
      "text/plain": [
       "{'ID': '923',\n",
       " 'Name': 'Improper Restriction of Communication Channel to Intended Endpoints',\n",
       " 'Abstraction': 'Class',\n",
       " 'Structure': 'Simple',\n",
       " 'Status': 'Incomplete',\n",
       " 'Description': 'The product establishes a communication channel to (or from) an endpoint for privileged or protected operations, but it does not properly ensure that it is communicating with the correct endpoint.',\n",
       " 'Extended_Description': ['Attackers might be able to spoof the intended endpoint from a different system or process, thus gaining the same level of access as the intended endpoint.',\n",
       "  'While this issue frequently involves authentication between network-based clients and servers, other types of communication channels and endpoints can have this weakness.'],\n",
       " 'Related_Weaknesses': [{'Nature': 'ChildOf',\n",
       "   'CWE_ID': '284',\n",
       "   'View_ID': '1000',\n",
       "   'Ordinal': 'Primary'}],\n",
       " 'Mapping_Notes': ['Allowed-with-Review',\n",
       "  'This CWE entry is a Class and might have Base-level children that would be more appropriate',\n",
       "  'Examine children of this entry to see if there is a better fit'],\n",
       " 'Content_History': ['Improper Authentication of Endpoint in a Communication Channel']}"
      ]
     },
     "execution_count": 189,
     "metadata": {},
     "output_type": "execute_result"
    }
   ],
   "source": [
    "w_graph_data['nodes'][weakness_map['923']]"
   ]
  },
  {
   "cell_type": "code",
   "execution_count": 196,
   "id": "5f14615f-b674-440f-a1ee-2546d7411655",
   "metadata": {},
   "outputs": [
    {
     "data": {
      "text/plain": [
       "688"
      ]
     },
     "execution_count": 196,
     "metadata": {},
     "output_type": "execute_result"
    }
   ],
   "source": [
    "id_to_pos['290'] #388"
   ]
  },
  {
   "cell_type": "code",
   "execution_count": 193,
   "id": "cbc658b6-02f7-4147-916c-a8a6a23360b2",
   "metadata": {},
   "outputs": [
    {
     "data": {
      "text/plain": [
       "(array([46]),)"
      ]
     },
     "execution_count": 193,
     "metadata": {},
     "output_type": "execute_result"
    }
   ],
   "source": [
    "a = np.argsort(our_emb_matrix[0][446][:203])[::-1]\n",
    "np.where(a==64)"
   ]
  },
  {
   "cell_type": "code",
   "execution_count": 197,
   "id": "b4992180-3266-4819-8bae-276bebd5aa6d",
   "metadata": {},
   "outputs": [
    {
     "data": {
      "text/plain": [
       "(array([72]),)"
      ]
     },
     "execution_count": 197,
     "metadata": {},
     "output_type": "execute_result"
    }
   ],
   "source": [
    "a = np.argsort(text_matrix[0][688][:203])[::-1]\n",
    "np.where(a==64)"
   ]
  },
  {
   "cell_type": "code",
   "execution_count": 88,
   "id": "10ba7070-df79-4852-968d-aad6bfd0d530",
   "metadata": {},
   "outputs": [
    {
     "data": {
      "text/plain": [
       "619"
      ]
     },
     "execution_count": 88,
     "metadata": {},
     "output_type": "execute_result"
    }
   ],
   "source": [
    "1136-517"
   ]
  },
  {
   "cell_type": "code",
   "execution_count": 89,
   "id": "27ed133d-0e2d-4bdf-ac51-721164d2bfa7",
   "metadata": {},
   "outputs": [
    {
     "data": {
      "text/plain": [
       "81"
      ]
     },
     "execution_count": 89,
     "metadata": {},
     "output_type": "execute_result"
    }
   ],
   "source": [
    "1136-1055"
   ]
  },
  {
   "cell_type": "code",
   "execution_count": 124,
   "id": "ba7435f7-cd82-4d51-a90e-c404f0c0c542",
   "metadata": {},
   "outputs": [],
   "source": [
    "def get_top(cosine_matrix, k):\n",
    "    # Flatten the matrix while keeping track of the indices\n",
    "    flattened_indices = np.argsort(cosine_matrix, axis=None)[::-1]\n",
    "    \n",
    "    # Initialize an empty list to store the valid top 10 pairs\n",
    "    valid_top_indices = []\n",
    "    \n",
    "    # Loop over the sorted indices to filter out diagonal elements\n",
    "    for flat_index in flattened_indices:\n",
    "        row, col = np.unravel_index(flat_index, cosine_matrix.shape)\n",
    "        if (row != col) and ((row<203 and col>203)):\n",
    "            valid_top_indices.append((row, col))\n",
    "        if len(valid_top_indices) == k:\n",
    "            break\n",
    "    \n",
    "    # Print the row and column indices of the top 10 maximum values (excluding diagonal)\n",
    "    print(f\"Row and column indices of the top {k} maximum values (excluding diagonal): {valid_top_indices}\")\n",
    "    \n",
    "    # Optionally, print the corresponding values\n",
    "    top_values = [cosine_matrix[row, col] for row, col in valid_top_indices]\n",
    "    print(f\"Top {k} maximum values (excluding diagonal): {top_values}\")\n",
    "    return valid_top_indices"
   ]
  },
  {
   "cell_type": "code",
   "execution_count": 137,
   "id": "d3b35feb-81f9-4cc3-b034-6aeb4d4fa3b9",
   "metadata": {},
   "outputs": [
    {
     "name": "stdout",
     "output_type": "stream",
     "text": [
      "Row and column indices of the top 50 maximum values (excluding diagonal): [(55, 609), (9, 609), (117, 481), (27, 1121), (9, 608), (112, 974), (147, 1105), (156, 707), (55, 608), (64, 1121), (72, 903), (47, 608), (59, 1121), (150, 1105), (64, 689), (45, 953), (41, 609), (108, 1048), (69, 608), (17, 660), (147, 708), (93, 609), (176, 974), (9, 433), (117, 607), (66, 481), (23, 676), (27, 689), (62, 973), (156, 902), (62, 750), (172, 831), (41, 1105), (117, 606), (123, 1105), (24, 402), (62, 692), (80, 410), (34, 410), (109, 609), (109, 1105), (31, 708), (23, 677), (136, 440), (170, 903), (93, 1020), (147, 425), (23, 675), (147, 608), (78, 700)]\n",
      "Top 50 maximum values (excluding diagonal): [0.90922165, 0.89574367, 0.891054, 0.8893047, 0.8890803, 0.8748248, 0.87027353, 0.86971503, 0.8627675, 0.8622357, 0.8567123, 0.8556904, 0.8545036, 0.85385674, 0.8532069, 0.8510028, 0.85087425, 0.8439738, 0.8435763, 0.8424997, 0.8399693, 0.8393638, 0.8389293, 0.8387298, 0.8375761, 0.8367665, 0.836677, 0.8362685, 0.83599174, 0.83561856, 0.8341595, 0.8338766, 0.83296037, 0.83225256, 0.83199644, 0.83187973, 0.83171165, 0.8305574, 0.8296394, 0.82894677, 0.82834256, 0.82768434, 0.8274825, 0.8274011, 0.826755, 0.8267496, 0.8258251, 0.82577145, 0.8256662, 0.82529444]\n"
     ]
    }
   ],
   "source": [
    "top1 = get_top(our_emb_matrix[0],50)"
   ]
  },
  {
   "cell_type": "code",
   "execution_count": 138,
   "id": "ffa8a01d-0b9c-4813-b5f1-745bfe7c64b1",
   "metadata": {},
   "outputs": [
    {
     "name": "stdout",
     "output_type": "stream",
     "text": [
      "Row and column indices of the top 50 maximum values (excluding diagonal): [(64, 689), (112, 393), (64, 700), (37, 609), (123, 390), (74, 797), (5, 708), (176, 393), (43, 425), (64, 1121), (123, 1020), (109, 390), (64, 797), (74, 689), (85, 425), (177, 538), (137, 700), (45, 390), (69, 390), (5, 390), (71, 708), (47, 609), (74, 700), (10, 1020), (55, 609), (109, 609), (150, 425), (177, 425), (21, 425), (121, 797), (43, 708), (9, 609), (10, 425), (69, 425), (10, 1025), (112, 425), (68, 708), (45, 1120), (10, 390), (45, 209), (5, 425), (105, 391), (64, 725), (55, 215), (69, 609), (45, 1014), (47, 390), (167, 538), (85, 393), (123, 901)]\n",
      "Top 50 maximum values (excluding diagonal): [0.7224605577264848, 0.6961045823242791, 0.6855438816290164, 0.6817153199707007, 0.6815209218783034, 0.68150253837665, 0.6788426776620691, 0.6786281365870481, 0.6779542877290493, 0.674740289963606, 0.6735925008230782, 0.6689157415709652, 0.666410579994802, 0.6663217070562745, 0.6636631367016123, 0.6621950983086372, 0.6602272374317526, 0.6600930814885269, 0.6595416081264054, 0.6590200676357827, 0.6559785042366584, 0.6552413810944742, 0.6551931504361299, 0.654989300808556, 0.6549771791499774, 0.6514522423628615, 0.6510550839721421, 0.6499895966151252, 0.6484033022629816, 0.6476800751435152, 0.6471157399828603, 0.6453187782500638, 0.6451944837552219, 0.6449076981754014, 0.644485671459036, 0.6439830767975311, 0.6438722757386559, 0.6435060240823223, 0.642816640161979, 0.6418555652080816, 0.6408914407963838, 0.640234504204463, 0.6400538983410465, 0.6400104882116808, 0.6398679406553172, 0.6395072362942956, 0.6387964202831687, 0.6382507473444213, 0.6382123794458465, 0.6379772730696878]\n"
     ]
    }
   ],
   "source": [
    "top2 = get_top(text_matrix[0],50)"
   ]
  },
  {
   "cell_type": "code",
   "execution_count": 139,
   "id": "30de548c-7c61-4061-9ac5-3f492d7648bb",
   "metadata": {},
   "outputs": [
    {
     "data": {
      "text/plain": [
       "0.8532069"
      ]
     },
     "execution_count": 139,
     "metadata": {},
     "output_type": "execute_result"
    }
   ],
   "source": [
    "our_emb_matrix[0][64][689]"
   ]
  },
  {
   "cell_type": "code",
   "execution_count": 140,
   "id": "fa2df15c-02c3-4fde-bf6b-69683fd6ed49",
   "metadata": {},
   "outputs": [
    {
     "data": {
      "text/plain": [
       "{(9, 609), (55, 609), (64, 689), (64, 1121), (109, 609)}"
      ]
     },
     "execution_count": 140,
     "metadata": {},
     "output_type": "execute_result"
    }
   ],
   "source": [
    "set(top1) & set(top2)"
   ]
  },
  {
   "cell_type": "code",
   "execution_count": null,
   "id": "49a70d69-bd54-40d9-aeeb-8f56fa583c66",
   "metadata": {},
   "outputs": [],
   "source": []
  }
 ],
 "metadata": {
  "kernelspec": {
   "display_name": "Python 3 (ipykernel)",
   "language": "python",
   "name": "python3"
  },
  "language_info": {
   "codemirror_mode": {
    "name": "ipython",
    "version": 3
   },
   "file_extension": ".py",
   "mimetype": "text/x-python",
   "name": "python",
   "nbconvert_exporter": "python",
   "pygments_lexer": "ipython3",
   "version": "3.8.19"
  }
 },
 "nbformat": 4,
 "nbformat_minor": 5
}
