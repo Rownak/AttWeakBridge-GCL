{
 "cells": [
  {
   "cell_type": "code",
   "execution_count": 1,
   "id": "5c0625f5-4eab-4d05-8243-8d98e41234bd",
   "metadata": {},
   "outputs": [],
   "source": [
    "import numpy as np\n",
    "import torch\n",
    "import torch.nn as nn\n",
    "import torch.optim as optim\n",
    "import json\n",
    "import sys\n",
    "sys.path.append('../')\n",
    "import config"
   ]
  },
  {
   "cell_type": "code",
   "execution_count": 2,
   "id": "cd58ab96-1ef2-43d7-9a0d-d97ee3ba6430",
   "metadata": {},
   "outputs": [],
   "source": [
    "prompt_embeddings = np.load(\"data/prompt_embeddings.npy\")"
   ]
  },
  {
   "cell_type": "code",
   "execution_count": 3,
   "id": "aa3a8bc7-431c-4fc2-9e10-39f146b3e21e",
   "metadata": {},
   "outputs": [],
   "source": [
    "# Define Transformer Encoder\n",
    "# Define Encoder\n",
    "class Encoder(nn.Module):\n",
    "    def __init__(self, input_dim, hidden_dim):\n",
    "        super(Encoder, self).__init__()\n",
    "        self.fc = nn.Linear(input_dim, hidden_dim)\n",
    "        self.activation = nn.ReLU()\n",
    "    \n",
    "    def forward(self, x):\n",
    "        x = self.activation(self.fc(x))\n",
    "        return x\n",
    "# Define Decoder\n",
    "class Decoder(nn.Module):\n",
    "    def __init__(self, hidden_dim, output_dim):\n",
    "        super(Decoder, self).__init__()\n",
    "        self.fc = nn.Linear(hidden_dim, output_dim)\n",
    "    \n",
    "    def forward(self, x):\n",
    "        x = self.fc(x)\n",
    "        return x"
   ]
  },
  {
   "cell_type": "code",
   "execution_count": 4,
   "id": "90398cac-e455-4b39-953e-d9f824905c8e",
   "metadata": {},
   "outputs": [],
   "source": [
    "def generate_graph_emb(org_emb):\n",
    "    checkpoint = torch.load('../embedding_generator/data/encoder_decoder_model.pth')\n",
    "\n",
    "    encoder.load_state_dict(checkpoint['encoder_state_dict'])\n",
    "    decoder.load_state_dict(checkpoint['decoder_state_dict'])\n",
    "    # Ensure the model is in evaluation mode\n",
    "    encoder.eval()\n",
    "    decoder.eval()\n",
    "    \n",
    "    # Load new text embeddings\n",
    "    new_text_embeddings = org_emb\n",
    "    new_text_embeddings = torch.tensor(new_text_embeddings, dtype=torch.float32).to(device)\n",
    "    \n",
    "    # Perform inference\n",
    "    with torch.no_grad():\n",
    "        # Pass new text embeddings through the encoder\n",
    "        encoded_text = encoder(new_text_embeddings.to(device))\n",
    "        \n",
    "        # Generate graph embeddings through the decoder\n",
    "        generated_graph_embeddings = decoder(encoded_text)\n",
    "    \n",
    "    # Convert the generated embeddings back to numpy if needed\n",
    "    generated_graph_embeddings = generated_graph_embeddings.cpu().detach().numpy()\n",
    "    \n",
    "    # print(\"Generated Graph Embeddings:\", generated_graph_embeddings)\n",
    "    return generated_graph_embeddings"
   ]
  },
  {
   "cell_type": "code",
   "execution_count": 5,
   "id": "40c32e15-3cd0-48b2-a428-fa8bb87fdea3",
   "metadata": {},
   "outputs": [],
   "source": [
    "text_embedding_dim = prompt_embeddings.shape[0]  # Example text embedding dimension\n",
    "hidden_dim = 128\n",
    "device = torch.device(\"cuda\" if torch.cuda.is_available() else \"cpu\")\n",
    "encoder = Encoder(text_embedding_dim, hidden_dim).to(device)\n",
    "decoder = Decoder(hidden_dim, 128).to(device)"
   ]
  },
  {
   "cell_type": "code",
   "execution_count": 6,
   "id": "e93901a1-54c1-4511-9dc0-805258dedb21",
   "metadata": {},
   "outputs": [],
   "source": [
    "prompt_graph_embeddings = generate_graph_emb(prompt_embeddings)"
   ]
  },
  {
   "cell_type": "code",
   "execution_count": 9,
   "id": "4460bdf9-434b-4ca5-9fa6-976d77865898",
   "metadata": {},
   "outputs": [],
   "source": [
    "import json\n",
    "import numpy as np\n",
    "total_obj=1136\n",
    "paragraphs = []\n",
    "with open(config.DESCRIPTION_FILE) as fp:\n",
    "    pos_to_desc = json.load(fp)\n",
    "with open(config.DATA_DIR+\"doc_id_to_emb_id.json\") as fp:\n",
    "    id_to_pos = json.load(fp)\n",
    "with open(config.DATA_DIR+'emb_id_to_doc_id.json') as fp:\n",
    "    pos_to_id = json.load(fp)\n",
    "graph_embeddings = np.load(config.OUTPUT_DIR+\"gcl_data/pt_gpt2-xl/sample_10/GAT/triplet/text_deepwalk_dual3_gm_1.0.npy\")\n",
    "text_embeddings = np.load(config.EMBEDDING_DIR+\"pt_gpt2-xl/text_embeddings.npy\")\n"
   ]
  },
  {
   "cell_type": "code",
   "execution_count": 16,
   "id": "00e0c42f-b549-469f-a2c2-b85c34ac8c2e",
   "metadata": {},
   "outputs": [
    {
     "data": {
      "text/plain": [
       "656"
      ]
     },
     "execution_count": 16,
     "metadata": {},
     "output_type": "execute_result"
    }
   ],
   "source": [
    "id_to_pos['522']"
   ]
  },
  {
   "cell_type": "code",
   "execution_count": 17,
   "id": "dcfa01b3-00bf-408f-9711-732566e34e50",
   "metadata": {},
   "outputs": [
    {
     "data": {
      "text/plain": [
       "'Reliance on Security Through Obscurity. When available, use publicly-vetted algorithms and procedures, as these are more likely to undergo more extensive security analysis and testing. This is especially the case with encryption and authentication. This reliance on \"security through obscurity\" can produce resultant weaknesses if an attacker is able to reverse engineer the inner workings of the mechanism. Note that obscurity can be one small part of defense in depth, since it can create more work for an attacker; however, it is a significant risk if used as the primary means of protection. '"
      ]
     },
     "execution_count": 17,
     "metadata": {},
     "output_type": "execute_result"
    }
   ],
   "source": [
    "pos_to_desc['656']"
   ]
  },
  {
   "cell_type": "code",
   "execution_count": 18,
   "id": "e6244737-2b60-4041-8d78-14de3c5eaac9",
   "metadata": {},
   "outputs": [],
   "source": [
    "from sklearn.metrics.pairwise import cosine_similarity\n",
    "def get_sim(gen_emb, org_emb):\n",
    "    # Compute the cosine similarity matrix\n",
    "    print(gen_emb.shape)\n",
    "    print(org_emb.shape)\n",
    "    gen_emb = gen_emb.reshape(1,gen_emb.shape[0])\n",
    "    org_emb = org_emb.reshape(1,org_emb.shape[0])\n",
    "    cosine_sim_matrix = cosine_similarity(gen_emb, org_emb)\n",
    "    diagonal_values = np.diagonal(cosine_sim_matrix)\n",
    "    # print(cosine_sim_matrix.shape)  # Should print (203, 933)\n",
    "    return diagonal_values"
   ]
  },
  {
   "cell_type": "code",
   "execution_count": 19,
   "id": "583d4f49-fff5-4628-8256-d5843d2e9e59",
   "metadata": {},
   "outputs": [
    {
     "name": "stdout",
     "output_type": "stream",
     "text": [
      "(128,)\n",
      "(128,)\n"
     ]
    },
    {
     "data": {
      "text/plain": [
       "array([-0.16370472], dtype=float32)"
      ]
     },
     "execution_count": 19,
     "metadata": {},
     "output_type": "execute_result"
    }
   ],
   "source": [
    "get_sim(prompt_graph_embeddings, graph_embeddings[656])"
   ]
  },
  {
   "cell_type": "code",
   "execution_count": 20,
   "id": "7dcbb17f-9416-48bb-b805-8139af168ba4",
   "metadata": {},
   "outputs": [
    {
     "data": {
      "text/plain": [
       "(1, 128)"
      ]
     },
     "execution_count": 20,
     "metadata": {},
     "output_type": "execute_result"
    }
   ],
   "source": [
    "prompt_graph_embeddings.reshape(1,-1).shape"
   ]
  },
  {
   "cell_type": "code",
   "execution_count": 21,
   "id": "c2a76c64-2cb9-43fd-9ad0-43cd68c3960a",
   "metadata": {},
   "outputs": [],
   "source": [
    "np.save(\"data/prompt_graph_embeddings.npy\", prompt_graph_embeddings)"
   ]
  },
  {
   "cell_type": "code",
   "execution_count": 22,
   "id": "a99e6555-1590-47d0-9bf6-3ea6f0819778",
   "metadata": {},
   "outputs": [],
   "source": [
    "# Get top similar"
   ]
  },
  {
   "cell_type": "code",
   "execution_count": 23,
   "id": "eb0a834e-dedc-407d-b29b-76d524186360",
   "metadata": {},
   "outputs": [],
   "source": [
    "attack_size=203\n",
    "weakness_size=933\n",
    "n_nodes = 1136"
   ]
  },
  {
   "cell_type": "code",
   "execution_count": 24,
   "id": "023a4348-770d-4eaa-acb2-9c3839c82590",
   "metadata": {},
   "outputs": [],
   "source": [
    "def get_top_attack_weakness(prompt_graph_embeddings, graph_embeddings, top_k1, top_k2):\n",
    "    prompt_graph_embeddings = prompt_graph_embeddings.reshape(1,-1)\n",
    "    cos_sim_attack = cosine_similarity(prompt_graph_embeddings, graph_embeddings[:attack_size]).reshape(-1)\n",
    "    cos_sim_weak = cosine_similarity(prompt_graph_embeddings, graph_embeddings[attack_size:]).reshape(-1)\n",
    "    top_attack = np.argsort(cos_sim_attack)[::-1][:top_k1]\n",
    "    top_weak = np.argsort(cos_sim_weak)[::-1][:top_k2]\n",
    "\n",
    "    attack_pairs = list(zip(cos_sim_attack[top_attack], top_attack))\n",
    "    weak_pairs = list(zip(cos_sim_weak[top_weak], top_weak+attack_size))\n",
    "    \n",
    "    return attack_pairs, weak_pairs"
   ]
  },
  {
   "cell_type": "code",
   "execution_count": 25,
   "id": "31add602-e0f3-471f-8658-9f67b9c577e5",
   "metadata": {},
   "outputs": [
    {
     "data": {
      "text/plain": [
       "([(0.1715091, 172),\n",
       "  (0.13287933, 184),\n",
       "  (0.11583056, 160),\n",
       "  (0.11303975, 195),\n",
       "  (0.10477096, 42),\n",
       "  (0.101518475, 115),\n",
       "  (0.10004559, 176),\n",
       "  (0.09450128, 45),\n",
       "  (0.09160155, 186),\n",
       "  (0.091591865, 39)],\n",
       " [(0.21997546, 404),\n",
       "  (0.20372754, 791),\n",
       "  (0.20244679, 649),\n",
       "  (0.19950409, 829),\n",
       "  (0.19440942, 230),\n",
       "  (0.19415408, 303),\n",
       "  (0.19164823, 979),\n",
       "  (0.18940672, 368),\n",
       "  (0.1878996, 405),\n",
       "  (0.18762362, 788)])"
      ]
     },
     "execution_count": 25,
     "metadata": {},
     "output_type": "execute_result"
    }
   ],
   "source": [
    "get_top_attack_weakness(prompt_graph_embeddings, graph_embeddings, 10, 10)"
   ]
  },
  {
   "cell_type": "code",
   "execution_count": 26,
   "id": "a7adc932-95f6-499f-9c65-2c2e5b2f0fe4",
   "metadata": {},
   "outputs": [
    {
     "data": {
      "text/plain": [
       "(1136, 128)"
      ]
     },
     "execution_count": 26,
     "metadata": {},
     "output_type": "execute_result"
    }
   ],
   "source": [
    "graph_embeddings.shape"
   ]
  },
  {
   "cell_type": "code",
   "execution_count": 27,
   "id": "9ad092ae-89e0-496b-8005-c27193ec36f3",
   "metadata": {},
   "outputs": [],
   "source": [
    "related_attack, related_weakness = get_top_attack_weakness(prompt_graph_embeddings, graph_embeddings, 10, 10)"
   ]
  },
  {
   "cell_type": "code",
   "execution_count": 32,
   "id": "a13bcf1b-ef78-4c88-a9af-d78e1eb868f5",
   "metadata": {},
   "outputs": [],
   "source": [
    "def generate_prompt_context(prompt, related_attack, related_weakness):\n",
    "    attack_text = \"\"\n",
    "    weakness_text = \"\"\n",
    "    for _,pos in related_attack:\n",
    "        attack_text = attack_text+\" \"+ pos_to_desc[pos_to_id[str(pos)]]\n",
    "    for _,pos in related_weakness:\n",
    "        weakness_text = weakness_text+\" \"+ pos_to_desc[pos_to_id[str(pos)]]\n",
    "    augmented_prompt = prompt+ \"\\nRelated Att@ck Description:\\n\"+attack_text+ \"\\nRelated Weakness Description:\\n\"+weakness_text\n",
    "    return augmented_prompt"
   ]
  },
  {
   "cell_type": "code",
   "execution_count": 33,
   "id": "7744c5af-ec4d-4ded-b0d7-a1961361f204",
   "metadata": {},
   "outputs": [],
   "source": [
    "prompt = \"Can you suggest common weaknesses and vulnerabilities related to the Colonial Pipeline Attack? In May of 2021, a hacker group known as DarkSide gained access to Colonial Pipeline’s network through a compromised VPN password. This was possible, in part, because the system did not have multifactor authentication protocols in place. This made entry into the VPN easier since multiple steps were not required to verify the user’s identity. Even though the compromised password was a “complex password,” malicious actors acquired it as part of a separate data breach.\"\n",
    "\n",
    "augmented_prompt = generate_prompt_context(prompt, related_attack, related_weakness)"
   ]
  },
  {
   "cell_type": "code",
   "execution_count": 34,
   "id": "ce298a41-b3fd-4438-a91e-e75da3d89580",
   "metadata": {},
   "outputs": [
    {
     "name": "stdout",
     "output_type": "stream",
     "text": [
      "Can you suggest common weaknesses and vulnerabilities related to the Colonial Pipeline Attack? In May of 2021, a hacker group known as DarkSide gained access to Colonial Pipeline’s network through a compromised VPN password. This was possible, in part, because the system did not have multifactor authentication protocols in place. This made entry into the VPN easier since multiple steps were not required to verify the user’s identity. Even though the compromised password was a “complex password,” malicious actors acquired it as part of a separate data breach.\n",
      "Related Att@ck Description:\n",
      " Adversaries may compromise safety system functions designed to maintain safe operation of a process when unacceptable or dangerous conditions occur. Safety systems are often composed of the same elements as control systems but have the sole purpose of ensuring the process fails in a predetermined safe manner. \n",
      "\n",
      "Many unsafe conditions in process control happen too quickly for a human operator to react to. Speed is critical in correcting these conditions to limit serious impacts such as Loss of Control and Property Damage. \n",
      "\n",
      "Adversaries may target and disable safety system functions as a prerequisite to subsequent attack execution or to allow for future unsafe conditionals to go unchecked. Detection of a Loss of Safety by operators can result in the shutdown of a process due to strict policies regarding safety systems. This can cause a Loss of Productivity and Revenue and may meet the technical goals of adversaries seeking to cause process disruptions. Prevent abuse of library loading mechanisms in the operating system and software to load untrusted code by configuring appropriate library loading mechanisms and investigating potential vulnerable software. Adversaries may directly interact with the native OS application programming interface (API) to access system functions. Native APIs provide a controlled means of calling low-level OS services within the kernel, such as those involving hardware/devices, memory, and processes. (Citation: The MITRE Corporation May 2017) These native APIs are leveraged by the OS during system boot (when other system components are not yet initialized) as well as carrying out tasks and requests during routine operations. \n",
      "\n",
      "Functionality provided by native APIs are often also exposed to user-mode applications via interfaces and libraries. For example, functions such as memcpy and direct operations on memory registers can be used to modify user and system memory space. Implement a supply chain management program, including policies and procedures to ensure all devices and components originate from a trusted supplier and are tested to verify their integrity. This includes sources of current and expected software or application programs deployed to a device, along with information on the version and patch level for vendor products, full source code for any application programs, and unique identifiers (e.g., hashes, signatures). Make configuration changes related to the operating system or a common feature of the operating system that result in system hardening against techniques. Adversaries may manipulate the I/O image of PLCs through various means to prevent them from functioning as expected. Methods of I/O image manipulation may include overriding the I/O table via direct memory manipulation or using the override function used for testing PLC programs. (Citation: Dr. Kelvin T. Erickson December 2010) During the scan cycle, a PLC reads the status of all inputs and stores them in an image table. (Citation: Nanjundaiah, Vaidyanath) The image table is the PLCs internal storage location where values of inputs/outputs for one scan are stored while it executes the user program. After the PLC has solved the entire logic program, it updates the output image table. The contents of this output image table are written to the corresponding output points in I/O Modules. \n",
      "\n",
      "One of the unique characteristics of PLCs is their ability to override the status of a physical discrete input or to override the logic driving a physical output coil and force the output to a desired status. Adversaries may use scripting languages to execute arbitrary code in the form of a pre-written script or in the form of user-supplied code to an interpreter. Scripting languages are programming languages that differ from compiled languages, in that scripting languages use an interpreter, instead of a compiler. These interpreters read and compile part of the source code just before it is executed, as opposed to compilers, which compile each and every line of code to an executable file. Scripting allows software developers to run their code on any system where the interpreter exists. This way, they can distribute one package, instead of precompiling executables for many different systems. Scripting languages, such as Python, have their interpreters shipped as a default with many Linux distributions. \n",
      "\n",
      "In addition to being a useful tool for developers and administrators, scripting language interpreters may be abused by the adversary to execute code in the target environment. Due to the nature of scripting languages, this allows for weaponized code to be deployed to a target easily, and leaves open the possibility of on-the-fly scripting to perform a task. Deploy mechanisms to protect the confidentiality of information related to operational processes, facility locations, device configurations, programs, or databases that may have information that can be used to infer organizational trade-secrets, recipes, and other intellectual property (IP). Adversaries may attempt to remove indicators of their presence on a system in an effort to cover their tracks. In cases where an adversary may feel detection is imminent, they may try to overwrite, delete, or cover up changes they have made to the device.\n",
      "Related Weakness Description:\n",
      " Incorrect Provision of Specified Functionality. Ensure that your code strictly conforms to specifications. When providing functionality to an external party, it is important that the product behaves in accordance with the details specified. When requirements of nuances are not documented, the functionality may produce unintended behaviors for the caller, possibly leading to an exploitable state.  Declaration of Catch for Generic Exception. Automated static analysis, commonly referred to as Static Application Security Testing (SAST), can find some instances of this weakness by analyzing source code (or binary/compiled code) without having to execute it. Typically, this is done by building a model of data flow and control flow, then searching for potentially-vulnerable patterns that connect \"sources\" (origins of input) with \"sinks\" (destinations where the data interacts with external components, a lower layer such as the OS, etc.) Multiple catch blocks can get ugly and repetitive, but \"condensing\" catch blocks by catching a high-level class like Exception can obscure exceptions that deserve special treatment or that should not be caught at this point in the program. Catching an overly broad exception essentially defeats the purpose of a language's typed exceptions, and can become particularly dangerous if the program grows and begins to throw new types of exceptions. The new exception types will not receive any attention.  Uncaught Exception. Automated static analysis, commonly referred to as Static Application Security Testing (SAST), can find some instances of this weakness by analyzing source code (or binary/compiled code) without having to execute it. Typically, this is done by building a model of data flow and control flow, then searching for potentially-vulnerable patterns that connect \"sources\" (origins of input) with \"sinks\" (destinations where the data interacts with external components, a lower layer such as the OS, etc.) When an exception is not caught, it may cause the program to crash or expose sensitive information.  Expected Behavior Violation. A feature, API, or function does not perform according to its specification.  Use of Redundant Code. Merge common functionality into a single function and then call that function from across the entire code base. This issue makes it more difficult to maintain the product, which indirectly affects security by making it more difficult or time-consuming to find and/or fix vulnerabilities.  For example, if there are two copies of the same code, the programmer might fix a weakness in one copy while forgetting to fix the same weakness in another copy.  Active Debug Code. Remove debug code before deploying the application. A common development practice is to add \"back door\" code specifically designed for debugging or testing purposes that is not intended to be shipped or deployed with the product. These back door entry points create security risks because they are not considered during design or testing and fall outside of the expected operating conditions of the product.  Uncaught Exception in Servlet . Implement Exception blocks to handle all types of Exceptions. When a Servlet throws an exception, the default error response the Servlet container sends back to the user typically includes debugging information. This information is of great value to an attacker. For example, a stack trace might show the attacker a malformed SQL query string, the type of database being used, and the version of the application container. This information enables the attacker to target known vulnerabilities in these components.  Failure to Disable Reserved Bits. Any writes to these reserve bits are blocked (e.g., ignored, access-protected, etc.), or an exception can be asserted. Reserved bits are labeled as such so they can be allocated for a later purpose. They are not to do anything in the current design.  However, designers might want to use these bits to debug or control/configure a future capability to help minimize time to market (TTM). If the logic being controlled by these bits is still enabled in production, an adversary could use the logic to induce unwanted/unsupported behavior in the hardware.  Improper Finite State Machines (FSMs) in Hardware Logic. Define all possible states and handle all unused states through default statements. Ensure that system defaults to a secure state. The functionality and security of the system heavily depend on the implementation of FSMs. FSMs can be used to indicate the current security state of the system. Lots of secure data operations and data transfers rely on the state reported by the FSM. Faulty FSM designs that do not account for all states, either through undefined states (left as don't cares) or through incorrect implementation, might lead an attacker to drive the system into an unstable state from which the system cannot recover without a reset, thus causing a DoS. Depending on what the FSM is used for, an attacker might also gain additional privileges to launch further attacks and compromise the security guarantees.  Return of Wrong Status Code. Fuzz testing (fuzzing) is a powerful technique for generating large numbers of diverse inputs - either randomly or algorithmically - and dynamically invoking the code with those inputs. Even with random inputs, it is often capable of generating unexpected results such as crashes, memory corruption, or resource consumption. Fuzzing effectively produces repeatable test cases that clearly indicate bugs, which helps developers to diagnose the issues. This can lead to unpredictable behavior. If the function is used to make security-critical decisions or provide security-critical information, then the wrong status code can cause the product to assume that an action is safe, even when it is not. \n"
     ]
    }
   ],
   "source": [
    "print(augmented_prompt)"
   ]
  },
  {
   "cell_type": "code",
   "execution_count": null,
   "id": "b94226fe-92fd-4784-b4a5-0ceab7f84ae4",
   "metadata": {},
   "outputs": [],
   "source": [
    "prompt_dict = {\"prompt\":prompt, \"augmented_prompt\":augmented_prompt}"
   ]
  },
  {
   "cell_type": "code",
   "execution_count": null,
   "id": "424e168d-b361-42df-8654-deea45ee38c3",
   "metadata": {},
   "outputs": [],
   "source": [
    "with open('data/augmented_prompt.json','w') as fp:\n",
    "    json.dump(prompt_dict,fp)"
   ]
  },
  {
   "cell_type": "code",
   "execution_count": 31,
   "id": "c7266bc7-a219-4de3-b220-7bada78e36b0",
   "metadata": {},
   "outputs": [
    {
     "data": {
      "text/plain": [
       "dict_keys(['malware--a4a98eab-b691-45d9-8c48-869ef8fefd57', 'attack-pattern--b7e13ee8-182c-4f19-92a4-a88d7d855d54', 'course-of-action--aadac250-bcdc-44e3-a4ae-f52bd0a7a16a', 'attack-pattern--1c478716-71d9-46a4-9a53-fa5d576adb60', 'x-mitre-data-component--9c2fa0ae-7abc-485a-97f6-699e3b6cf9fa', 'attack-pattern--097924ce-a9a9-4039-8591-e0deedfb8722', 'intrusion-set--381fcf73-60f6-4ab2-9991-6af3cbc35192', 'attack-pattern--40b300ba-f553-48bf-862e-9471b220d455', 'course-of-action--97f33c84-8508-45b9-8a1d-cac921828c9e', 'attack-pattern--35392fb4-a31d-4c6a-b9f2-1c65b7f5e6b9', 'attack-pattern--be69c571-d746-4b1f-bdd0-c0c9817e9068', 'x-mitre-data-component--3d20385b-24ef-40e1-9f56-f39750379077', 'attack-pattern--fa3aa267-da22-4bdd-961f-03223322a8d5', 'course-of-action--f0f5c87a-a58d-440a-b3b5-ca679d98c6dd', 'attack-pattern--a81696ef-c106-482c-8f80-59c30f2569fb', 'course-of-action--4fa717d9-cabe-47c8-8cdd-86e9e2e37f30', 'attack-pattern--5a2610f6-9fff-41e1-bc27-575ca20383d4', 'course-of-action--66cfe23e-34b6-4583-b178-ed6a412db2b0', 'malware--088f1d6e-0783-47c6-9923-9c79b2af43d4', 'attack-pattern--2fedbe69-581f-447d-8a78-32ee7db939a9', 'malware--80099a91-4c86-4bea-9ccb-dac55d61960e', 'attack-pattern--2aa406ed-81c3-4c1d-ba83-cfbee5a2847a', 'x-mitre-data-component--b05a614b-033c-4578-b4f2-c63a9feee706', 'course-of-action--f9fcb3ec-6de0-4559-8cd9-ef1c0c7d1971', 'course-of-action--3992ce42-43e9-4bea-b8db-a102ec3ec1e3', 'attack-pattern--25dfc8ad-bd73-4dfd-84a9-3c3d383f76e9', 'attack-pattern--3067b85e-271e-4bc5-81ad-ab1a81d411e3', 'attack-pattern--e6c31185-8040-4267-83d3-b217b8a92f07', 'x-mitre-data-component--9d56be63-3501-4dd3-bb5f-63c580833298', 'attack-pattern--19a71d1e-6334-4233-8260-b749cae37953', 'course-of-action--11f242bc-3121-438c-84b2-5cbd46a4bb17', 'attack-pattern--b14395bd-5419-4ef4-9bd8-696936f509bb', 'x-mitre-data-component--4c12c1c8-bcef-4daf-8e5b-fca235f71d9e', 'attack-pattern--008b8f56-6107-48be-aa9f-746f927dbb61', 'course-of-action--ad12819e-3211-4291-b360-069f280cff0a', 'attack-pattern--e33c7ecc-5a38-497f-beb2-a9a2049a4c20', 'malware--58eddbaf-7416-419a-ad7b-e65b9d4c3b55', 'attack-pattern--63b6942d-8359-4506-bfb3-cf87aa8120ee', 'x-mitre-data-component--84572de3-9583-4c73-aabd-06ea88123dd8', 'attack-pattern--53a26eee-1080-4d17-9762-2027d5a1b805', 'course-of-action--5d97c693-e054-48ba-a3a3-eaf6942dfb65', 'attack-pattern--cd2c76a4-5e23-4ca5-9c40-d5e0604f7101', 'x-mitre-data-component--8ed4e6d0-56d7-4e6b-8fa6-41f41631f30d', 'attack-pattern--09a61657-46e1-439e-b3ed-3e4556a78243', 'x-mitre-data-component--9f387817-df83-432a-b56b-a8fb7f71eedd', 'attack-pattern--2dc2b567-8821-49f9-9045-8740f3d0b958', 'attack-pattern--32632a95-6856-47b9-9ab7-fea5cd7dce00', 'attack-pattern--2900bbd8-308a-4274-b074-5b8bde8347bc', 'attack-pattern--b5b9bacb-97f2-4249-b804-47fd44de1f95', 'campaign--70cab19e-1745-425e-b3db-c02cd5ff157a', 'course-of-action--1e7ccfc0-94c8-496e-8d27-032120892291', 'attack-pattern--8e7089d3-fba2-44f8-94a8-9a79c53920c4', 'malware--e221eb77-1502-4129-af1d-fe1ad55e7ec6', 'x-mitre-data-component--235b7491-2d2b-4617-9a52-3c0783680f71', 'x-mitre-data-component--181a9f8c-c780-4f1f-91a8-edb770e904ba', 'attack-pattern--7830cfcf-b268-4ac0-a69e-73c6affbae9a', 'course-of-action--71eb7dad-07eb-4bbc-9df0-ac57bf2fba4a', 'attack-pattern--ba203963-3182-41ac-af14-7e7ebc83cd61', 'x-mitre-data-component--c0a4a086-cc20-4e1e-b7cb-29d99dfa3fb1', 'attack-pattern--e1f9cdd2-9511-4fca-90d7-f3e92cfdd0bf', 'course-of-action--faf2b40e-5981-433f-aa46-17458e0026f7', 'attack-pattern--648f995e-9c3a-41e4-aeee-98bb41037426', 'course-of-action--c7257b6e-4159-4771-b1f3-2bb93adaecac', 'course-of-action--52c7a1a9-3a78-4528-a44f-cd7b0fa3541a', 'attack-pattern--38213338-1aab-479d-949b-c81b66ccca5c', 'malware--e401d4fe-f0c9-44f0-98e6-f93487678808', 'attack-pattern--ea0c980c-5cf0-43a7-a049-59c4c207566e', 'course-of-action--b11cad63-ef30-4eb8-af0d-6cc46eef3f3e', 'attack-pattern--1af9e3fd-2bcc-414d-adbd-fe3b95c02ca1', 'attack-pattern--e5de767e-f513-41cd-aa15-33f6ce5fbf92', 'x-mitre-data-component--931b3fc6-ad68-42a8-9018-e98515eedc95', 'attack-pattern--1b22b676-9347-4c55-9a35-ef0dc653db5b', 'attack-pattern--e72425f8-9ae6-41d3-bfdb-e1b865e60722', 'x-mitre-data-component--da85d358-741a-410d-9433-20d6269a6170', 'attack-pattern--9a505987-ab05-4f46-a9a6-6441442eec3b', 'x-mitre-data-component--685f917a-e95e-4ba0-ade1-c7d354dae6e0', 'attack-pattern--3de230d4-3e42-4041-b089-17e1128feded', 'course-of-action--bcf91ebc-f316-4e19-b2f6-444e9940c697', 'attack-pattern--2877063e-1851-48d2-bcc6-bc1d2733157e', 'malware--75ecdbf1-c2bb-4afc-a3f9-c8da4de8c661', 'attack-pattern--ead7bd34-186e-4c79-9a4d-b65bcce6ed9d', 'attack-pattern--3405891b-16aa-4bd7-bd7c-733501f9b20f', 'course-of-action--3172222b-4983-43f7-8983-753ded4f13bc', 'attack-pattern--b9160e77-ea9e-4ba9-b1c8-53a3c466b13d', 'intrusion-set--4ca1929c-7d64-4aab-b849-badbfc0c760d', 'attack-pattern--2883c520-7957-46ca-89bd-dab1ad53b601', 'attack-pattern--85a45294-08f1-4539-bf00-7da08aa7b0ee', 'intrusion-set--1c63d4ec-0a75-4daa-b1df-0d11af3d3cc1', 'malware--083bb47b-02c8-4423-81a2-f9ef58572974', 'intrusion-set--190242d7-73fc-4738-af68-20162f7a5aae', 'intrusion-set--fbd29c89-18ba-4c2d-b792-51c0adee049f', 'attack-pattern--c5e3cdbc-0387-4be9-8f83-ff5c0865f377', 'course-of-action--d0909119-2f71-4923-87db-b649881672d7', 'attack-pattern--c267bbee-bb59-47fe-85e0-3ed210337c21', 'attack-pattern--fc5fda7e-6b2c-4457-b036-759896a2efa2', 'malware--54cc1d4f-5c53-4f0e-9ef5-11b4998e82e4', 'attack-pattern--d5a69cfb-fc2a-46cb-99eb-74b236db5061', 'malware--6a0d0ea9-b2c4-43fe-a552-ac41a3009dc5', 'x-mitre-data-component--9ce98c86-8d30-4043-ba54-0784d478d0b5', 'intrusion-set--c77c5576-ca19-42ed-a36f-4b4486a84133', 'malware--ac61f1f9-7bb1-465e-9b8a-c2ce8e88baf5', 'x-mitre-data-component--3772e279-27d6-477a-9fe3-c6beb363594c', 'x-mitre-data-component--f5468e67-51c7-4756-9b4f-65707708e7fa', 'attack-pattern--56ddc820-6cfb-407f-850b-52c035d123ac', 'course-of-action--e0d38502-decb-481d-ad8b-b8f0a0c330bd', 'attack-pattern--2736b752-4ec5-4421-a230-8977dea7649c', 'attack-pattern--493832d9-cea6-4b63-abe7-9a65a6473675', 'x-mitre-data-component--639e87f3-acb6-448a-9645-258f20da4bc5', 'attack-pattern--efbf7888-f61b-4572-9c80-7e2965c60707', 'attack-pattern--5e0f75da-e108-4688-a6de-a4f07cc2cbe3', 'course-of-action--469b78dd-a54d-4f7c-8c3b-4a1dd916b433', 'attack-pattern--2d0d40ad-22fa-4cc8-b264-072557e1364b', 'attack-pattern--53a48c74-0025-45f4-b04a-baa853df8204', 'attack-pattern--8d2f3bab-507c-4424-b58b-edc977bd215c', 'course-of-action--9e3adcad-0b8f-4ecc-a2f3-06f607f53bf0', 'course-of-action--9a945a29-5233-4422-a9e3-3e957b0e8bce', 'x-mitre-data-component--e905dad2-00d6-477c-97e8-800427abd0e8', 'attack-pattern--063b5b92-5361-481a-9c3f-95492ed9a2d8', 'course-of-action--2f0160b7-e982-49d7-9612-f19b810f1722', 'course-of-action--8ac1d6e1-b07f-476a-9732-84984ebc2405', 'x-mitre-data-component--a7f22107-02e5-4982-9067-6625d4a1765a', 'attack-pattern--0fe075d5-beac-4d02-b93e-0f874997db72', 'malware--d3aa1058-b1b3-4c29-a3ba-9a9b90ccd93b', 'attack-pattern--cfe68e93-ce94-4c0f-a57d-3aa72cedd618', 'course-of-action--49363b74-d506-4342-bd63-320586ebadb9', 'campaign--aa73efef-1418-4dbe-b43c-87a498e97234', 'attack-pattern--24a9253e-8948-4c98-b751-8e2aee53127c', 'malware--5719af9d-6b16-46f9-9b28-fb019541ddbb', 'attack-pattern--83ebd22f-b401-4d59-8219-2294172cf916', 'course-of-action--d48b79b2-076d-483e-949c-0d38aa347499', 'course-of-action--de0bc375-50e1-4e26-a342-a8ff8c9d3037', 'malware--5af7a825-2d9f-400d-931a-e00eb9e27f48', 'attack-pattern--138979ba-0430-4de6-a128-2fc0b056ba36', 'course-of-action--dc61c280-c29d-44e5-a960-c0dd1623d2ba', 'attack-pattern--8535b71e-3c12-4258-a4ab-40257a1becc4', 'attack-pattern--9f947a1c-3860-48a8-8af0-a2dfa3efde03', 'course-of-action--ddf3e568-f065-49e2-9106-42029a28ddbd', 'attack-pattern--d67adac8-e3b9-44f9-9e6d-6c2a7d69dbe4', 'course-of-action--9f99fcfd-772e-4e63-9d39-e45612e546dc', 'course-of-action--e57ebc6d-785f-40c8-adb1-b5b5e09b3b48', 'intrusion-set--9538b1a4-4120-4e2d-bf59-3b11fcab05a4', 'x-mitre-data-component--9bde2f9d-a695-4344-bfac-f2dce13d121e', 'course-of-action--059ba11e-e3dc-49aa-84ca-88197f40d4ea', 'course-of-action--1cbcceef-3233-4062-aa86-ec91afe39517', 'attack-pattern--e076cca8-2f08-45c9-aff7-ea5ac798b387', 'campaign--65281d3e-b03c-46b8-8cd8-716363ac3cb2', 'attack-pattern--ab390887-afc0-4715-826d-b1b167d522ae', 'attack-pattern--f8df6b57-14bc-425f-9a91-6f59f6799307', 'attack-pattern--3f1f4ccb-9be2-4ff8-8f69-dd972221169b', 'x-mitre-data-component--f42df6f0-6395-4f0c-9376-525a031f00c3', 'attack-pattern--fab8fc7d-f27f-4fbb-9de6-44740aade05f', 'malware--4dcff507-5af8-47ce-964a-8d9569e9ccfe', 'x-mitre-data-component--39b9db72-8b48-4595-a18d-db5bbba3091b', 'x-mitre-data-component--1177a4c5-31c8-400c-8544-9071166afa0e', 'malware--ff6840c9-4c87-4d07-bbb6-9f50aa33d498', 'course-of-action--fce6866f-9a87-4d3e-a73c-f02d8937fe0e', 'course-of-action--72e46e53-e12d-4106-9c70-33241b6ed549', 'x-mitre-data-component--2b3bfe19-d59a-460d-93bb-2f546adc2d2c', 'attack-pattern--2bb4d762-bf4a-4bc3-9318-15cc6a354163', 'course-of-action--86b455f2-fb63-4043-93a8-32a3a7703a02', 'attack-pattern--b52870cc-83f3-473c-b895-72d91751030b', 'malware--2eaa5319-5e1e-4dd7-bbc4-566fced3964a', 'attack-pattern--25852363-5968-4673-b81d-341d5ed90bd1', 'attack-pattern--4c2e1408-9d68-4187-8e6b-a77bc52700ec', 'course-of-action--143b4398-3222-480a-b6a4-e131bc2d3144', 'course-of-action--622fe4d4-0e8e-4d17-9c25-6c9cef1f15d5', 'course-of-action--7f153c28-e5f1-4764-88fb-eea1d9b0ad4a', 'attack-pattern--8bb4538f-f16f-49f0-a431-70b5444c7349', 'malware--00e7d565-9883-4ee5-b642-8fd17fd6a3f5', 'x-mitre-data-component--ee575f4a-2d4f-48f6-b18b-89067760adc1', 'attack-pattern--3b6b9246-43f8-4c69-ad7a-2b11cfe0a0d9', 'course-of-action--8bc4a54e-810c-4600-8b6c-08fa8413a401', 'attack-pattern--5fa00fdd-4a55-4191-94a0-564181d7fec2', 'x-mitre-data-component--faa34cf6-cf32-4dc9-bd6a-8f7a606ff65b', 'course-of-action--49b306c1-a046-42c5-a4d2-30f264ada110', 'attack-pattern--b0628bfc-5376-4a38-9182-f324501cb4cf', 'attack-pattern--36e9f5bc-ac13-4da4-a2f4-01f4877d9004', 'attack-pattern--c9a8d958-fcdb-40d2-af4c-461c8031651a', 'x-mitre-data-component--61f1d40e-f3d0-4cc6-aa2d-937b6204194f', 'intrusion-set--00f67a77-86a4-4adf-be26-1a54fc713340', 'x-mitre-data-component--3d6e6b3b-4aa8-40e1-8c47-91db0f313d9f', 'intrusion-set--dd2d9ca6-505b-4860-a604-233685b802c7', 'malware--a020a61c-423f-4195-8c46-ba1d21abba37', 'course-of-action--da44255d-85c5-492c-baf3-ee823d44f848', 'course-of-action--2ab9fc6d-3cf6-4d7b-85f1-3ad6949233b3', 'course-of-action--337c4e2a-21a7-4d9a-bfee-9efd6cebf0e5', 'course-of-action--99c746d7-a08a-4169-94f9-b8c0dad716fa', 'malware--68dca94f-c11d-421e-9287-7c501108e18c', 'x-mitre-data-component--a953ca55-921a-44f7-9b8d-3d40141aa17e', 'course-of-action--8a3aadd0-b5f4-433a-800e-4893e4196bb7', 'intrusion-set--2a7914cf-dff3-428d-ab0f-1014d1c28aeb', 'x-mitre-data-component--b9d031bb-d150-4fc6-8025-688201bf3ffd', 'malware--6108f800-10b8-4090-944e-be579f01263d', 'course-of-action--98aa0d61-fc9d-4b2d-8f18-b25d03549f53', 'intrusion-set--c93fccb1-e8e8-42cf-ae33-2ad1d183913a', 'course-of-action--ac8f3492-7fbb-4a0a-b0b4-b75ec676136c', 'intrusion-set--3753cc21-2dae-4dfb-8481-d004e74502cc', 'x-mitre-data-component--66531bc6-a509-4868-8314-4d599e91d222', 'course-of-action--3222a807-521b-4a1a-aa13-f1cda45734b3', 'course-of-action--6a02e38a-9629-40c0-8c7d-e98e3470315c', 'x-mitre-data-component--74fa567d-bc90-425c-8a41-3c703abb221c', 'x-mitre-data-component--5297a638-1382-4f0c-8472-0d21830bf705', 'intrusion-set--76d59913-1d24-4992-a8ac-05a3eb093f71', '732', '1004', '451', '1007', '694', '102', '1173', '20', '441', '1021', '610', '266', '1022', '697', '1023', '1024', '1025', '573', '103', '1038', '1037', '435', '758', '693', '1039', '104', '710', '1041', '1176', '1042', '1093', '1043', '1044', '1076', '1045', '1046', '1120', '1047', '1048', '1049', '105', '405', '1050', '665', '1051', '1052', '1059', '1053', '1061', '1054', '1055', '1056', '1057', '662', '1058', '106', '1060', '1062', '1063', '1064', '1065', '1066', '1067', '1068', '1071', '1069', '1164', '107', '1070', '1072', '1073', '1074', '1075', '1077', '1078', '1079', '108', '1080', '1082', '1083', '1084', '1085', '1086', '1087', '821', '1088', '1089', '109', '1090', '772', '1091', '1092', '1094', '1095', '820', '1096', '1097', '595', '1098', '1099', '489', '11', '110', '1100', '1101', '1102', '1103', '1357', '1104', '1105', '1106', '1107', '1108', '1109', '695', '111', '1110', '1111', '1112', '1113', '1114', '1115', '1116', '1117', '1118', '1119', '1286', '112', '1121', '1122', '1123', '1124', '1125', '1126', '1127', '93', '113', '436', '73', '114', '115', '707', '116', '117', '1174', '1177', '664', '118', '1188', '653', '1189', '668', '119', '696', '1190', '284', '1191', '657', '1192', '1193', '756', '12', '120', '330', '1204', '1209', '788', '121', '787', '122', '1220', '1221', '1222', '362', '1223', '1224', '1229', '123', '285', '1230', '1231', '667', '1232', '1233', '1234', '400', '1235', '74', '1236', '226', '1239', '786', '124', '327', '1240', '1241', '1242', '1263', '1243', '863', '1244', '684', '1245', '1246', '1384', '1247', '1248', '1250', '1249', '125', '1251', '1252', '1253', '208', '1254', '1300', '1255', '1256', '1257', '212', '1258', '200', '1259', '1294', '126', '1260', '1261', '1262', '1264', '691', '1265', '404', '1266', '1267', '1268', '1269', '127', '1270', '909', '1271', '1272', '1273', '1274', '923', '1275', '1276', '1329', '1277', '1278', '1279', '682', '128', '1280', '1281', '1282', '1283', '1284', '1285', '1287', '1288', '1289', '129', '1290', '1291', '1292', '345', '1293', '1295', '1296', '1297', '1298', '420', '1299', '288', '260', '13', '240', '130', '203', '1301', '1302', '1303', '1304', '131', '1310', '1311', '1312', '1313', '862', '1314', '1315', '1316', '1317', '1318', '1319', '1320', '915', '1321', '913', '834', '1322', '1323', '770', '1325', '1326', '1327', '1328', '1330', '1331', '1332', '407', '1333', '1334', '1335', '94', '1336', '1338', '1339', '134', '675', '1341', '1342', '135', '1351', '138', '703', '346', '1385', '59', '1386', '704', '1389', '287', '1390', '1391', '1392', '1393', '1394', '1395', '733', '14', '140', '141', '142', '143', '144', '145', '146', '147', '148', '149', '642', '15', '150', '151', '152', '153', '154', '155', '156', '157', '158', '159', '160', '161', '162', '163', '164', '165', '166', '167', '168', '170', '172', '173', '174', '175', '176', '177', '706', '178', '179', '180', '181', '182', '183', '184', '185', '186', '187', '188', '190', '191', '681', '192', '193', '194', '195', '196', '197', '198', '201', '202', '204', '205', '206', '207', '209', '755', '210', '211', '669', '213', '497', '214', '215', '552', '219', '22', '220', '221', '222', '223', '224', '459', '228', '229', '23', '230', '231', '232', '233', '234', '235', '236', '237', '238', '239', '24', '241', '242', '243', '244', '245', '246', '705', '248', '25', '250', '269', '754', '252', '253', '522', '256', '257', '258', '521', '798', '259', '26', '261', '262', '263', '267', '268', '27', '270', '271', '272', '273', '274', '276', '277', '278', '279', '28', '280', '281', '282', '283', '286', '306', '289', '29', '290', '291', '471', '293', '294', '295', '296', '297', '298', '672', '299', '30', '300', '301', '302', '807', '303', '304', '305', '307', '799', '308', '654', '309', '31', '311', '312', '922', '313', '314', '315', '316', '317', '318', '319', '32', '321', '322', '344', '323', '324', '325', '326', '328', '329', '33', '331', '332', '333', '334', '335', '336', '337', '338', '339', '34', '340', '341', '342', '343', '347', '348', '349', '35', '350', '351', '352', '353', '354', '356', '357', '358', '359', '36', '360', '367', '363', '364', '366', '368', '369', '37', '370', '372', '374', '375', '377', '378', '379', '38', '382', '383', '384', '514', '385', '386', '39', '390', '391', '392', '393', '394', '395', '396', '397', '40', '401', '402', '403', '406', '408', '409', '41', '410', '412', '413', '414', '825', '415', '666', '416', '419', '42', '421', '422', '424', '638', '425', '426', '673', '427', '428', '43', '430', '431', '432', '433', '434', '437', '439', '44', '440', '444', '446', '447', '671', '448', '449', '45', '450', '453', '454', '455', '636', '456', '908', '457', '46', '460', '462', '463', '464', '466', '467', '468', '469', '47', '470', '472', '473', '474', '475', '476', '477', '478', '828', '479', '663', '48', '670', '480', '481', '482', '483', '484', '486', '487', '488', '49', '491', '492', '493', '494', '495', '496', '498', '499', '5', '50', '500', '501', '502', '912', '506', '507', '508', '509', '51', '510', '511', '512', '515', '52', '520', '523', '524', '525', '526', '527', '528', '529', '53', '530', '540', '531', '538', '532', '535', '536', '537', '539', '54', '541', '543', '544', '546', '547', '548', '549', '55', '550', '551', '553', '554', '555', '556', '558', '56', '687', '560', '561', '562', '563', '89', '564', '565', '602', '639', '566', '567', '568', '57', '570', '571', '572', '574', '575', '576', '577', '578', '579', '58', '580', '581', '582', '583', '584', '585', '586', '587', '588', '589', '762', '590', '591', '593', '594', '597', '598', '599', '6', '600', '601', '603', '605', '606', '607', '608', '609', '61', '611', '612', '613', '614', '615', '616', '617', '749', '618', '619', '62', '620', '914', '621', '622', '623', '77', '624', '625', '626', '627', '628', '637', '64', '640', '99', '641', '943', '643', '91', '644', '645', '646', '647', '648', '649', '65', '650', '651', '652', '655', '656', '66', '67', '674', '676', '680', '683', '685', '686', '688', '689', '69', '690', '692', '698', '7', '708', '72', '75', '757', '916', '759', '76', '760', '763', '761', '764', '765', '766', '767', '768', '771', '773', '774', '775', '776', '777', '778', '779', '78', '780', '781', '782', '783', '784', '785', '789', '79', '790', '791', '792', '793', '794', '795', '796', '797', '8', '80', '804', '805', '806', '81', '83', '82', '822', '823', '824', '826', '827', '829', '830', '831', '832', '833', '835', '836', '837', '838', '839', '84', '841', '842', '843', '85', '86', '87', '88', '9', '90', '910', '911', '917', '918', '920', '921', '924', '940', '925', '926', '927', '939', '941', '942', '95', '96', '97', '98'])"
      ]
     },
     "execution_count": 31,
     "metadata": {},
     "output_type": "execute_result"
    }
   ],
   "source": [
    "pos_to_desc.keys()"
   ]
  },
  {
   "cell_type": "code",
   "execution_count": null,
   "id": "845dc685-a56a-4bc4-937d-41d0d27a3ddc",
   "metadata": {},
   "outputs": [],
   "source": []
  }
 ],
 "metadata": {
  "kernelspec": {
   "display_name": "Python 3 (ipykernel)",
   "language": "python",
   "name": "python3"
  },
  "language_info": {
   "codemirror_mode": {
    "name": "ipython",
    "version": 3
   },
   "file_extension": ".py",
   "mimetype": "text/x-python",
   "name": "python",
   "nbconvert_exporter": "python",
   "pygments_lexer": "ipython3",
   "version": "3.8.19"
  }
 },
 "nbformat": 4,
 "nbformat_minor": 5
}
