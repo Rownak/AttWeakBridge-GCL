{
 "cells": [
  {
   "cell_type": "code",
   "execution_count": 1,
   "id": "12829ceb-bfe8-45d3-8fa6-ff2dc89da108",
   "metadata": {},
   "outputs": [],
   "source": [
    "import torch\n",
    "import torch.nn as nn\n",
    "import torch.optim as optim\n",
    "from torch.utils.data import DataLoader, TensorDataset\n"
   ]
  },
  {
   "cell_type": "code",
   "execution_count": 2,
   "id": "5c5099e0-f3e1-4c68-8830-399d1849b798",
   "metadata": {},
   "outputs": [],
   "source": [
    "# Define Encoder\n",
    "class Encoder(nn.Module):\n",
    "    def __init__(self, input_dim, hidden_dim, latent_dim):\n",
    "        super(Encoder, self).__init__()\n",
    "        self.fc1 = nn.Linear(input_dim, hidden_dim)\n",
    "        self.fc_mu = nn.Linear(hidden_dim, latent_dim)\n",
    "        self.fc_logvar = nn.Linear(hidden_dim, latent_dim)\n",
    "        self.activation = nn.ReLU()\n",
    "    \n",
    "    def forward(self, x):\n",
    "        h = self.activation(self.fc1(x))\n",
    "        mu = self.fc_mu(h)\n",
    "        logvar = self.fc_logvar(h)\n",
    "        return mu, logvar"
   ]
  },
  {
   "cell_type": "code",
   "execution_count": 3,
   "id": "01aa0e89-20a7-4503-8e87-6a5ad2253359",
   "metadata": {},
   "outputs": [],
   "source": [
    "# Define Decoder\n",
    "class Decoder(nn.Module):\n",
    "    def __init__(self, latent_dim, hidden_dim, output_dim):\n",
    "        super(Decoder, self).__init__()\n",
    "        self.fc1 = nn.Linear(latent_dim, hidden_dim)\n",
    "        self.fc2 = nn.Linear(hidden_dim, output_dim)\n",
    "        self.activation = nn.ReLU()\n",
    "    \n",
    "    def forward(self, x):\n",
    "        h = self.activation(self.fc1(x))\n",
    "        x_hat = self.fc2(h)\n",
    "        return x_hat"
   ]
  },
  {
   "cell_type": "code",
   "execution_count": 4,
   "id": "2472581b-ce6b-43dd-adb6-d1c8f49da6d0",
   "metadata": {},
   "outputs": [],
   "source": [
    "# Reparameterization Trick\n",
    "def reparameterize(mu, logvar):\n",
    "    std = torch.exp(0.5 * logvar)\n",
    "    eps = torch.randn_like(std)\n",
    "    return mu + eps * std"
   ]
  },
  {
   "cell_type": "code",
   "execution_count": 5,
   "id": "2c4976d5-3a0c-45ec-8869-3b665a7576f8",
   "metadata": {},
   "outputs": [],
   "source": [
    "import json\n",
    "import numpy as np\n",
    "total_obj=1136\n",
    "paragraphs = []\n",
    "with open('../../ics_cwe/id_to_desc.json') as fp:\n",
    "    id_to_desc = json.load(fp)\n",
    "for i in range(total_obj):\n",
    "    paragraphs.append(id_to_desc[str(i)])\n",
    "graph_embeddings = np.load(\"../../ics_cwe/{}/sample_{}/{}/text_hop_dual_gm_1.0.npy\".format(\"GCN\",4,\"pt_Gpt2\"))\n",
    "text_embeddings = np.load(\"../../ics_cwe/Text_Hop/{}/data/all_embeddings.npy\".format(\"pt_Gpt2\"))"
   ]
  },
  {
   "cell_type": "code",
   "execution_count": 6,
   "id": "4da67ad1-ad0e-40bc-baa3-a463712ce42b",
   "metadata": {},
   "outputs": [
    {
     "data": {
      "text/plain": [
       "(1136, 128)"
      ]
     },
     "execution_count": 6,
     "metadata": {},
     "output_type": "execute_result"
    }
   ],
   "source": [
    "graph_embeddings.shape"
   ]
  },
  {
   "cell_type": "code",
   "execution_count": null,
   "id": "2fde9194-5480-4c1e-b976-9e30b070d468",
   "metadata": {},
   "outputs": [],
   "source": []
  },
  {
   "cell_type": "code",
   "execution_count": 10,
   "id": "8720e9e5-ed2e-41d9-a834-38b1e4a1d78e",
   "metadata": {},
   "outputs": [],
   "source": [
    "# Hyperparameters\n",
    "text_embedding_dim = text_embeddings.shape[1]  # Example text embedding dimension\n",
    "graph_embedding_dim = graph_embeddings.shape[1]  # Desired graph embedding dimension\n",
    "hidden_dim = 512\n",
    "latent_dim = 128\n",
    "lr = 0.001\n",
    "epochs = 100\n",
    "device = torch.device(\"cuda\" if torch.cuda.is_available() else \"CPU\")"
   ]
  },
  {
   "cell_type": "code",
   "execution_count": 14,
   "id": "f3af69c4-fa0f-4143-844c-e0f3c8e567ff",
   "metadata": {},
   "outputs": [],
   "source": [
    "text_embeddings_tensor = torch.tensor(text_embeddings, dtype=torch.float32).to(device)\n",
    "graph_embeddings_tensor = torch.tensor(graph_embeddings, dtype=torch.float32).to(device)"
   ]
  },
  {
   "cell_type": "code",
   "execution_count": 15,
   "id": "469c335b-57ba-4436-80e2-b85c9b67eb3a",
   "metadata": {},
   "outputs": [],
   "source": [
    "# Initialize Encoder and Decoder\n",
    "encoder = Encoder(text_embedding_dim, hidden_dim, latent_dim).to(device)\n",
    "decoder = Decoder(latent_dim, hidden_dim, graph_embedding_dim).to(device)"
   ]
  },
  {
   "cell_type": "code",
   "execution_count": 16,
   "id": "c1c4f035-4753-4ec9-9f7c-cffc45e5a6d9",
   "metadata": {},
   "outputs": [],
   "source": [
    "# Loss function\n",
    "def loss_function(recon_x, x, mu, logvar):\n",
    "    BCE = nn.MSELoss()(recon_x, x)\n",
    "    KLD = -0.5 * torch.sum(1 + logvar - mu.pow(2) - logvar.exp())\n",
    "    return BCE + KLD\n",
    "\n",
    "# Optimizer\n",
    "optimizer = optim.Adam(list(encoder.parameters()) + list(decoder.parameters()), lr=lr)\n",
    "\n"
   ]
  },
  {
   "cell_type": "code",
   "execution_count": 18,
   "id": "726de162-500f-489a-9e3d-19e48d6d1636",
   "metadata": {},
   "outputs": [
    {
     "name": "stdout",
     "output_type": "stream",
     "text": [
      "Epoch [100/10000], Loss: 0.3955\n",
      "Epoch [200/10000], Loss: 0.3410\n",
      "Epoch [300/10000], Loss: 0.3148\n",
      "Epoch [400/10000], Loss: 0.3097\n",
      "Epoch [500/10000], Loss: 0.3078\n",
      "Epoch [600/10000], Loss: 0.3032\n",
      "Epoch [700/10000], Loss: 0.3032\n",
      "Epoch [800/10000], Loss: 0.3023\n",
      "Epoch [900/10000], Loss: 0.3020\n",
      "Epoch [1000/10000], Loss: 0.3016\n",
      "Epoch [1100/10000], Loss: 0.3011\n",
      "Epoch [1200/10000], Loss: 0.3037\n",
      "Epoch [1300/10000], Loss: 0.2991\n",
      "Epoch [1400/10000], Loss: 0.3004\n",
      "Epoch [1500/10000], Loss: 0.2995\n",
      "Epoch [1600/10000], Loss: 0.3033\n",
      "Epoch [1700/10000], Loss: 0.2985\n",
      "Epoch [1800/10000], Loss: 0.2993\n",
      "Epoch [1900/10000], Loss: 0.2999\n",
      "Epoch [2000/10000], Loss: 0.2990\n",
      "Epoch [2100/10000], Loss: 0.2990\n",
      "Epoch [2200/10000], Loss: 0.2978\n",
      "Epoch [2300/10000], Loss: 0.2985\n",
      "Epoch [2400/10000], Loss: 0.2982\n",
      "Epoch [2500/10000], Loss: 0.2985\n",
      "Epoch [2600/10000], Loss: 0.2988\n",
      "Epoch [2700/10000], Loss: 0.2984\n",
      "Epoch [2800/10000], Loss: 0.2985\n",
      "Epoch [2900/10000], Loss: 0.2980\n",
      "Epoch [3000/10000], Loss: 0.2990\n",
      "Epoch [3100/10000], Loss: 0.3002\n",
      "Epoch [3200/10000], Loss: 0.2989\n",
      "Epoch [3300/10000], Loss: 0.2984\n",
      "Epoch [3400/10000], Loss: 0.2982\n",
      "Epoch [3500/10000], Loss: 0.2982\n",
      "Epoch [3600/10000], Loss: 0.3002\n",
      "Epoch [3700/10000], Loss: 0.2984\n",
      "Epoch [3800/10000], Loss: 0.2972\n",
      "Epoch [3900/10000], Loss: 0.2986\n",
      "Epoch [4000/10000], Loss: 0.2978\n",
      "Epoch [4100/10000], Loss: 0.2997\n",
      "Epoch [4200/10000], Loss: 0.2981\n",
      "Epoch [4300/10000], Loss: 0.2981\n",
      "Epoch [4400/10000], Loss: 0.2974\n",
      "Epoch [4500/10000], Loss: 0.2979\n",
      "Epoch [4600/10000], Loss: 0.2978\n",
      "Epoch [4700/10000], Loss: 0.2975\n",
      "Epoch [4800/10000], Loss: 0.2981\n",
      "Epoch [4900/10000], Loss: 0.2980\n",
      "Epoch [5000/10000], Loss: 0.2977\n",
      "Epoch [5100/10000], Loss: 0.2980\n",
      "Epoch [5200/10000], Loss: 0.2980\n",
      "Epoch [5300/10000], Loss: 0.2982\n",
      "Epoch [5400/10000], Loss: 0.3069\n",
      "Epoch [5500/10000], Loss: 0.2983\n",
      "Epoch [5600/10000], Loss: 0.2982\n",
      "Epoch [5700/10000], Loss: 0.2982\n",
      "Epoch [5800/10000], Loss: 0.2995\n",
      "Epoch [5900/10000], Loss: 0.2977\n",
      "Epoch [6000/10000], Loss: 0.2982\n",
      "Epoch [6100/10000], Loss: 0.2980\n",
      "Epoch [6200/10000], Loss: 0.2972\n",
      "Epoch [6300/10000], Loss: 0.2976\n",
      "Epoch [6400/10000], Loss: 0.2975\n",
      "Epoch [6500/10000], Loss: 0.2976\n",
      "Epoch [6600/10000], Loss: 0.2975\n",
      "Epoch [6700/10000], Loss: 0.2991\n",
      "Epoch [6800/10000], Loss: 0.2976\n",
      "Epoch [6900/10000], Loss: 0.2976\n",
      "Epoch [7000/10000], Loss: 0.2983\n",
      "Epoch [7100/10000], Loss: 0.2978\n",
      "Epoch [7200/10000], Loss: 0.3159\n",
      "Epoch [7300/10000], Loss: 0.2978\n",
      "Epoch [7400/10000], Loss: 0.2972\n",
      "Epoch [7500/10000], Loss: 0.2983\n",
      "Epoch [7600/10000], Loss: 0.2982\n",
      "Epoch [7700/10000], Loss: 0.2972\n",
      "Epoch [7800/10000], Loss: 0.2974\n",
      "Epoch [7900/10000], Loss: 0.2976\n",
      "Epoch [8000/10000], Loss: 0.2983\n",
      "Epoch [8100/10000], Loss: 0.2978\n",
      "Epoch [8200/10000], Loss: 0.2984\n",
      "Epoch [8300/10000], Loss: 0.2981\n",
      "Epoch [8400/10000], Loss: 0.2979\n",
      "Epoch [8500/10000], Loss: 0.3000\n",
      "Epoch [8600/10000], Loss: 0.2979\n",
      "Epoch [8700/10000], Loss: 0.2977\n",
      "Epoch [8800/10000], Loss: 0.3015\n",
      "Epoch [8900/10000], Loss: 0.2979\n",
      "Epoch [9000/10000], Loss: 0.2986\n",
      "Epoch [9100/10000], Loss: 0.2978\n",
      "Epoch [9200/10000], Loss: 0.2977\n",
      "Epoch [9300/10000], Loss: 0.2980\n",
      "Epoch [9400/10000], Loss: 0.2981\n",
      "Epoch [9500/10000], Loss: 0.2984\n",
      "Epoch [9600/10000], Loss: 0.2973\n",
      "Epoch [9700/10000], Loss: 0.2978\n",
      "Epoch [9800/10000], Loss: 0.2979\n",
      "Epoch [9900/10000], Loss: 0.2985\n",
      "Epoch [10000/10000], Loss: 0.2973\n"
     ]
    }
   ],
   "source": [
    "# Training the cGAN\n",
    "epochs = 10000\n",
    "# Training loop\n",
    "for epoch in range(epochs):\n",
    "    encoder.train()\n",
    "    decoder.train()\n",
    "    optimizer.zero_grad()\n",
    "    \n",
    "    # Forward pass\n",
    "    mu, logvar = encoder(text_embeddings_tensor)\n",
    "    z = reparameterize(mu, logvar)\n",
    "    predicted_graph_embeddings = decoder(z)\n",
    "    \n",
    "    # Compute loss\n",
    "    loss = loss_function(predicted_graph_embeddings, graph_embeddings_tensor, mu, logvar)\n",
    "    \n",
    "    # Backward pass\n",
    "    loss.backward()\n",
    "    optimizer.step()\n",
    "    \n",
    "    # Print progress\n",
    "    if (epoch+1) % 100 == 0:\n",
    "        print(f'Epoch [{epoch+1}/{epochs}], Loss: {loss.item():.4f}')"
   ]
  },
  {
   "cell_type": "code",
   "execution_count": 19,
   "id": "9bbbf72f-c88c-4e69-b08d-677806180482",
   "metadata": {},
   "outputs": [],
   "source": [
    "# Optionally, save the model\n",
    "torch.save({\n",
    "    'encoder_state_dict': encoder.state_dict(),\n",
    "    'decoder_state_dict': decoder.state_dict(),\n",
    "    'optimizer_state_dict': optimizer.state_dict(),\n",
    "    'loss': loss\n",
    "}, 'data/vae_model.pth')"
   ]
  },
  {
   "cell_type": "code",
   "execution_count": 82,
   "id": "1258d73a-15c8-40d9-97a9-8c0851f0da84",
   "metadata": {},
   "outputs": [],
   "source": [
    "# # Define the noise parameters\n",
    "# noise_stddev = 0.3  # Standard deviation of the noise\n",
    "# noise = np.random.normal(loc=0.0, scale=noise_stddev, size=text_embeddings.shape)\n",
    "\n",
    "# # Add the noise to the original embeddings\n",
    "# noisy_embeddings = text_embeddings + noise\n",
    "# with open(\"data/noisy_text_embeddings.npy\", 'wb') as f:\n",
    "#     np.save(f,noisy_embeddings)"
   ]
  },
  {
   "cell_type": "code",
   "execution_count": 20,
   "id": "ddf2d112-a137-4b47-ba69-13d724f5c362",
   "metadata": {},
   "outputs": [],
   "source": [
    "with open(\"data/noisy_text_embeddings.npy\", 'rb') as f:\n",
    "    noisy_embeddings = np.load(f)"
   ]
  },
  {
   "cell_type": "code",
   "execution_count": 21,
   "id": "8ac06444-4703-4fd6-80c4-07f8ff723d27",
   "metadata": {},
   "outputs": [],
   "source": [
    "import numpy as np\n",
    "from sklearn.metrics.pairwise import cosine_similarity\n",
    "def get_sim(gen_emb, org_emb):\n",
    "    # Compute the cosine similarity matrix\n",
    "    cosine_sim_matrix = cosine_similarity(gen_emb, org_emb)\n",
    "    diagonal_values = np.diagonal(cosine_sim_matrix)\n",
    "    # print(cosine_sim_matrix.shape)  # Should print (203, 933)\n",
    "    return diagonal_values"
   ]
  },
  {
   "cell_type": "code",
   "execution_count": 22,
   "id": "e906f236-3b69-4713-a2a5-d8c7575fc010",
   "metadata": {},
   "outputs": [],
   "source": [
    "import numpy as np\n",
    "import random\n",
    "from matplotlib import pyplot as plt\n",
    "def plot(sim_vec, title):\n",
    "    plt.figure(figsize=(5, 5))\n",
    "    plt.hist(sim_vec, bins=np.arange(0, 1.1, 0.05), edgecolor='black')  \n",
    "    \n",
    "    # Add title and labels\n",
    "    plt.title(title)\n",
    "    plt.xlabel('Cosine Similarity')\n",
    "    plt.ylabel('Frequency')\n",
    "    plt.savefig(title+\".png\", dpi=300, bbox_inches='tight')\n",
    "    # Show plot\n",
    "    plt.show()"
   ]
  },
  {
   "cell_type": "code",
   "execution_count": 23,
   "id": "6ca8b586-c546-4b42-ad11-7d48e25e7b61",
   "metadata": {},
   "outputs": [
    {
     "data": {
      "text/plain": [
       "array([0.82619745, 0.79746806, 0.83329961, ..., 0.82669496, 0.83534306,\n",
       "       0.84865667])"
      ]
     },
     "execution_count": 23,
     "metadata": {},
     "output_type": "execute_result"
    }
   ],
   "source": [
    "sim_vec2 = get_sim(noisy_embeddings, text_embeddings)\n",
    "sim_vec2"
   ]
  },
  {
   "cell_type": "code",
   "execution_count": null,
   "id": "f5efb0d3-022a-44db-aad8-65560ad4d8c7",
   "metadata": {},
   "outputs": [],
   "source": []
  },
  {
   "cell_type": "code",
   "execution_count": 101,
   "id": "e7027b85-d2fc-45a4-ba4b-53b13c82088c",
   "metadata": {},
   "outputs": [
    {
     "data": {
      "image/png": "[encoded data removed]",
      "text/plain": [
       "<Figure size 500x500 with 1 Axes>"
      ]
     },
     "metadata": {},
     "output_type": "display_data"
    }
   ],
   "source": [
    "plot(sim_vec2, \"Noisy_vs_Original\")"
   ]
  },
  {
   "cell_type": "code",
   "execution_count": 26,
   "id": "356c1b13-f0dd-47d4-ab0f-5bd1f2e2ed3c",
   "metadata": {},
   "outputs": [],
   "source": [
    "# Function to generate graph embeddings for new text embeddings\n",
    "def generate_graph_embeddings(new_text_embeddings):\n",
    "    new_text_embeddings = torch.tensor(new_text_embeddings, dtype=torch.float32).to(device)\n",
    "    # Load the model state\n",
    "    checkpoint = torch.load('data/vae_model.pth', map_location=device)\n",
    "    encoder.load_state_dict(checkpoint['encoder_state_dict'])\n",
    "    decoder.load_state_dict(checkpoint['decoder_state_dict'])\n",
    "    optimizer_state_dict = checkpoint['optimizer_state_dict']\n",
    "    loss = checkpoint['loss']\n",
    "    \n",
    "    # Ensure the models are in evaluation mode\n",
    "    encoder.eval()\n",
    "    decoder.eval()\n",
    "    with torch.no_grad():\n",
    "        mu, logvar = encoder(new_text_embeddings)\n",
    "        z = reparameterize(mu, logvar)\n",
    "        generated_graph_embeddings = decoder(z)\n",
    "    return generated_graph_embeddings.cpu().detach().numpy()"
   ]
  },
  {
   "cell_type": "code",
   "execution_count": 27,
   "id": "2ed69d64-d128-400f-99db-b623dadfdbfe",
   "metadata": {},
   "outputs": [],
   "source": [
    "graph1 = generate_graph_embeddings(text_embeddings)"
   ]
  },
  {
   "cell_type": "code",
   "execution_count": 29,
   "id": "be90eb24-07b1-4367-9670-1f6e4659e3f9",
   "metadata": {},
   "outputs": [],
   "source": [
    "graph2 = generate_graph_embeddings(noisy_embeddings)"
   ]
  },
  {
   "cell_type": "code",
   "execution_count": 105,
   "id": "de2f50da-597a-4d8d-abe0-4846239c7e4a",
   "metadata": {},
   "outputs": [],
   "source": [
    "# with open(\"../../ics_cwe/Text_Hop/{}/data/Encoder_Decoder_generated.npy\".format(\"pt_Gpt2\"), 'wb') as f:\n",
    "#     np.save(f,generated_graph_embeddings)"
   ]
  },
  {
   "cell_type": "code",
   "execution_count": 30,
   "id": "307e79d8-60d4-47b4-8119-e8db7a68eec0",
   "metadata": {},
   "outputs": [],
   "source": [
    "sim_vec1 = get_sim(graph1, graph_embeddings)"
   ]
  },
  {
   "cell_type": "code",
   "execution_count": 31,
   "id": "81e00bb3-43a1-4829-bc0e-e6056c26c034",
   "metadata": {},
   "outputs": [],
   "source": [
    "sim_vec2 = get_sim(graph2, graph_embeddings)"
   ]
  },
  {
   "cell_type": "code",
   "execution_count": 32,
   "id": "61bf6379-2eb5-4f74-89fa-06dd8eb3a60f",
   "metadata": {},
   "outputs": [
    {
     "data": {
      "image/png": "[encoded data removed]",
      "text/plain": [
       "<Figure size 500x500 with 1 Axes>"
      ]
     },
     "metadata": {},
     "output_type": "display_data"
    }
   ],
   "source": [
    "plot(sim_vec1, \"VAE_org_sim\")"
   ]
  },
  {
   "cell_type": "code",
   "execution_count": 33,
   "id": "f1373eab-b6da-43a4-b1e7-7334e72e6b28",
   "metadata": {},
   "outputs": [
    {
     "data": {
      "image/png": "[encoded data removed]",
      "text/plain": [
       "<Figure size 500x500 with 1 Axes>"
      ]
     },
     "metadata": {},
     "output_type": "display_data"
    }
   ],
   "source": [
    "plot(sim_vec2, \"VAE_noisy_sim\")"
   ]
  },
  {
   "cell_type": "code",
   "execution_count": null,
   "id": "a4ea5f43-3926-43aa-81b7-e11760dc5d69",
   "metadata": {},
   "outputs": [],
   "source": []
  },
  {
   "cell_type": "code",
   "execution_count": null,
   "id": "fa04bd8f-8578-4885-8a7f-0a7d7b8c7af5",
   "metadata": {},
   "outputs": [],
   "source": []
  },
  {
   "cell_type": "code",
   "execution_count": null,
   "id": "330f9dc4-4e52-4d05-9351-796781756b00",
   "metadata": {},
   "outputs": [],
   "source": []
  }
 ],
 "metadata": {
  "kernelspec": {
   "display_name": "Python 3 (ipykernel)",
   "language": "python",
   "name": "python3"
  },
  "language_info": {
   "codemirror_mode": {
    "name": "ipython",
    "version": 3
   },
   "file_extension": ".py",
   "mimetype": "text/x-python",
   "name": "python",
   "nbconvert_exporter": "python",
   "pygments_lexer": "ipython3",
   "version": "3.8.19"
  }
 },
 "nbformat": 4,
 "nbformat_minor": 5
}
