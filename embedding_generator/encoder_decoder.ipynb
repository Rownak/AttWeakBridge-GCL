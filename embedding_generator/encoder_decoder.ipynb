{
 "cells": [
  {
   "cell_type": "code",
   "execution_count": 33,
   "id": "12829ceb-bfe8-45d3-8fa6-ff2dc89da108",
   "metadata": {},
   "outputs": [],
   "source": [
    "import torch\n",
    "import torch.nn as nn\n",
    "import torch.optim as optim\n",
    "from torch.utils.data import DataLoader, TensorDataset\n",
    "import sys\n",
    "import json\n",
    "import os\n",
    "sys.path.append('../')\n",
    "import config"
   ]
  },
  {
   "cell_type": "code",
   "execution_count": 99,
   "id": "5c5099e0-f3e1-4c68-8830-399d1849b798",
   "metadata": {},
   "outputs": [],
   "source": [
    "# Define Transformer Encoder\n",
    "# Define Encoder\n",
    "class Encoder(nn.Module):\n",
    "    def __init__(self, input_dim, hidden_dim, dropout_rate=0.5):\n",
    "        super(Encoder, self).__init__()\n",
    "        self.fc = nn.Linear(input_dim, hidden_dim)\n",
    "        self.activation = nn.ReLU()\n",
    "        self.dropout = nn.Dropout(dropout_rate)  # Add dropout layer\n",
    "    \n",
    "    def forward(self, x):\n",
    "        x = self.fc(x)\n",
    "        x = self.activation(x)\n",
    "        x = self.dropout(x)  # Apply dropout\n",
    "        return x"
   ]
  },
  {
   "cell_type": "code",
   "execution_count": 100,
   "id": "01aa0e89-20a7-4503-8e87-6a5ad2253359",
   "metadata": {},
   "outputs": [],
   "source": [
    "# Define Decoder\n",
    "class Decoder(nn.Module):\n",
    "    def __init__(self, hidden_dim, output_dim, dropout_rate=0.5):\n",
    "        super(Decoder, self).__init__()\n",
    "        self.fc = nn.Linear(hidden_dim, output_dim)\n",
    "        self.dropout = nn.Dropout(dropout_rate)  # Add dropout layer\n",
    "    \n",
    "    def forward(self, x):\n",
    "        x = self.dropout(x)  # Apply dropout\n",
    "        x = self.fc(x)\n",
    "        return x"
   ]
  },
  {
   "cell_type": "code",
   "execution_count": 101,
   "id": "46966a33-565f-4cbb-9288-1753ad6de1bc",
   "metadata": {},
   "outputs": [],
   "source": [
    "# # Define a custom dataset\n",
    "# from torch.utils.data import Dataset, DataLoader\n",
    "# # Define your dataset class\n",
    "# class EmbeddingDataset(Dataset):\n",
    "#     def __init__(self, text_embeddings, graph_embeddings):\n",
    "#         self.text_embeddings = torch.tensor(text_embeddings, dtype=torch.float32)\n",
    "#         self.graph_embeddings = torch.tensor(graph_embeddings, dtype=torch.float32)\n",
    "    \n",
    "#     def __len__(self):\n",
    "#         return len(self.text_embeddings)\n",
    "    \n",
    "#     def __getitem__(self, idx):\n",
    "#         text_embedding = self.text_embeddings[idx]\n",
    "#         graph_embedding = self.graph_embeddings[idx]\n",
    "#         return text_embedding, graph_embedding"
   ]
  },
  {
   "cell_type": "code",
   "execution_count": 102,
   "id": "2c4976d5-3a0c-45ec-8869-3b665a7576f8",
   "metadata": {},
   "outputs": [],
   "source": [
    "import json\n",
    "import numpy as np\n",
    "total_obj=1136\n",
    "paragraphs = []\n",
    "with open(config.DESCRIPTION_FILE) as fp:\n",
    "    id_to_desc = json.load(fp)\n",
    "with open(config.DATA_DIR+\"doc_id_to_emb_id.json\") as fp:\n",
    "    id_to_pos = json.load(fp)\n",
    "with open(config.DATA_DIR+'emb_id_to_doc_id.json') as fp:\n",
    "    pos_to_id = json.load(fp)\n",
    "# print(id_to_desc.keys())\n",
    "for key in id_to_desc:\n",
    "    paragraphs.append(id_to_desc[key])\n",
    "graph_embeddings = np.load(config.OUTPUT_DIR+\"gcl_data/pt_gpt2-xl/sample_10/GAT/triplet/text_deepwalk_dual3_gm_1.0.npy\")\n",
    "text_embeddings = np.load(config.EMBEDDING_DIR+\"pt_gpt2-xl/text_embeddings.npy\")"
   ]
  },
  {
   "cell_type": "code",
   "execution_count": 103,
   "id": "4da67ad1-ad0e-40bc-baa3-a463712ce42b",
   "metadata": {},
   "outputs": [
    {
     "data": {
      "text/plain": [
       "(1136, 128)"
      ]
     },
     "execution_count": 103,
     "metadata": {},
     "output_type": "execute_result"
    }
   ],
   "source": [
    "graph_embeddings.shape"
   ]
  },
  {
   "cell_type": "code",
   "execution_count": null,
   "id": "2fde9194-5480-4c1e-b976-9e30b070d468",
   "metadata": {},
   "outputs": [],
   "source": []
  },
  {
   "cell_type": "code",
   "execution_count": 104,
   "id": "8720e9e5-ed2e-41d9-a834-38b1e4a1d78e",
   "metadata": {},
   "outputs": [],
   "source": [
    "# Hyperparameters\n",
    "text_embedding_dim = text_embeddings.shape[1]  # Example text embedding dimension\n",
    "graph_embedding_dim = graph_embeddings.shape[1]  # Desired graph embedding dimension\n",
    "hidden_dim = 128\n",
    "lr = 0.001\n",
    "batch_size = 64\n",
    "shuffle = True\n",
    "epochs = 100\n",
    "device = torch.device(\"cuda\" if torch.cuda.is_available() else \"cpu\")"
   ]
  },
  {
   "cell_type": "code",
   "execution_count": 105,
   "id": "f3af69c4-fa0f-4143-844c-e0f3c8e567ff",
   "metadata": {},
   "outputs": [],
   "source": [
    "text_embeddings_tensor = torch.tensor(text_embeddings, dtype=torch.float32).to(device)\n",
    "graph_embeddings_tensor = torch.tensor(graph_embeddings, dtype=torch.float32).to(device)"
   ]
  },
  {
   "cell_type": "code",
   "execution_count": 106,
   "id": "b9ff00ed-5179-498f-b6a6-3905b5aa8e56",
   "metadata": {},
   "outputs": [],
   "source": [
    "# Initialize Encoder and Decoder\n",
    "encoder = Encoder(text_embedding_dim, hidden_dim).to(device)\n",
    "decoder = Decoder(hidden_dim, graph_embedding_dim).to(device)\n"
   ]
  },
  {
   "cell_type": "code",
   "execution_count": 107,
   "id": "c1c4f035-4753-4ec9-9f7c-cffc45e5a6d9",
   "metadata": {},
   "outputs": [],
   "source": [
    "# Define loss function and optimizer\n",
    "import torch.optim as optim\n",
    "# Loss function\n",
    "criterion = nn.MSELoss()\n",
    "\n",
    "# Optimizer\n",
    "optimizer = optim.Adam(list(encoder.parameters()) + list(decoder.parameters()), lr=lr)\n"
   ]
  },
  {
   "cell_type": "code",
   "execution_count": 108,
   "id": "726de162-500f-489a-9e3d-19e48d6d1636",
   "metadata": {},
   "outputs": [
    {
     "name": "stdout",
     "output_type": "stream",
     "text": [
      "Epoch [100/10000], Loss: 0.2082\n",
      "Epoch [200/10000], Loss: 0.1887\n",
      "Epoch [300/10000], Loss: 0.1770\n",
      "Epoch [400/10000], Loss: 0.1750\n",
      "Epoch [500/10000], Loss: 0.1715\n",
      "Epoch [600/10000], Loss: 0.1684\n",
      "Epoch [700/10000], Loss: 0.1643\n",
      "Epoch [800/10000], Loss: 0.1703\n",
      "Epoch [900/10000], Loss: 0.1645\n",
      "Epoch [1000/10000], Loss: 0.1629\n",
      "Epoch [1100/10000], Loss: 0.1630\n",
      "Epoch [1200/10000], Loss: 0.1574\n",
      "Epoch [1300/10000], Loss: 0.1617\n",
      "Epoch [1400/10000], Loss: 0.1627\n",
      "Epoch [1500/10000], Loss: 0.1604\n",
      "Epoch [1600/10000], Loss: 0.1620\n",
      "Epoch [1700/10000], Loss: 0.1556\n",
      "Epoch [1800/10000], Loss: 0.1584\n",
      "Epoch [1900/10000], Loss: 0.1639\n",
      "Epoch [2000/10000], Loss: 0.1551\n",
      "Epoch [2100/10000], Loss: 0.1590\n",
      "Epoch [2200/10000], Loss: 0.1594\n",
      "Epoch [2300/10000], Loss: 0.1586\n",
      "Epoch [2400/10000], Loss: 0.1586\n",
      "Epoch [2500/10000], Loss: 0.1622\n",
      "Epoch [2600/10000], Loss: 0.1570\n",
      "Epoch [2700/10000], Loss: 0.1578\n",
      "Epoch [2800/10000], Loss: 0.1600\n",
      "Epoch [2900/10000], Loss: 0.1587\n",
      "Epoch [3000/10000], Loss: 0.1597\n",
      "Epoch [3100/10000], Loss: 0.1566\n",
      "Epoch [3200/10000], Loss: 0.1547\n",
      "Epoch [3300/10000], Loss: 0.1546\n",
      "Epoch [3400/10000], Loss: 0.1577\n",
      "Epoch [3500/10000], Loss: 0.1564\n",
      "Epoch [3600/10000], Loss: 0.1594\n",
      "Epoch [3700/10000], Loss: 0.1555\n",
      "Epoch [3800/10000], Loss: 0.1606\n",
      "Epoch [3900/10000], Loss: 0.1610\n",
      "Epoch [4000/10000], Loss: 0.1581\n",
      "Epoch [4100/10000], Loss: 0.1560\n",
      "Epoch [4200/10000], Loss: 0.1554\n",
      "Epoch [4300/10000], Loss: 0.1626\n",
      "Epoch [4400/10000], Loss: 0.1516\n",
      "Epoch [4500/10000], Loss: 0.1532\n",
      "Epoch [4600/10000], Loss: 0.1634\n",
      "Epoch [4700/10000], Loss: 0.1588\n",
      "Epoch [4800/10000], Loss: 0.1587\n",
      "Epoch [4900/10000], Loss: 0.1613\n",
      "Epoch [5000/10000], Loss: 0.1567\n",
      "Epoch [5100/10000], Loss: 0.1632\n",
      "Epoch [5200/10000], Loss: 0.1568\n",
      "Epoch [5300/10000], Loss: 0.1578\n",
      "Epoch [5400/10000], Loss: 0.1558\n",
      "Epoch [5500/10000], Loss: 0.1587\n",
      "Epoch [5600/10000], Loss: 0.1578\n",
      "Epoch [5700/10000], Loss: 0.1593\n",
      "Epoch [5800/10000], Loss: 0.1581\n",
      "Epoch [5900/10000], Loss: 0.1542\n",
      "Epoch [6000/10000], Loss: 0.1568\n",
      "Epoch [6100/10000], Loss: 0.1630\n",
      "Epoch [6200/10000], Loss: 0.1538\n",
      "Epoch [6300/10000], Loss: 0.1636\n",
      "Epoch [6400/10000], Loss: 0.1566\n",
      "Epoch [6500/10000], Loss: 0.1630\n",
      "Epoch [6600/10000], Loss: 0.1534\n",
      "Epoch [6700/10000], Loss: 0.1574\n",
      "Epoch [6800/10000], Loss: 0.1607\n",
      "Epoch [6900/10000], Loss: 0.1596\n",
      "Epoch [7000/10000], Loss: 0.1543\n",
      "Epoch [7100/10000], Loss: 0.1525\n",
      "Epoch [7200/10000], Loss: 0.1559\n",
      "Epoch [7300/10000], Loss: 0.1615\n",
      "Epoch [7400/10000], Loss: 0.1574\n",
      "Epoch [7500/10000], Loss: 0.1565\n",
      "Epoch [7600/10000], Loss: 0.1555\n",
      "Epoch [7700/10000], Loss: 0.1580\n",
      "Epoch [7800/10000], Loss: 0.1576\n",
      "Epoch [7900/10000], Loss: 0.1558\n",
      "Epoch [8000/10000], Loss: 0.1538\n",
      "Epoch [8100/10000], Loss: 0.1591\n",
      "Epoch [8200/10000], Loss: 0.1592\n",
      "Epoch [8300/10000], Loss: 0.1594\n",
      "Epoch [8400/10000], Loss: 0.1535\n",
      "Epoch [8500/10000], Loss: 0.1571\n",
      "Epoch [8600/10000], Loss: 0.1584\n",
      "Epoch [8700/10000], Loss: 0.1567\n",
      "Epoch [8800/10000], Loss: 0.1595\n",
      "Epoch [8900/10000], Loss: 0.1592\n",
      "Epoch [9000/10000], Loss: 0.1556\n",
      "Epoch [9100/10000], Loss: 0.1587\n",
      "Epoch [9200/10000], Loss: 0.1574\n",
      "Epoch [9300/10000], Loss: 0.1608\n",
      "Epoch [9400/10000], Loss: 0.1548\n",
      "Epoch [9500/10000], Loss: 0.1587\n",
      "Epoch [9600/10000], Loss: 0.1582\n",
      "Epoch [9700/10000], Loss: 0.1604\n",
      "Epoch [9800/10000], Loss: 0.1620\n",
      "Epoch [9900/10000], Loss: 0.1540\n",
      "Epoch [10000/10000], Loss: 0.1526\n"
     ]
    }
   ],
   "source": [
    "# Training the cGAN\n",
    "epochs = 10000\n",
    "# Training loop\n",
    "for epoch in range(epochs):\n",
    "    encoder.train()\n",
    "    decoder.train()\n",
    "    optimizer.zero_grad()\n",
    "    \n",
    "    # Forward pass\n",
    "    encoded_text = encoder(text_embeddings_tensor.to(device))\n",
    "    predicted_graph_embeddings = decoder(encoded_text)\n",
    "    \n",
    "    # Compute loss\n",
    "    loss = criterion(predicted_graph_embeddings, graph_embeddings_tensor.to(device))\n",
    "    \n",
    "    # Backward pass\n",
    "    loss.backward()\n",
    "    optimizer.step()\n",
    "    \n",
    "    # Print progress\n",
    "    if (epoch+1) % 100 == 0:\n",
    "        print(f'Epoch [{epoch+1}/{epochs}], Loss: {loss.item():.4f}')"
   ]
  },
  {
   "cell_type": "code",
   "execution_count": 109,
   "id": "9bbbf72f-c88c-4e69-b08d-677806180482",
   "metadata": {},
   "outputs": [],
   "source": [
    "# Optionally, save the model\n",
    "torch.save({\n",
    "    'encoder_state_dict': encoder.state_dict(),\n",
    "    'decoder_state_dict': decoder.state_dict(),\n",
    "    'optimizer_state_dict': optimizer.state_dict(),\n",
    "    'loss': loss\n",
    "}, 'data/encoder_decoder_model.pth')"
   ]
  },
  {
   "cell_type": "code",
   "execution_count": 111,
   "id": "37c6ef31-4614-4baa-b809-ffa9a90bf047",
   "metadata": {},
   "outputs": [],
   "source": [
    "# Define the noise parameters\n",
    "noise_stddev = 0.01  # Standard deviation of the noise\n",
    "noise = np.random.normal(loc=0.0, scale=noise_stddev, size=graph_embeddings.shape)\n",
    "\n",
    "# Add the noise to the original embeddings\n",
    "noisy_embeddings = graph_embeddings + noise"
   ]
  },
  {
   "cell_type": "code",
   "execution_count": 112,
   "id": "00864385-edcf-437d-9429-b9d27cee1a39",
   "metadata": {},
   "outputs": [],
   "source": [
    "# Load model state\n"
   ]
  },
  {
   "cell_type": "code",
   "execution_count": 113,
   "id": "1258d73a-15c8-40d9-97a9-8c0851f0da84",
   "metadata": {},
   "outputs": [],
   "source": [
    "# # Define the noise parameters\n",
    "# noise_stddev = 0.3  # Standard deviation of the noise\n",
    "# noise = np.random.normal(loc=0.0, scale=noise_stddev, size=text_embeddings.shape)\n",
    "\n",
    "# # Add the noise to the original embeddings\n",
    "# noisy_embeddings = text_embeddings + noise\n",
    "# with open(\"data/noisy_text_embeddings.npy\", 'wb') as f:\n",
    "#     np.save(f,noisy_embeddings)"
   ]
  },
  {
   "cell_type": "code",
   "execution_count": 114,
   "id": "ddf2d112-a137-4b47-ba69-13d724f5c362",
   "metadata": {},
   "outputs": [],
   "source": [
    "with open(\"data/noisy_text_embeddings.npy\", 'rb') as f:\n",
    "    noisy_embeddings = np.load(f)"
   ]
  },
  {
   "cell_type": "code",
   "execution_count": 115,
   "id": "8ac06444-4703-4fd6-80c4-07f8ff723d27",
   "metadata": {},
   "outputs": [],
   "source": [
    "import numpy as np\n",
    "from sklearn.metrics.pairwise import cosine_similarity\n",
    "def get_sim(gen_emb, org_emb):\n",
    "    # Compute the cosine similarity matrix\n",
    "    cosine_sim_matrix = cosine_similarity(gen_emb, org_emb)\n",
    "    diagonal_values = np.diagonal(cosine_sim_matrix)\n",
    "    # print(cosine_sim_matrix.shape)  # Should print (203, 933)\n",
    "    return diagonal_values"
   ]
  },
  {
   "cell_type": "code",
   "execution_count": 116,
   "id": "e906f236-3b69-4713-a2a5-d8c7575fc010",
   "metadata": {},
   "outputs": [],
   "source": [
    "import numpy as np\n",
    "import random\n",
    "from matplotlib import pyplot as plt\n",
    "def plot(sim_vec, title):\n",
    "    plt.figure(figsize=(5, 5))\n",
    "    plt.hist(sim_vec, bins=np.arange(0, 1.1, 0.05), edgecolor='black')  \n",
    "    \n",
    "    # Add title and labels\n",
    "    plt.title(title)\n",
    "    plt.xlabel('Cosine Similarity')\n",
    "    plt.ylabel('Frequency')\n",
    "    plt.savefig(title+\".png\", dpi=300, bbox_inches='tight')\n",
    "    # Show plot\n",
    "    plt.show()"
   ]
  },
  {
   "cell_type": "code",
   "execution_count": 117,
   "id": "6ca8b586-c546-4b42-ad11-7d48e25e7b61",
   "metadata": {},
   "outputs": [
    {
     "data": {
      "text/plain": [
       "array([0.82619745, 0.79746806, 0.83329961, ..., 0.72012401, 0.79849182,\n",
       "       0.80027154])"
      ]
     },
     "execution_count": 117,
     "metadata": {},
     "output_type": "execute_result"
    }
   ],
   "source": [
    "sim_vec2 = get_sim(noisy_embeddings, text_embeddings)\n",
    "sim_vec2"
   ]
  },
  {
   "cell_type": "code",
   "execution_count": null,
   "id": "f5efb0d3-022a-44db-aad8-65560ad4d8c7",
   "metadata": {},
   "outputs": [],
   "source": []
  },
  {
   "cell_type": "code",
   "execution_count": 118,
   "id": "e7027b85-d2fc-45a4-ba4b-53b13c82088c",
   "metadata": {},
   "outputs": [
    {
     "data": {
      "image/png": "[encoded data removed]",
      "text/plain": [
       "<Figure size 500x500 with 1 Axes>"
      ]
     },
     "metadata": {},
     "output_type": "display_data"
    }
   ],
   "source": [
    "plot(sim_vec2, \"Noisy_vs_Original\")"
   ]
  },
  {
   "cell_type": "code",
   "execution_count": 119,
   "id": "356c1b13-f0dd-47d4-ab0f-5bd1f2e2ed3c",
   "metadata": {},
   "outputs": [],
   "source": [
    "def generate_graph_emb(org_emb):\n",
    "    checkpoint = torch.load('data/encoder_decoder_model.pth')\n",
    "\n",
    "    encoder.load_state_dict(checkpoint['encoder_state_dict'])\n",
    "    decoder.load_state_dict(checkpoint['decoder_state_dict'])\n",
    "    # Ensure the model is in evaluation mode\n",
    "    encoder.eval()\n",
    "    decoder.eval()\n",
    "    \n",
    "    # Load new text embeddings\n",
    "    new_text_embeddings = org_emb\n",
    "    new_text_embeddings = torch.tensor(new_text_embeddings, dtype=torch.float32).to(device)\n",
    "    \n",
    "    # Perform inference\n",
    "    with torch.no_grad():\n",
    "        # Pass new text embeddings through the encoder\n",
    "        encoded_text = encoder(new_text_embeddings.to(device))\n",
    "        \n",
    "        # Generate graph embeddings through the decoder\n",
    "        generated_graph_embeddings = decoder(encoded_text)\n",
    "    \n",
    "    # Convert the generated embeddings back to numpy if needed\n",
    "    generated_graph_embeddings = generated_graph_embeddings.cpu().detach().numpy()\n",
    "    \n",
    "    print(\"Generated Graph Embeddings:\", generated_graph_embeddings)\n",
    "    return generated_graph_embeddings"
   ]
  },
  {
   "cell_type": "code",
   "execution_count": 120,
   "id": "2ed69d64-d128-400f-99db-b623dadfdbfe",
   "metadata": {},
   "outputs": [
    {
     "name": "stdout",
     "output_type": "stream",
     "text": [
      "Generated Graph Embeddings: [[-1.1740153  -1.01015    -0.2512905  ...  0.44133717  0.30949983\n",
      "   0.36544123]\n",
      " [-0.904301   -0.64616984 -0.20639436 ...  0.42700005  0.04671192\n",
      "   0.08459631]\n",
      " [-0.12834564 -0.31765145 -0.20970097 ...  0.4504913  -0.3257302\n",
      "  -0.30576536]\n",
      " ...\n",
      " [-0.36722797 -0.50676835 -0.07316626 ...  0.60349524 -0.22161524\n",
      "   0.22759426]\n",
      " [-0.1986418  -0.30490083 -0.06323767 ...  0.60967    -0.36579934\n",
      "   0.19291902]\n",
      " [-0.10412661 -0.24673572 -0.24601439 ...  0.49786538 -0.3731614\n",
      "   0.25640884]]\n"
     ]
    }
   ],
   "source": [
    "graph1 = generate_graph_emb(text_embeddings)"
   ]
  },
  {
   "cell_type": "code",
   "execution_count": 121,
   "id": "be90eb24-07b1-4367-9670-1f6e4659e3f9",
   "metadata": {},
   "outputs": [
    {
     "name": "stdout",
     "output_type": "stream",
     "text": [
      "Generated Graph Embeddings: [[-1.6098409  -0.77176166 -0.1511937  ...  0.40001515  0.28427783\n",
      "  -0.04850648]\n",
      " [-1.10754    -0.73625815 -0.2691872  ...  0.37819928  0.12898794\n",
      "  -0.187076  ]\n",
      " [-0.45227736 -0.57459545 -0.4337079  ...  0.3535733  -0.10320413\n",
      "  -0.3551753 ]\n",
      " ...\n",
      " [-0.16256587 -0.34173587  0.07178901 ...  0.7959479  -0.4565995\n",
      "   0.3983268 ]\n",
      " [-0.11766743 -0.27440268  0.0443031  ...  0.664132   -0.33017093\n",
      "   0.47863135]\n",
      " [ 0.05379157 -0.10474854 -0.12199724 ...  0.45727813 -0.41663435\n",
      "   0.13110286]]\n"
     ]
    }
   ],
   "source": [
    "graph2 = generate_graph_emb(noisy_embeddings)"
   ]
  },
  {
   "cell_type": "code",
   "execution_count": 122,
   "id": "de2f50da-597a-4d8d-abe0-4846239c7e4a",
   "metadata": {},
   "outputs": [],
   "source": [
    "# with open(\"../../ics_cwe/Text_Hop/{}/data/Encoder_Decoder_generated.npy\".format(\"pt_Gpt2\"), 'wb') as f:\n",
    "#     np.save(f,generated_graph_embeddings)"
   ]
  },
  {
   "cell_type": "code",
   "execution_count": 123,
   "id": "307e79d8-60d4-47b4-8119-e8db7a68eec0",
   "metadata": {},
   "outputs": [],
   "source": [
    "sim_vec1 = get_sim(graph1, graph_embeddings)"
   ]
  },
  {
   "cell_type": "code",
   "execution_count": 124,
   "id": "81e00bb3-43a1-4829-bc0e-e6056c26c034",
   "metadata": {},
   "outputs": [],
   "source": [
    "sim_vec2 = get_sim(graph2, graph_embeddings)"
   ]
  },
  {
   "cell_type": "code",
   "execution_count": 125,
   "id": "61bf6379-2eb5-4f74-89fa-06dd8eb3a60f",
   "metadata": {},
   "outputs": [
    {
     "data": {
      "image/png": "[encoded data removed]",
      "text/plain": [
       "<Figure size 500x500 with 1 Axes>"
      ]
     },
     "metadata": {},
     "output_type": "display_data"
    }
   ],
   "source": [
    "plot(sim_vec1, \"Encoder_Decoder_org_sim\")"
   ]
  },
  {
   "cell_type": "code",
   "execution_count": 126,
   "id": "f1373eab-b6da-43a4-b1e7-7334e72e6b28",
   "metadata": {},
   "outputs": [
    {
     "data": {
      "image/png": "[encoded data removed]",
      "text/plain": [
       "<Figure size 500x500 with 1 Axes>"
      ]
     },
     "metadata": {},
     "output_type": "display_data"
    }
   ],
   "source": [
    "plot(sim_vec2, \"Encoder_Decoder_noisy_sim\")"
   ]
  },
  {
   "cell_type": "code",
   "execution_count": null,
   "id": "a4ea5f43-3926-43aa-81b7-e11760dc5d69",
   "metadata": {},
   "outputs": [],
   "source": []
  },
  {
   "cell_type": "code",
   "execution_count": null,
   "id": "fa04bd8f-8578-4885-8a7f-0a7d7b8c7af5",
   "metadata": {},
   "outputs": [],
   "source": []
  },
  {
   "cell_type": "code",
   "execution_count": null,
   "id": "330f9dc4-4e52-4d05-9351-796781756b00",
   "metadata": {},
   "outputs": [],
   "source": []
  }
 ],
 "metadata": {
  "kernelspec": {
   "display_name": "Python 3 (ipykernel)",
   "language": "python",
   "name": "python3"
  },
  "language_info": {
   "codemirror_mode": {
    "name": "ipython",
    "version": 3
   },
   "file_extension": ".py",
   "mimetype": "text/x-python",
   "name": "python",
   "nbconvert_exporter": "python",
   "pygments_lexer": "ipython3",
   "version": "3.8.19"
  }
 },
 "nbformat": 4,
 "nbformat_minor": 5
}
