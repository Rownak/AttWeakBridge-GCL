{
 "cells": [
  {
   "cell_type": "code",
   "execution_count": 1,
   "id": "12829ceb-bfe8-45d3-8fa6-ff2dc89da108",
   "metadata": {},
   "outputs": [],
   "source": [
    "import torch\n",
    "import torch.nn as nn\n",
    "import torch.optim as optim\n",
    "from torch.utils.data import Dataset, DataLoader\n",
    "import numpy as np"
   ]
  },
  {
   "cell_type": "code",
   "execution_count": 2,
   "id": "5c5099e0-f3e1-4c68-8830-399d1849b798",
   "metadata": {},
   "outputs": [],
   "source": [
    "# Define the Generator network\n",
    "class Generator(nn.Module):\n",
    "    def __init__(self, text_embedding_dim, graph_embedding_dim, hidden_dim):\n",
    "        super(Generator, self).__init__()\n",
    "        self.model = nn.Sequential(\n",
    "            nn.Linear(text_embedding_dim, hidden_dim),\n",
    "            nn.ReLU(),\n",
    "            nn.Linear(hidden_dim, graph_embedding_dim),\n",
    "            nn.Tanh()\n",
    "        )\n",
    "\n",
    "    def forward(self, text_embedding):\n",
    "        graph_embedding = self.model(text_embedding)\n",
    "        return graph_embedding"
   ]
  },
  {
   "cell_type": "code",
   "execution_count": 3,
   "id": "01aa0e89-20a7-4503-8e87-6a5ad2253359",
   "metadata": {},
   "outputs": [],
   "source": [
    "# Define the Discriminator network\n",
    "class Discriminator(nn.Module):\n",
    "    def __init__(self, text_embedding_dim, graph_embedding_dim, hidden_dim):\n",
    "        super(Discriminator, self).__init__()\n",
    "        self.model = nn.Sequential(\n",
    "            nn.Linear(text_embedding_dim + graph_embedding_dim, hidden_dim),\n",
    "            nn.ReLU(),\n",
    "            nn.Dropout(0.3),  # Add dropout to prevent discriminator from becoming too confident\n",
    "            nn.Linear(hidden_dim, 1),\n",
    "            nn.Sigmoid()\n",
    "        )\n",
    "\n",
    "    def forward(self, text_embedding, graph_embedding):\n",
    "        combined = torch.cat((text_embedding, graph_embedding), dim=1)\n",
    "        validity = self.model(combined)\n",
    "        return validity"
   ]
  },
  {
   "cell_type": "code",
   "execution_count": 4,
   "id": "46966a33-565f-4cbb-9288-1753ad6de1bc",
   "metadata": {},
   "outputs": [],
   "source": [
    "# Define a custom dataset\n",
    "class EmbeddingDataset(Dataset):\n",
    "    def __init__(self, text_embeddings, graph_embeddings):\n",
    "        self.text_embeddings = torch.tensor(text_embeddings, dtype=torch.float32)\n",
    "        self.graph_embeddings = torch.tensor(graph_embeddings, dtype=torch.float32)\n",
    "    \n",
    "    def __len__(self):\n",
    "        return len(self.text_embeddings)\n",
    "    \n",
    "    def __getitem__(self, idx):\n",
    "        text_embedding = self.text_embeddings[idx]\n",
    "        graph_embedding = self.graph_embeddings[idx]\n",
    "        return text_embedding, graph_embedding"
   ]
  },
  {
   "cell_type": "code",
   "execution_count": 5,
   "id": "2c4976d5-3a0c-45ec-8869-3b665a7576f8",
   "metadata": {},
   "outputs": [],
   "source": [
    "import json\n",
    "import numpy as np\n",
    "total_obj=1136\n",
    "paragraphs = []\n",
    "with open('../../ics_cwe/id_to_desc.json') as fp:\n",
    "    id_to_desc = json.load(fp)\n",
    "for i in range(total_obj):\n",
    "    paragraphs.append(id_to_desc[str(i)])\n",
    "graph_embeddings = np.load(\"../../ics_cwe/{}/sample_{}/{}/text_hop_dual_gm_1.0.npy\".format(\"GCN\",4,\"pt_Gpt2\"))\n",
    "text_embeddings = np.load(\"../../ics_cwe/Text_Hop/{}/data/all_embeddings.npy\".format(\"pt_Gpt2\"))"
   ]
  },
  {
   "cell_type": "code",
   "execution_count": 6,
   "id": "8720e9e5-ed2e-41d9-a834-38b1e4a1d78e",
   "metadata": {},
   "outputs": [],
   "source": [
    "# Hyperparameters\n",
    "text_embedding_dim = text_embeddings.shape[1]  # Example text embedding dimension\n",
    "graph_embedding_dim = graph_embeddings.shape[1]  # Desired graph embedding dimension\n",
    "hidden_dim = 128\n",
    "lr = 0.0002\n",
    "batch_size = 64\n",
    "shuffle = True\n",
    "epochs = 10000\n",
    "device = torch.device(\"cuda\" if torch.cuda.is_available() else \"cpu\")"
   ]
  },
  {
   "cell_type": "code",
   "execution_count": 7,
   "id": "9f3a341f-d940-4fb7-966e-75187189ff8e",
   "metadata": {},
   "outputs": [],
   "source": [
    "# Create the dataset\n",
    "embedding_dataset = EmbeddingDataset(text_embeddings, graph_embeddings)\n",
    "# Create the DataLoader\n",
    "embedding_dataloader = DataLoader(embedding_dataset, batch_size=batch_size, shuffle=shuffle)"
   ]
  },
  {
   "cell_type": "code",
   "execution_count": null,
   "id": "b9ff00ed-5179-498f-b6a6-3905b5aa8e56",
   "metadata": {},
   "outputs": [],
   "source": []
  },
  {
   "cell_type": "code",
   "execution_count": null,
   "id": "c1c4f035-4753-4ec9-9f7c-cffc45e5a6d9",
   "metadata": {},
   "outputs": [],
   "source": []
  },
  {
   "cell_type": "code",
   "execution_count": 8,
   "id": "e51def62-224e-4b7c-b826-f5a3ddbbf5e0",
   "metadata": {},
   "outputs": [],
   "source": [
    "# Instantiate the networks and move to device\n",
    "generator = Generator(text_embedding_dim, graph_embedding_dim, hidden_dim).to(device)\n",
    "discriminator = Discriminator(text_embedding_dim, graph_embedding_dim, hidden_dim).to(device)\n"
   ]
  },
  {
   "cell_type": "code",
   "execution_count": 9,
   "id": "c13e3a09-ef92-45e3-923e-77bac8f72b3f",
   "metadata": {},
   "outputs": [],
   "source": [
    "# # Loss and optimizers\n",
    "# adversarial_loss = nn.BCELoss().to(device)\n",
    "# optimizer_G = optim.Adam(generator.parameters(), lr=0.0002, betas=(0.5, 0.999))\n",
    "# optimizer_D = optim.Adam(discriminator.parameters(), lr=0.0002, betas=(0.5, 0.999))\n",
    "# Loss and optimizers\n",
    "adversarial_loss = nn.BCELoss().to(device)\n",
    "optimizer_G = optim.Adam(generator.parameters(), lr=0.0002, betas=(0.5, 0.999))\n",
    "optimizer_D = optim.Adam(discriminator.parameters(), lr=0.0002, betas=(0.5, 0.999))\n"
   ]
  },
  {
   "cell_type": "code",
   "execution_count": 10,
   "id": "726de162-500f-489a-9e3d-19e48d6d1636",
   "metadata": {},
   "outputs": [
    {
     "name": "stdout",
     "output_type": "stream",
     "text": [
      "Epoch [0/10000]  D Loss: 0.6525412201881409  G Loss: 0.8440119028091431\n",
      "Epoch [100/10000]  D Loss: 0.5759603977203369  G Loss: 1.0861787796020508\n",
      "Epoch [200/10000]  D Loss: 0.4503016769886017  G Loss: 1.7135488986968994\n",
      "Epoch [300/10000]  D Loss: 0.38879868388175964  G Loss: 2.5334699153900146\n",
      "Epoch [400/10000]  D Loss: 0.32022085785865784  G Loss: 4.027320861816406\n",
      "Epoch [500/10000]  D Loss: 0.3064548671245575  G Loss: 4.074382781982422\n",
      "Epoch [600/10000]  D Loss: 0.3373211622238159  G Loss: 5.704192161560059\n",
      "Epoch [700/10000]  D Loss: 0.3251168727874756  G Loss: 3.1598892211914062\n",
      "Epoch [800/10000]  D Loss: 0.25847765803337097  G Loss: 5.132763385772705\n",
      "Epoch [900/10000]  D Loss: 0.3123408555984497  G Loss: 4.798542022705078\n",
      "Epoch [1000/10000]  D Loss: 0.24373558163642883  G Loss: 7.013507843017578\n",
      "Epoch [1100/10000]  D Loss: 0.27664074301719666  G Loss: 5.848641395568848\n",
      "Epoch [1200/10000]  D Loss: 0.23132091760635376  G Loss: 8.117480278015137\n",
      "Epoch [1300/10000]  D Loss: 0.2518700659275055  G Loss: 6.2561540603637695\n",
      "Epoch [1400/10000]  D Loss: 0.25462809205055237  G Loss: 6.192096710205078\n",
      "Epoch [1500/10000]  D Loss: 0.24162524938583374  G Loss: 9.633686065673828\n",
      "Epoch [1600/10000]  D Loss: 0.2368593066930771  G Loss: 10.056987762451172\n",
      "Epoch [1700/10000]  D Loss: 0.21329131722450256  G Loss: 6.791688919067383\n",
      "Epoch [1800/10000]  D Loss: 0.2596109211444855  G Loss: 7.2969069480896\n",
      "Epoch [1900/10000]  D Loss: 0.267475426197052  G Loss: 9.555597305297852\n",
      "Epoch [2000/10000]  D Loss: 0.24940775334835052  G Loss: 9.89670467376709\n",
      "Epoch [2100/10000]  D Loss: 0.2708287537097931  G Loss: 12.640063285827637\n",
      "Epoch [2200/10000]  D Loss: 0.22367839515209198  G Loss: 12.589622497558594\n",
      "Epoch [2300/10000]  D Loss: 0.22390876710414886  G Loss: 8.975080490112305\n",
      "Epoch [2400/10000]  D Loss: 0.2406206727027893  G Loss: 9.366706848144531\n",
      "Epoch [2500/10000]  D Loss: 0.19180017709732056  G Loss: 11.311782836914062\n",
      "Epoch [2600/10000]  D Loss: 0.24728924036026  G Loss: 8.181821823120117\n",
      "Epoch [2700/10000]  D Loss: 0.22332550585269928  G Loss: 10.715248107910156\n",
      "Epoch [2800/10000]  D Loss: 0.21296484768390656  G Loss: 11.224292755126953\n",
      "Epoch [2900/10000]  D Loss: 0.2161504179239273  G Loss: 11.569602012634277\n",
      "Epoch [3000/10000]  D Loss: 0.2407952845096588  G Loss: 9.01517391204834\n",
      "Epoch [3100/10000]  D Loss: 0.21316446363925934  G Loss: 10.511459350585938\n",
      "Epoch [3200/10000]  D Loss: 0.1884569674730301  G Loss: 13.558245658874512\n",
      "Epoch [3300/10000]  D Loss: 0.20310795307159424  G Loss: 16.150012969970703\n",
      "Epoch [3400/10000]  D Loss: 0.2131837159395218  G Loss: 10.791915893554688\n",
      "Epoch [3500/10000]  D Loss: 0.19730053842067719  G Loss: 13.711237907409668\n",
      "Epoch [3600/10000]  D Loss: 0.22040610015392303  G Loss: 9.441301345825195\n",
      "Epoch [3700/10000]  D Loss: 0.2283288985490799  G Loss: 11.562983512878418\n",
      "Epoch [3800/10000]  D Loss: 0.20594291388988495  G Loss: 10.962270736694336\n",
      "Epoch [3900/10000]  D Loss: 0.2064729928970337  G Loss: 12.943339347839355\n",
      "Epoch [4000/10000]  D Loss: 0.20260846614837646  G Loss: 11.343466758728027\n",
      "Epoch [4100/10000]  D Loss: 0.20168590545654297  G Loss: 10.04599380493164\n",
      "Epoch [4200/10000]  D Loss: 0.2521759271621704  G Loss: 7.506364345550537\n",
      "Epoch [4300/10000]  D Loss: 0.20535293221473694  G Loss: 14.0902738571167\n",
      "Epoch [4400/10000]  D Loss: 0.21275143325328827  G Loss: 14.208579063415527\n",
      "Epoch [4500/10000]  D Loss: 0.21753844618797302  G Loss: 14.67368221282959\n",
      "Epoch [4600/10000]  D Loss: 0.2097375988960266  G Loss: 12.016352653503418\n",
      "Epoch [4700/10000]  D Loss: 0.20147043466567993  G Loss: 13.186991691589355\n",
      "Epoch [4800/10000]  D Loss: 0.18701128661632538  G Loss: 11.986360549926758\n",
      "Epoch [4900/10000]  D Loss: 0.2093905806541443  G Loss: 12.672236442565918\n",
      "Epoch [5000/10000]  D Loss: 0.20481561124324799  G Loss: 15.77642822265625\n",
      "Epoch [5100/10000]  D Loss: 0.21770800650119781  G Loss: 13.860733032226562\n",
      "Epoch [5200/10000]  D Loss: 0.18565592169761658  G Loss: 20.65680503845215\n",
      "Epoch [5300/10000]  D Loss: 0.20071381330490112  G Loss: 12.929675102233887\n",
      "Epoch [5400/10000]  D Loss: 0.22468577325344086  G Loss: 15.665350914001465\n",
      "Epoch [5500/10000]  D Loss: 0.21111120283603668  G Loss: 14.28376579284668\n",
      "Epoch [5600/10000]  D Loss: 0.18399131298065186  G Loss: 18.817184448242188\n",
      "Epoch [5700/10000]  D Loss: 0.21719248592853546  G Loss: 15.321601867675781\n",
      "Epoch [5800/10000]  D Loss: 0.2055463045835495  G Loss: 14.909072875976562\n",
      "Epoch [5900/10000]  D Loss: 0.20522010326385498  G Loss: 18.788869857788086\n",
      "Epoch [6000/10000]  D Loss: 0.19501444697380066  G Loss: 16.54669952392578\n",
      "Epoch [6100/10000]  D Loss: 0.28613030910491943  G Loss: 16.629133224487305\n",
      "Epoch [6200/10000]  D Loss: 0.1842781901359558  G Loss: 16.329452514648438\n",
      "Epoch [6300/10000]  D Loss: 0.22870604693889618  G Loss: 21.182106018066406\n",
      "Epoch [6400/10000]  D Loss: 0.1801416426897049  G Loss: 17.579269409179688\n",
      "Epoch [6500/10000]  D Loss: 0.2242479920387268  G Loss: 13.57925796508789\n",
      "Epoch [6600/10000]  D Loss: 0.2178698480129242  G Loss: 18.370845794677734\n",
      "Epoch [6700/10000]  D Loss: 0.21347904205322266  G Loss: 13.50433349609375\n",
      "Epoch [6800/10000]  D Loss: 0.17185579240322113  G Loss: 22.60359764099121\n",
      "Epoch [6900/10000]  D Loss: 0.19982893764972687  G Loss: 14.662412643432617\n",
      "Epoch [7000/10000]  D Loss: 0.19708117842674255  G Loss: 21.439769744873047\n",
      "Epoch [7100/10000]  D Loss: 0.1955624222755432  G Loss: 22.415281295776367\n",
      "Epoch [7200/10000]  D Loss: 0.27909040451049805  G Loss: 13.834419250488281\n",
      "Epoch [7300/10000]  D Loss: 0.18256811797618866  G Loss: 21.473430633544922\n",
      "Epoch [7400/10000]  D Loss: 0.17472496628761292  G Loss: 19.00172996520996\n",
      "Epoch [7500/10000]  D Loss: 0.20625649392604828  G Loss: 20.33042335510254\n",
      "Epoch [7600/10000]  D Loss: 0.20054276287555695  G Loss: 28.809568405151367\n",
      "Epoch [7700/10000]  D Loss: 0.1868876814842224  G Loss: 22.567909240722656\n",
      "Epoch [7800/10000]  D Loss: 0.17918524146080017  G Loss: 20.513423919677734\n",
      "Epoch [7900/10000]  D Loss: 0.25457990169525146  G Loss: 18.394773483276367\n",
      "Epoch [8000/10000]  D Loss: 0.20593023300170898  G Loss: 20.24725341796875\n",
      "Epoch [8100/10000]  D Loss: 0.19687721133232117  G Loss: 14.979246139526367\n",
      "Epoch [8200/10000]  D Loss: 0.17992845177650452  G Loss: 25.32088279724121\n",
      "Epoch [8300/10000]  D Loss: 0.25031715631484985  G Loss: 21.20697784423828\n",
      "Epoch [8400/10000]  D Loss: 0.18188416957855225  G Loss: 22.582012176513672\n",
      "Epoch [8500/10000]  D Loss: 0.24110734462738037  G Loss: 21.060014724731445\n",
      "Epoch [8600/10000]  D Loss: 0.2142781913280487  G Loss: 21.07538604736328\n",
      "Epoch [8700/10000]  D Loss: 0.17934834957122803  G Loss: 23.537364959716797\n",
      "Epoch [8800/10000]  D Loss: 0.232087641954422  G Loss: 22.48413848876953\n",
      "Epoch [8900/10000]  D Loss: 0.2006247639656067  G Loss: 23.857189178466797\n",
      "Epoch [9000/10000]  D Loss: 0.18908923864364624  G Loss: 25.710121154785156\n",
      "Epoch [9100/10000]  D Loss: 0.2022964507341385  G Loss: 21.759872436523438\n",
      "Epoch [9200/10000]  D Loss: 0.1978318840265274  G Loss: 24.470970153808594\n",
      "Epoch [9300/10000]  D Loss: 0.20636452734470367  G Loss: 21.935400009155273\n",
      "Epoch [9400/10000]  D Loss: 0.17262329161167145  G Loss: 22.55544090270996\n",
      "Epoch [9500/10000]  D Loss: 0.2073608934879303  G Loss: 20.179500579833984\n",
      "Epoch [9600/10000]  D Loss: 0.17606663703918457  G Loss: 28.0654354095459\n",
      "Epoch [9700/10000]  D Loss: 0.19306570291519165  G Loss: 21.59012222290039\n",
      "Epoch [9800/10000]  D Loss: 0.20184066891670227  G Loss: 20.717975616455078\n",
      "Epoch [9900/10000]  D Loss: 0.21051958203315735  G Loss: 18.153324127197266\n"
     ]
    }
   ],
   "source": [
    "# Training the cGAN\n",
    "epochs = 10000\n",
    "\n",
    "for epoch in range(epochs):\n",
    "    for i, (real_text_embeddings, real_graph_embeddings) in enumerate(embedding_dataloader):\n",
    "        batch_size = real_text_embeddings.size(0)\n",
    "\n",
    "        # Move data to device\n",
    "        real_text_embeddings = real_text_embeddings.to(device)\n",
    "        real_graph_embeddings = real_graph_embeddings.to(device)\n",
    "\n",
    "        # Adversarial ground truths with one-sided label smoothing\n",
    "        valid = torch.full((batch_size, 1), 0.9, device=device, requires_grad=False)  # Valid labels as 0.9\n",
    "        fake = torch.zeros((batch_size, 1), device=device, requires_grad=False)\n",
    "\n",
    "        # -----------------\n",
    "        #  Train Generator\n",
    "        # -----------------\n",
    "        optimizer_G.zero_grad()\n",
    "\n",
    "        # Generate graph embeddings\n",
    "        generated_graph_embeddings = generator(real_text_embeddings)\n",
    "\n",
    "        # Loss measures generator's ability to fool the discriminator\n",
    "        g_loss = adversarial_loss(discriminator(real_text_embeddings, generated_graph_embeddings), valid)\n",
    "\n",
    "        g_loss.backward()\n",
    "        optimizer_G.step()\n",
    "\n",
    "        # ---------------------\n",
    "        #  Train Discriminator\n",
    "        # ---------------------\n",
    "        optimizer_D.zero_grad()\n",
    "\n",
    "        # Loss for real graph embeddings\n",
    "        real_loss = adversarial_loss(discriminator(real_text_embeddings, real_graph_embeddings), valid)\n",
    "        # Loss for fake graph embeddings\n",
    "        fake_loss = adversarial_loss(discriminator(real_text_embeddings, generated_graph_embeddings.detach()), fake)\n",
    "        # Total discriminator loss\n",
    "        d_loss = (real_loss + fake_loss) / 2\n",
    "\n",
    "        d_loss.backward()\n",
    "        optimizer_D.step()\n",
    "    if(epoch%100==0):\n",
    "        print(f\"Epoch [{epoch}/{epochs}]  D Loss: {d_loss.item()}  G Loss: {g_loss.item()}\")\n"
   ]
  },
  {
   "cell_type": "code",
   "execution_count": 11,
   "id": "00864385-edcf-437d-9429-b9d27cee1a39",
   "metadata": {},
   "outputs": [
    {
     "name": "stdout",
     "output_type": "stream",
     "text": [
      "Generator model saved to generator_model.pth\n"
     ]
    }
   ],
   "source": [
    "# Path to save the model\n",
    "model_save_path = 'generator_model.pth'\n",
    "\n",
    "# Save the state dictionary of the generator\n",
    "torch.save(generator.state_dict(), model_save_path)\n",
    "\n",
    "print(f\"Generator model saved to {model_save_path}\")"
   ]
  },
  {
   "cell_type": "code",
   "execution_count": 59,
   "id": "356c1b13-f0dd-47d4-ab0f-5bd1f2e2ed3c",
   "metadata": {},
   "outputs": [],
   "source": [
    "def generate_graph_emb(org_emb):\n",
    "    generator.load_state_dict(torch.load('data/generator_model_d0.3.pth'))  # Load the trained model weights\n",
    "    generator.eval()  # Set the generator to evaluation mode\n",
    "    \n",
    "    # Load new text embeddings\n",
    "    new_text_embeddings = org_emb\n",
    "    new_text_embeddings = torch.tensor(new_text_embeddings, dtype=torch.float32).to(device)\n",
    "    \n",
    "    # Generate graph embeddings for the new text embeddings\n",
    "    with torch.no_grad():  # Disable gradient calculation\n",
    "        generated_graph_embeddings = generator(new_text_embeddings)\n",
    "    \n",
    "    # Convert the generated embeddings back to numpy if needed\n",
    "    generated_graph_embeddings = generated_graph_embeddings.cpu().numpy()\n",
    "    \n",
    "    print(\"Generated Graph Embeddings:\", generated_graph_embeddings)\n",
    "    return generated_graph_embeddings"
   ]
  },
  {
   "cell_type": "code",
   "execution_count": 60,
   "id": "de2f50da-597a-4d8d-abe0-4846239c7e4a",
   "metadata": {},
   "outputs": [],
   "source": [
    "# with open(\"../../ics_cwe/Text_Hop/{}/data/GAN_generated_d0.3.npy\".format(\"pt_Gpt2\"), 'wb') as f:\n",
    "#     np.save(f,generated_graph_embeddings)"
   ]
  },
  {
   "cell_type": "code",
   "execution_count": 61,
   "id": "f4a9bdc5-464e-4ac2-a325-58bf4218c2f9",
   "metadata": {},
   "outputs": [],
   "source": [
    "# generated_graph_embeddings.shape"
   ]
  },
  {
   "cell_type": "code",
   "execution_count": 62,
   "id": "2572b218-6cc7-474f-bcd8-9459ba05fded",
   "metadata": {},
   "outputs": [],
   "source": [
    "import numpy as np\n",
    "from sklearn.metrics.pairwise import cosine_similarity"
   ]
  },
  {
   "cell_type": "code",
   "execution_count": 63,
   "id": "781bf61c-b77a-40df-b4db-0aeb213028f1",
   "metadata": {},
   "outputs": [],
   "source": [
    "with open(\"data/noisy_text_embeddings.npy\", 'rb') as f:\n",
    "    noisy_embeddings = np.load(f)"
   ]
  },
  {
   "cell_type": "code",
   "execution_count": 64,
   "id": "a220d068-f9c1-4ab1-9eef-e649b669ba6c",
   "metadata": {},
   "outputs": [],
   "source": [
    "import numpy as np\n",
    "from sklearn.metrics.pairwise import cosine_similarity\n",
    "def get_sim(gen_emb, org_emb):\n",
    "    # Compute the cosine similarity matrix\n",
    "    cosine_sim_matrix = cosine_similarity(gen_emb, org_emb)\n",
    "    diagonal_values = np.diagonal(cosine_sim_matrix)\n",
    "    # print(cosine_sim_matrix.shape)  # Should print (203, 933)\n",
    "    return diagonal_values"
   ]
  },
  {
   "cell_type": "code",
   "execution_count": 65,
   "id": "307e79d8-60d4-47b4-8119-e8db7a68eec0",
   "metadata": {},
   "outputs": [],
   "source": [
    "import numpy as np\n",
    "import random\n",
    "from matplotlib import pyplot as plt\n",
    "def plot(sim_vec, title):\n",
    "    plt.figure(figsize=(5, 5))\n",
    "    plt.hist(sim_vec, bins=np.arange(0, 1.1, 0.05), edgecolor='black')  \n",
    "    \n",
    "    # Add title and labels\n",
    "    plt.title(title)\n",
    "    plt.xlabel('Cosine Similarity')\n",
    "    plt.ylabel('Frequency')\n",
    "    plt.savefig(title+\".png\", dpi=300, bbox_inches='tight')\n",
    "    # Show plot\n",
    "    plt.show()"
   ]
  },
  {
   "cell_type": "code",
   "execution_count": 66,
   "id": "f1373eab-b6da-43a4-b1e7-7334e72e6b28",
   "metadata": {},
   "outputs": [
    {
     "name": "stdout",
     "output_type": "stream",
     "text": [
      "Generated Graph Embeddings: [[ 0.9883547  -0.21760763 -0.9035992  ...  0.17018697  0.52112764\n",
      "   0.8236704 ]\n",
      " [ 0.11987268 -0.9916278  -0.7708344  ...  0.5253801   0.03887662\n",
      "   0.66942954]\n",
      " [ 0.5449523   0.186009    0.12296677 ...  0.47060066 -0.2930091\n",
      "  -0.86553454]\n",
      " ...\n",
      " [ 0.56601495  0.28900534  0.5019779  ... -0.21147366  0.6013636\n",
      "   0.84411836]\n",
      " [ 0.8137145   0.57609135 -0.71597266 ...  0.31762552  0.48082724\n",
      "   0.7058817 ]\n",
      " [-0.9313541   0.88579947 -0.54730064 ...  0.97995913  0.63029486\n",
      "  -0.31311926]]\n"
     ]
    }
   ],
   "source": [
    "graph1 = generate_graph_emb(text_embeddings)"
   ]
  },
  {
   "cell_type": "code",
   "execution_count": 67,
   "id": "a4ea5f43-3926-43aa-81b7-e11760dc5d69",
   "metadata": {},
   "outputs": [
    {
     "name": "stdout",
     "output_type": "stream",
     "text": [
      "Generated Graph Embeddings: [[ 0.998845    0.22782151 -0.62010646 ...  0.05948895  0.70344114\n",
      "   0.9747269 ]\n",
      " [-0.3373369  -0.9963947  -0.8349416  ...  0.2345557   0.32845348\n",
      "   0.75888366]\n",
      " [ 0.60927653  0.00238498  0.34582797 ... -0.03323781 -0.3223093\n",
      "  -0.4726353 ]\n",
      " ...\n",
      " [ 0.32213926  0.10857248  0.3314551  ...  0.46166334  0.24372658\n",
      "   0.8475262 ]\n",
      " [ 0.47393507  0.5094428  -0.84715194 ...  0.72308004  0.367143\n",
      "   0.19690637]\n",
      " [-0.9548      0.9498407  -0.64971983 ...  0.9990231   0.33942425\n",
      "  -0.7152524 ]]\n"
     ]
    }
   ],
   "source": [
    "graph2 = generate_graph_emb(noisy_embeddings)"
   ]
  },
  {
   "cell_type": "code",
   "execution_count": 68,
   "id": "6ea1fad5-9acb-41ca-9000-e292e12d2ced",
   "metadata": {},
   "outputs": [],
   "source": [
    "sim_vec1 = get_sim(graph1, graph_embeddings)"
   ]
  },
  {
   "cell_type": "code",
   "execution_count": 69,
   "id": "451bee30-cb23-4210-a173-9b97cce8983f",
   "metadata": {},
   "outputs": [],
   "source": [
    "sim_vec2 = get_sim(graph2, graph_embeddings)"
   ]
  },
  {
   "cell_type": "code",
   "execution_count": 70,
   "id": "06bf6363-0691-4977-bd5b-72e1ca9c77b3",
   "metadata": {},
   "outputs": [
    {
     "data": {
      "image/png": "[encoded data removed]",
      "text/plain": [
       "<Figure size 500x500 with 1 Axes>"
      ]
     },
     "metadata": {},
     "output_type": "display_data"
    }
   ],
   "source": [
    "plot(sim_vec1, \"GAN_0.3_org_sim\")"
   ]
  },
  {
   "cell_type": "code",
   "execution_count": 71,
   "id": "a9d167f7-7996-46c6-9f64-7e598cdac920",
   "metadata": {},
   "outputs": [
    {
     "data": {
      "image/png": "[encoded data removed]",
      "text/plain": [
       "<Figure size 500x500 with 1 Axes>"
      ]
     },
     "metadata": {},
     "output_type": "display_data"
    }
   ],
   "source": [
    "plot(sim_vec2, \"GAN_0.3_noisy_sim\")"
   ]
  },
  {
   "cell_type": "code",
   "execution_count": null,
   "id": "3144c0bf-d761-44e2-8b98-c36b2306fe4a",
   "metadata": {},
   "outputs": [],
   "source": []
  }
 ],
 "metadata": {
  "kernelspec": {
   "display_name": "Python 3 (ipykernel)",
   "language": "python",
   "name": "python3"
  },
  "language_info": {
   "codemirror_mode": {
    "name": "ipython",
    "version": 3
   },
   "file_extension": ".py",
   "mimetype": "text/x-python",
   "name": "python",
   "nbconvert_exporter": "python",
   "pygments_lexer": "ipython3",
   "version": "3.8.19"
  }
 },
 "nbformat": 4,
 "nbformat_minor": 5
}
