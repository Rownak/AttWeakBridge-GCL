{
 "cells": [
  {
   "cell_type": "code",
   "execution_count": 154,
   "id": "5a203b47-d851-4c36-bb8b-6b259c391eb6",
   "metadata": {},
   "outputs": [],
   "source": [
    "import networkx as nx \n",
    "import random\n",
    "import json\n",
    "import sys\n",
    "sys.path.append('../')\n",
    "import config\n",
    "import os"
   ]
  },
  {
   "cell_type": "code",
   "execution_count": 130,
   "id": "c3ebd1be-a1aa-418c-ac96-197ad224b52a",
   "metadata": {},
   "outputs": [
    {
     "name": "stdout",
     "output_type": "stream",
     "text": [
      "len of links:  19436\n"
     ]
    }
   ],
   "source": [
    "blacklist = []\n",
    "data_dir = config.DATA_DIR\n",
    "cwe_dir = config.CWE_DIR\n",
    "# Load the JSON data for attack graph\n",
    "with open(data_dir+'attack_graph.json', 'r') as file:\n",
    "    a_graph_data = json.load(file)\n",
    "print(\"len of links: \",len(a_graph_data['links']))\n",
    "if not os.path.exists(data_dir+\"/plots/\"):\n",
    "    os.makedirs(data_dir+\"/plots/\")\n",
    "# Create dictionary to store the id_pos and pos_id mapping\n",
    "doc_id_to_emb_id = {}\n",
    "emb_id_to_doc_id = {}\n",
    "attack_weak_range = {}"
   ]
  },
  {
   "cell_type": "code",
   "execution_count": 131,
   "id": "13df77a6-3c9b-40e9-8573-317cae6652a4",
   "metadata": {},
   "outputs": [],
   "source": [
    "# Create a new graph\n",
    "a_graph = nx.Graph()\n",
    "# Add nodes\n",
    "for node in a_graph_data['nodes']:\n",
    "    a_graph.add_node(node['id'], **node)\n",
    "# Add edges\n",
    "for i in range(len(a_graph_data['links'])):\n",
    "    source = a_graph_data['links'][i]['source']\n",
    "    target = a_graph_data['links'][i]['target']\n",
    "    if(source not in doc_id_to_emb_id and source not in blacklist):\n",
    "        pos = len(doc_id_to_emb_id.keys())\n",
    "        doc_id_to_emb_id[source] = pos\n",
    "        emb_id_to_doc_id[pos]=source\n",
    "    if(target not in doc_id_to_emb_id and target not in blacklist):\n",
    "        pos = len(doc_id_to_emb_id.keys())\n",
    "        doc_id_to_emb_id[target] = pos\n",
    "        emb_id_to_doc_id[pos]=target\n",
    "    a_graph.add_edge(source, target)\n",
    "    #a_graph.add_edge(target, source, weight=1.0-a_graph_data['links'][i]['similarity'])\n",
    "    # G_all_sim.add_edge(source, target)"
   ]
  },
  {
   "cell_type": "code",
   "execution_count": 132,
   "id": "74ba5120-7036-4f26-95cf-4cdfcf68cf6f",
   "metadata": {},
   "outputs": [
    {
     "data": {
      "text/plain": [
       "(19310, 2047)"
      ]
     },
     "execution_count": 132,
     "metadata": {},
     "output_type": "execute_result"
    }
   ],
   "source": [
    "a_graph.number_of_edges(), a_graph.number_of_nodes()"
   ]
  },
  {
   "cell_type": "code",
   "execution_count": 133,
   "id": "ad9c26d8-8b1c-4cca-acb2-7e8893e8bdbd",
   "metadata": {},
   "outputs": [
    {
     "data": {
      "text/plain": [
       "2047"
      ]
     },
     "execution_count": 133,
     "metadata": {},
     "output_type": "execute_result"
    }
   ],
   "source": [
    "attack_size=len(doc_id_to_emb_id)\n",
    "attack_weak_range['attack']=(0,attack_size)\n",
    "attack_size"
   ]
  },
  {
   "cell_type": "code",
   "execution_count": 135,
   "id": "a51e5c8e-fc93-4013-a3f4-264907ebbb20",
   "metadata": {},
   "outputs": [],
   "source": [
    "# Create a new graph for weakness data\n",
    "with open(cwe_dir+config.cwe_dataset+'_graph.json') as f:\n",
    "    w_graph_data = json.load(f)\n",
    "w_graph = nx.Graph()\n",
    "# Add nodes\n",
    "for node in w_graph_data['nodes']:\n",
    "    w_graph.add_node(node['ID'], **node)\n",
    "\n",
    "# Add edges\n",
    "for i in range(len(w_graph_data['links'])):\n",
    "    source = w_graph_data['links'][i]['source']\n",
    "    target = w_graph_data['links'][i]['target']\n",
    "    if(source not in doc_id_to_emb_id):\n",
    "        pos = len(doc_id_to_emb_id.keys())\n",
    "        doc_id_to_emb_id[source] = pos\n",
    "        emb_id_to_doc_id[pos]=source\n",
    "    if(target not in doc_id_to_emb_id):\n",
    "        pos = len(doc_id_to_emb_id.keys())\n",
    "        doc_id_to_emb_id[target] = pos\n",
    "        emb_id_to_doc_id[pos]=target\n",
    "    w_graph.add_edge(source, target)\n",
    "    #w_graph.add_edge(target, source, weight=1.0-link['similarity'])\n",
    "    # G_all_sim.add_edge(source, target)"
   ]
  },
  {
   "cell_type": "code",
   "execution_count": 136,
   "id": "5730ce46-a0d3-4e94-9ec1-954c91e0e47f",
   "metadata": {},
   "outputs": [],
   "source": [
    "weak_size = len(doc_id_to_emb_id)-attack_size\n",
    "attack_weak_range['cwe']=(attack_size,len(doc_id_to_emb_id))\n",
    "attack_weak_range['cwe']\n",
    "attack_weak_range['n_nodes']=len(doc_id_to_emb_id)"
   ]
  },
  {
   "cell_type": "code",
   "execution_count": 137,
   "id": "3456bacc-09a1-43db-954d-cc700255f1a5",
   "metadata": {},
   "outputs": [
    {
     "data": {
      "text/plain": [
       "{'attack': (0, 2047), 'cwe': (2047, 2986), 'n_nodes': 2986}"
      ]
     },
     "execution_count": 137,
     "metadata": {},
     "output_type": "execute_result"
    }
   ],
   "source": [
    "attack_weak_range"
   ]
  },
  {
   "cell_type": "code",
   "execution_count": 138,
   "id": "f5a984bc-a590-44e8-b5cf-61d5ef484149",
   "metadata": {},
   "outputs": [],
   "source": [
    "with open(data_dir+'doc_id_to_emb_id.json','w') as fp:\n",
    "    json.dump(doc_id_to_emb_id,fp)\n",
    "with open(data_dir+'emb_id_to_doc_id.json','w') as fp:\n",
    "    json.dump(emb_id_to_doc_id,fp)\n",
    "with open(data_dir+'attack_weak_range.json','w') as fp:\n",
    "    json.dump(attack_weak_range,fp)"
   ]
  },
  {
   "cell_type": "code",
   "execution_count": null,
   "id": "15c7322a-3f3f-4c05-b86a-2db70ff85256",
   "metadata": {},
   "outputs": [],
   "source": []
  },
  {
   "cell_type": "code",
   "execution_count": 139,
   "id": "cf1e321d-b485-493e-9856-f589b9d338b5",
   "metadata": {},
   "outputs": [],
   "source": [
    "# Get all connections and shortest path according to hop distance\n",
    "\n",
    "def get_shortest_path(graph_data, graph):\n",
    "    all_links = []\n",
    "    count = 0\n",
    "    w_dict = {}\n",
    "    for source in graph.nodes:\n",
    "        \n",
    "        for target in graph.nodes: #len(graph_data['links']\n",
    "            \n",
    "            if(source==target or (source,target) in w_dict or (target,source) in w_dict):\n",
    "                continue\n",
    "\n",
    "            # following line give shortest path according to the weight\n",
    "            # dist2 = nx.shortest_path_length(graph,source,target2, weight='weight')\n",
    "            # Following line gives shortes path according to hop distance\n",
    "            try:\n",
    "                dist = nx.shortest_path_length(graph,source,target)\n",
    "                # if((source,target) in w_dict and w_dict[(source,target)]<dist):\n",
    "                #     dist=w_dict[(source,target)]\n",
    "                #     print(\"duplicate\", source, \" \",target)\n",
    "                # elif((target,source) in w_dict and w_dict[(target,source)]<dist):\n",
    "                #     dist=w_dict[(source,target)]\n",
    "                #     print(\"duplicate\", source, \" \",target)\n",
    "                w_dict[(source,target)] = dist\n",
    "                #w_dict[(target,source)] = dist\n",
    "            except:\n",
    "                count+=1\n",
    "                #print(\"No path between \"+source+\" \",target )\n",
    "    print(\"No path: \", count)\n",
    "    return w_dict"
   ]
  },
  {
   "cell_type": "code",
   "execution_count": 140,
   "id": "671da657-b901-424d-8bd8-c2ce5b0ea2b2",
   "metadata": {},
   "outputs": [
    {
     "name": "stdout",
     "output_type": "stream",
     "text": [
      "No path:  16352\n"
     ]
    }
   ],
   "source": [
    "# len = 490891 without visited\n",
    "# len = 11801 with visited\n",
    "attack_w_dict = get_shortest_path(a_graph_data,a_graph)\n"
   ]
  },
  {
   "cell_type": "code",
   "execution_count": 141,
   "id": "a33437c1-74b3-42f2-bda5-3e3dec5c0ae8",
   "metadata": {},
   "outputs": [
    {
     "data": {
      "text/plain": [
       "2085905"
      ]
     },
     "execution_count": 141,
     "metadata": {},
     "output_type": "execute_result"
    }
   ],
   "source": [
    "len(attack_w_dict)"
   ]
  },
  {
   "cell_type": "code",
   "execution_count": 142,
   "id": "1e5182a6-5310-4dc4-962e-784425f08e00",
   "metadata": {},
   "outputs": [
    {
     "name": "stdout",
     "output_type": "stream",
     "text": [
      "No path:  0\n"
     ]
    }
   ],
   "source": [
    "weakness_w_dict = get_shortest_path(w_graph_data, w_graph)"
   ]
  },
  {
   "cell_type": "code",
   "execution_count": 143,
   "id": "9b4c48ab-5894-47f3-b9f3-7502de403471",
   "metadata": {},
   "outputs": [
    {
     "data": {
      "text/plain": [
       "440391"
      ]
     },
     "execution_count": 143,
     "metadata": {},
     "output_type": "execute_result"
    }
   ],
   "source": [
    "len(weakness_w_dict.keys())"
   ]
  },
  {
   "cell_type": "code",
   "execution_count": 144,
   "id": "f47e763e-5de6-4e1f-ad70-4261a7475046",
   "metadata": {},
   "outputs": [
    {
     "name": "stdout",
     "output_type": "stream",
     "text": [
      "8\n"
     ]
    }
   ],
   "source": [
    "a_mx_dist = max(list(attack_w_dict.values()))\n",
    "print(a_mx_dist)"
   ]
  },
  {
   "cell_type": "code",
   "execution_count": 145,
   "id": "65521494-cbb1-496d-a121-b011095f50fa",
   "metadata": {},
   "outputs": [
    {
     "name": "stdout",
     "output_type": "stream",
     "text": [
      "13\n"
     ]
    }
   ],
   "source": [
    "w_mx_dist = max(list(weakness_w_dict.values()))\n",
    "print(w_mx_dist)"
   ]
  },
  {
   "cell_type": "code",
   "execution_count": 146,
   "id": "46d5dec7-9a22-425b-9a67-906d6809805c",
   "metadata": {},
   "outputs": [],
   "source": [
    "def create_training(weight_dict):\n",
    "    pair_data = []\n",
    "    missing_nodes = set()\n",
    "    mx_dist = max(list(weight_dict.values()))\n",
    "    print(\"max distance \", mx_dist)\n",
    "    for key in weight_dict.keys():\n",
    "        if(key[0] in doc_id_to_emb_id):\n",
    "            source_id = doc_id_to_emb_id[key[0]]\n",
    "            if(key[1] in doc_id_to_emb_id):\n",
    "                target_id = doc_id_to_emb_id[key[1]]\n",
    "                pair_data.append([source_id,target_id, weight_dict[key]/float(mx_dist)])\n",
    "            else:\n",
    "                missing_nodes.add(key[1])\n",
    "        else:\n",
    "            missing_nodes.add(key[0])\n",
    "    print(missing_nodes)\n",
    "    return pair_data, missing_nodes"
   ]
  },
  {
   "cell_type": "code",
   "execution_count": 147,
   "id": "7156cc34-641f-4587-b874-de8f4b7c6b2d",
   "metadata": {},
   "outputs": [
    {
     "name": "stdout",
     "output_type": "stream",
     "text": [
      "max distance  8\n",
      "set()\n"
     ]
    }
   ],
   "source": [
    "all_attack_dist, missing_attack = create_training(attack_w_dict)"
   ]
  },
  {
   "cell_type": "code",
   "execution_count": 148,
   "id": "6c6f1a2e-e2b2-451b-8529-b09352538e9c",
   "metadata": {},
   "outputs": [
    {
     "name": "stdout",
     "output_type": "stream",
     "text": [
      "max distance  13\n",
      "set()\n"
     ]
    }
   ],
   "source": [
    "all_weakness_dist, missing_weakness = create_training(weakness_w_dict)"
   ]
  },
  {
   "cell_type": "code",
   "execution_count": 149,
   "id": "76206c94-8eaa-4f22-8737-949d9a2bcfcc",
   "metadata": {},
   "outputs": [
    {
     "data": {
      "text/plain": [
       "2526296"
      ]
     },
     "execution_count": 149,
     "metadata": {},
     "output_type": "execute_result"
    }
   ],
   "source": [
    "training_data = all_attack_dist+all_weakness_dist\n",
    "len(training_data)"
   ]
  },
  {
   "cell_type": "code",
   "execution_count": 150,
   "id": "1ee826e1-8a3e-4790-87a9-e201b42c46e0",
   "metadata": {},
   "outputs": [
    {
     "data": {
      "text/plain": [
       "[2047, 2048, 0.07692307692307693]"
      ]
     },
     "execution_count": 150,
     "metadata": {},
     "output_type": "execute_result"
    }
   ],
   "source": [
    "all_weakness_dist[0]"
   ]
  },
  {
   "cell_type": "code",
   "execution_count": 151,
   "id": "551b2194-1771-4cb8-896c-1640e60d8865",
   "metadata": {},
   "outputs": [],
   "source": [
    "all_attack_dist_norm = [x for _,_,x in all_attack_dist]"
   ]
  },
  {
   "cell_type": "code",
   "execution_count": 152,
   "id": "b131dbb3-d3c0-432c-8a28-af3d3222b144",
   "metadata": {},
   "outputs": [],
   "source": [
    "all_weakness_dist_norm = [x for _,_,x in all_weakness_dist]"
   ]
  },
  {
   "cell_type": "code",
   "execution_count": 153,
   "id": "51e60c89-87bb-42ff-923e-04be75a78fa0",
   "metadata": {},
   "outputs": [],
   "source": [
    "\n",
    "# one_path_attack_dist = [1.0-item['similarity'] for item in graph_data['links']]\n",
    "# len(one_path_attack_dist)"
   ]
  },
  {
   "cell_type": "code",
   "execution_count": 156,
   "id": "444ef3dc-b47c-49c8-aeab-d920242a70e3",
   "metadata": {},
   "outputs": [],
   "source": [
    "import matplotlib.pyplot as plt\n",
    "\n",
    "def histogram(all_sim,file, title):\n",
    "    # Plot histogram with 5 bins\n",
    "    plt.hist(all_sim, bins=50, edgecolor='black')\n",
    "    \n",
    "    # Add labels and title\n",
    "    plt.xlabel('Values')\n",
    "    plt.ylabel('Frequency')\n",
    "    plt.title(title)\n",
    "    plt.savefig(file, dpi=300)\n",
    "    # Show plot\n",
    "    plt.show()"
   ]
  },
  {
   "cell_type": "code",
   "execution_count": 157,
   "id": "3dea598f-24e3-48be-9a93-7f108dd3dbbc",
   "metadata": {},
   "outputs": [
    {
     "data": {
      "image/png": "[encoded data removed]",
      "text/plain": [
       "<Figure size 640x480 with 1 Axes>"
      ]
     },
     "metadata": {},
     "output_type": "display_data"
    }
   ],
   "source": [
    "histogram(all_attack_dist_norm,data_dir+'plots/attack_norm_hop_distance_distribution.png', 'All paths attack normalize hop distance distribution')"
   ]
  },
  {
   "cell_type": "code",
   "execution_count": 158,
   "id": "f2532d7a-5010-44d6-912f-bbeddce5eb6a",
   "metadata": {},
   "outputs": [],
   "source": [
    "attack_hop_dist = [x*a_mx_dist for _,_,x in all_attack_dist]"
   ]
  },
  {
   "cell_type": "code",
   "execution_count": 159,
   "id": "807a3f2f-2885-4c3e-a744-9787cd2fd479",
   "metadata": {},
   "outputs": [
    {
     "data": {
      "image/png": "[encoded data removed]",
      "text/plain": [
       "<Figure size 640x480 with 1 Axes>"
      ]
     },
     "metadata": {},
     "output_type": "display_data"
    }
   ],
   "source": [
    "histogram(attack_hop_dist,data_dir+'plots/attack_hop_distance_distribution.png', 'All paths attack hop distance distribution')"
   ]
  },
  {
   "cell_type": "code",
   "execution_count": 160,
   "id": "015f5092-60d4-46bd-8734-5244221477f4",
   "metadata": {},
   "outputs": [
    {
     "data": {
      "image/png": "[encoded data removed]",
      "text/plain": [
       "<Figure size 640x480 with 1 Axes>"
      ]
     },
     "metadata": {},
     "output_type": "display_data"
    }
   ],
   "source": [
    "histogram(all_weakness_dist_norm,data_dir+'plots/weakness_norm_hop_distance_distribution.png', 'All paths weakness normalize hop distance distribution')"
   ]
  },
  {
   "cell_type": "code",
   "execution_count": 161,
   "id": "15878d8c-4b46-47fa-a149-1f154f0caa2a",
   "metadata": {},
   "outputs": [],
   "source": [
    "weakness_hop_dist = [x*w_mx_dist for _,_,x in all_weakness_dist]"
   ]
  },
  {
   "cell_type": "code",
   "execution_count": 162,
   "id": "84823250-4966-4259-8bb7-ef403ef09ec9",
   "metadata": {},
   "outputs": [
    {
     "data": {
      "image/png": "[encoded data removed]",
      "text/plain": [
       "<Figure size 640x480 with 1 Axes>"
      ]
     },
     "metadata": {},
     "output_type": "display_data"
    }
   ],
   "source": [
    "histogram(weakness_hop_dist,data_dir+'plots/weakness_hop_distance_distribution.png', 'All paths weakness hop distance distribution')"
   ]
  },
  {
   "cell_type": "code",
   "execution_count": 163,
   "id": "236e1844-0870-4a23-8a68-1d521378cbcc",
   "metadata": {},
   "outputs": [],
   "source": [
    "training_data = all_attack_dist+all_weakness_dist"
   ]
  },
  {
   "cell_type": "code",
   "execution_count": 164,
   "id": "5ebecff0-42ee-4a04-b991-b43164b6fabb",
   "metadata": {},
   "outputs": [
    {
     "data": {
      "text/plain": [
       "2526296"
      ]
     },
     "execution_count": 164,
     "metadata": {},
     "output_type": "execute_result"
    }
   ],
   "source": [
    "len(training_data)"
   ]
  },
  {
   "cell_type": "code",
   "execution_count": 165,
   "id": "bc88ed2f-b402-4113-afce-a1237cd21e3d",
   "metadata": {},
   "outputs": [],
   "source": [
    "import numpy as np\n",
    "np.save(data_dir+'hop_training_data.npy', np.array(training_data)) # save\n",
    "#new_num_arr = np.load('data.npy') # load"
   ]
  },
  {
   "cell_type": "code",
   "execution_count": null,
   "id": "1e396b4a-86ba-42d2-8473-59293344ff1b",
   "metadata": {},
   "outputs": [],
   "source": []
  },
  {
   "cell_type": "code",
   "execution_count": null,
   "id": "3ac76127-79fa-4ccc-8ff9-8d60d15c8965",
   "metadata": {},
   "outputs": [],
   "source": []
  },
  {
   "cell_type": "code",
   "execution_count": 166,
   "id": "8337d0d3-be1d-488b-bfb0-435e65f92bb2",
   "metadata": {},
   "outputs": [],
   "source": [
    "def get_hop_sim_matrix(all_dist, size, isAttack):\n",
    "    hop_sim_matrix = [[0 for _ in range(size)] for _ in range(size)]\n",
    "    for n1,n2,dist in all_dist:\n",
    "        if(not isAttack):\n",
    "            n1=n1-attack_size\n",
    "            n2=n2-attack_size\n",
    "        # print(\"n1\",n1)\n",
    "        # print(\"n2\",n2)\n",
    "        \n",
    "        hop_sim_matrix[n1][n2]=1.0001-dist\n",
    "        hop_sim_matrix[n2][n1]=1.0001-dist\n",
    "    return hop_sim_matrix"
   ]
  },
  {
   "cell_type": "code",
   "execution_count": 167,
   "id": "41523819-99ee-4688-b45b-2ea3f3f13584",
   "metadata": {},
   "outputs": [],
   "source": [
    "weakness_hop_sim_matrix = get_hop_sim_matrix(all_weakness_dist, weak_size, False)"
   ]
  },
  {
   "cell_type": "code",
   "execution_count": 168,
   "id": "c21a46c7-504d-4fd5-bd31-514622128141",
   "metadata": {},
   "outputs": [],
   "source": [
    "attack_hop_sim_matrix = get_hop_sim_matrix(all_attack_dist, attack_size, True)"
   ]
  },
  {
   "cell_type": "code",
   "execution_count": 169,
   "id": "3b35c933-dfc8-4d0c-a98d-28e8cc5e6353",
   "metadata": {},
   "outputs": [
    {
     "name": "stdout",
     "output_type": "stream",
     "text": [
      "18399\n"
     ]
    }
   ],
   "source": [
    "count=0\n",
    "for i in range(len(attack_hop_sim_matrix)):\n",
    "    for j in range(len(attack_hop_sim_matrix[0])):\n",
    "        if(attack_hop_sim_matrix[i][j]==0):\n",
    "            count+=1\n",
    "print(count)"
   ]
  },
  {
   "cell_type": "code",
   "execution_count": 170,
   "id": "dae855af-8a28-4346-8f87-93a3ed4f9eaf",
   "metadata": {},
   "outputs": [],
   "source": [
    "np.save(data_dir+'weakness_hop_sim_matrix.npy', np.array(weakness_hop_sim_matrix)) # save"
   ]
  },
  {
   "cell_type": "code",
   "execution_count": 171,
   "id": "5032d674-0dd1-41f7-9756-f86c7efa8761",
   "metadata": {},
   "outputs": [],
   "source": [
    "np.save(data_dir+'attack_hop_sim_matrix.npy', np.array(attack_hop_sim_matrix)) # save"
   ]
  },
  {
   "cell_type": "code",
   "execution_count": null,
   "id": "c27d9a40-f6e0-43e2-9630-f93e407951ae",
   "metadata": {},
   "outputs": [],
   "source": []
  }
 ],
 "metadata": {
  "kernelspec": {
   "display_name": "Python 3 (ipykernel)",
   "language": "python",
   "name": "python3"
  },
  "language_info": {
   "codemirror_mode": {
    "name": "ipython",
    "version": 3
   },
   "file_extension": ".py",
   "mimetype": "text/x-python",
   "name": "python",
   "nbconvert_exporter": "python",
   "pygments_lexer": "ipython3",
   "version": "3.8.19"
  }
 },
 "nbformat": 4,
 "nbformat_minor": 5
}
