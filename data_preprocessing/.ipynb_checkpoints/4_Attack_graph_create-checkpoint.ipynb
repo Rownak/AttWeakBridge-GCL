{
 "cells": [
  {
   "cell_type": "code",
   "execution_count": 1,
   "id": "a6b4e297-31a6-44d6-a9ab-cf0774f1107c",
   "metadata": {},
   "outputs": [],
   "source": [
    "import json\n",
    "import sys\n",
    "sys.path.append('../')\n",
    "import config"
   ]
  },
  {
   "cell_type": "code",
   "execution_count": 2,
   "id": "9f906757-aab4-402b-8060-5c96d2b60ab6",
   "metadata": {},
   "outputs": [
    {
     "name": "stdout",
     "output_type": "stream",
     "text": [
      "data dir:  /home/afarhan/post-doc/AWEB_GCL/datasets/enterprise_attack/\n"
     ]
    }
   ],
   "source": [
    "# Load JSON file\n",
    "data_dir = config.DATA_DIR\n",
    "print(\"data dir: \",data_dir)\n",
    "with open(data_dir+'attack.json', encoding='utf-8') as f:\n",
    "    data = json.load(f)"
   ]
  },
  {
   "cell_type": "code",
   "execution_count": 3,
   "id": "cd1d2b93-705d-4ef9-a4aa-074e53f76a1c",
   "metadata": {},
   "outputs": [
    {
     "name": "stdout",
     "output_type": "stream",
     "text": [
      "dict_keys(['type', 'id', 'spec_version', 'objects'])\n"
     ]
    }
   ],
   "source": [
    "data_keys = data.keys()\n",
    "print(data_keys)"
   ]
  },
  {
   "cell_type": "markdown",
   "id": "48febbe1-fb7f-4208-8153-2d4a80953810",
   "metadata": {},
   "source": [
    "#### data_keys contains the top level elements of this data file. It seems objects is of our interest\n",
    "\n",
    "How many objects are in the file?"
   ]
  },
  {
   "cell_type": "code",
   "execution_count": 4,
   "id": "2b22e2aa-d1b9-4986-adf8-bcf0428c4fe8",
   "metadata": {},
   "outputs": [
    {
     "name": "stdout",
     "output_type": "stream",
     "text": [
      "Number of objects:  21542\n"
     ]
    }
   ],
   "source": [
    "print(\"Number of objects: \", len(data['objects']))"
   ]
  },
  {
   "cell_type": "markdown",
   "id": "11f3b1f9-0592-4c52-9840-92f322a4c20b",
   "metadata": {},
   "source": [
    "#### Objects have a **type** field. How many such type fileds are there? \n",
    "How many objects of each type?"
   ]
  },
  {
   "cell_type": "code",
   "execution_count": 5,
   "id": "2f789151-7e2c-4b3b-ad52-2d096427a2d0",
   "metadata": {},
   "outputs": [
    {
     "name": "stdout",
     "output_type": "stream",
     "text": [
      "x-mitre-collection    : 1\n",
      "attack-pattern        : 780\n",
      "campaign              : 28\n",
      "course-of-action      : 284\n",
      "identity              : 1\n",
      "intrusion-set         : 165\n",
      "malware               : 596\n",
      "marking-definition    : 1\n",
      "relationship          : 19438\n",
      "tool                  : 86\n",
      "x-mitre-data-component: 109\n",
      "x-mitre-data-source   : 38\n",
      "x-mitre-matrix        : 1\n",
      "x-mitre-tactic        : 14\n"
     ]
    }
   ],
   "source": [
    "from collections import Counter\n",
    "\n",
    "# Get the list of objects\n",
    "objects = data['objects']\n",
    "\n",
    "# Get the 'type' of each object\n",
    "types = [obj['type'] for obj in objects]\n",
    "\n",
    "# Count the occurrences of each type\n",
    "type_counts = Counter(types)\n",
    "\n",
    "# print(type_counts)\n",
    "# Get the maximum length of the type names\n",
    "max_length = max(len(type) for type in type_counts.keys())\n",
    "\n",
    "# Print the counts in two columns\n",
    "for type, count in type_counts.items():\n",
    "    print(f'{type.ljust(max_length)}: {count}')"
   ]
  },
  {
   "cell_type": "markdown",
   "id": "1d10fc08-343d-4f33-8c8c-fcf64227a68a",
   "metadata": {},
   "source": [
    "#### The target is to create the graph using the relationship type objects"
   ]
  },
  {
   "cell_type": "code",
   "execution_count": 6,
   "id": "0abc8903-0949-416f-ae34-f62b24d31e4b",
   "metadata": {},
   "outputs": [],
   "source": [
    "def getObjectsOfSpecificType(objects, theType='relationship'):\n",
    "    objOfThisType=[]\n",
    "    for i in range(0, len(objects)):\n",
    "        if 'type' in objects[i]:\n",
    "            if objects[i]['type']==theType:\n",
    "                objOfThisType.append(objects[i])\n",
    "    return objOfThisType\n",
    "\n",
    "def idVSobjects(objects):\n",
    "    idVSObjects={}\n",
    "    for i in range(0, len(objects)):\n",
    "        if 'id' in objects[i]:\n",
    "            idVSObjects[objects[i]['id']]=objects[i]\n",
    "    return idVSObjects"
   ]
  },
  {
   "cell_type": "code",
   "execution_count": 7,
   "id": "1d7a9f78-0e6a-4dfd-9f70-52bcf518b952",
   "metadata": {},
   "outputs": [],
   "source": [
    "relationObjects = getObjectsOfSpecificType(objects, 'relationship')\n",
    "idVsObj=idVSobjects(objects)"
   ]
  },
  {
   "cell_type": "code",
   "execution_count": null,
   "id": "91c4a1e6-fbf7-4460-84c5-55d90cfdffdc",
   "metadata": {},
   "outputs": [],
   "source": []
  },
  {
   "cell_type": "code",
   "execution_count": 8,
   "id": "8cf410ed-dd2c-40a2-bb49-606473bdd5c5",
   "metadata": {},
   "outputs": [
    {
     "data": {
      "text/plain": [
       "21542"
      ]
     },
     "execution_count": 8,
     "metadata": {},
     "output_type": "execute_result"
    }
   ],
   "source": [
    "len(idVsObj)"
   ]
  },
  {
   "cell_type": "code",
   "execution_count": 9,
   "id": "13083afb-968e-4b14-8593-81e4277c8284",
   "metadata": {},
   "outputs": [
    {
     "data": {
      "text/plain": [
       "{'object_marking_refs': ['marking-definition--fa42a846-8d90-4e51-bc29-71d5b4802168'],\n",
       " 'id': 'relationship--00038d0e-7fc7-41c3-9055-edb4d87ea912',\n",
       " 'type': 'relationship',\n",
       " 'created': '2021-04-27T01:56:35.810Z',\n",
       " 'created_by_ref': 'identity--c78cb6e5-0c4b-4611-8297-d1b8b55e40b5',\n",
       " 'external_references': [{'source_name': 'CheckPoint Volatile Cedar March 2015',\n",
       "   'url': 'https://media.kasperskycontenthub.com/wp-content/uploads/sites/43/2015/03/20082004/volatile-cedar-technical-report.pdf',\n",
       "   'description': 'Threat Intelligence and Research. (2015, March 30). VOLATILE CEDAR. Retrieved February 8, 2021.'}],\n",
       " 'modified': '2021-04-27T01:56:35.810Z',\n",
       " 'description': \" [Explosive](https://attack.mitre.org/software/S0569) has collected the MAC address from the victim's machine.(Citation: CheckPoint Volatile Cedar March 2015) \",\n",
       " 'relationship_type': 'uses',\n",
       " 'source_ref': 'malware--6a21e3a4-5ffe-4581-af9a-6a54c7536f44',\n",
       " 'target_ref': 'attack-pattern--707399d6-ab3e-4963-9315-d9d3818cd6a0',\n",
       " 'x_mitre_version': '1.0',\n",
       " 'x_mitre_modified_by_ref': 'identity--c78cb6e5-0c4b-4611-8297-d1b8b55e40b5',\n",
       " 'spec_version': '2.1',\n",
       " 'x_mitre_attack_spec_version': '2.1.0',\n",
       " 'x_mitre_domains': ['enterprise-attack']}"
      ]
     },
     "execution_count": 9,
     "metadata": {},
     "output_type": "execute_result"
    }
   ],
   "source": [
    "relationObjects[0]"
   ]
  },
  {
   "cell_type": "code",
   "execution_count": 10,
   "id": "fcb1ac5e-7d60-4273-b084-203dd71ddc87",
   "metadata": {},
   "outputs": [
    {
     "name": "stdout",
     "output_type": "stream",
     "text": [
      "missing relationship:  2\n"
     ]
    }
   ],
   "source": [
    "from sklearn.metrics.pairwise import cosine_similarity\n",
    "\n",
    "# construct nodes and links\n",
    "nodes = []\n",
    "links = []\n",
    "count=0\n",
    "# add all unique source and target refs as nodes\n",
    "for relation in relationObjects:\n",
    "    source_ref = relation['source_ref']\n",
    "    target_ref = relation['target_ref']\n",
    "    if(source_ref not in idVsObj.keys() or target_ref not in idVsObj.keys()):\n",
    "        count+=1\n",
    "        continue\n",
    "    if source_ref not in nodes:\n",
    "        nodes.append(source_ref)\n",
    "    if target_ref not in nodes:\n",
    "        nodes.append(target_ref)\n",
    "    links.append({'source': source_ref, 'target': target_ref})\n",
    "\n",
    "# write graph.json file\n",
    "print(\"missing relationship: \", count)\n",
    "for i in range (0, len(nodes)):\n",
    "    nodeID=nodes[i]\n",
    "    \n",
    "    nodes[i]=idVsObj[nodeID]\n",
    "    #print(nodes[i])\n",
    "\n",
    "\n",
    "#graph = {'nodes': [{'id': node, 'group': 1} for node in nodes], 'links': links}\n",
    "graph = {'nodes': nodes, 'links': links}\n",
    "\n"
   ]
  },
  {
   "cell_type": "code",
   "execution_count": 11,
   "id": "18f6b1d5-1c1f-4e1e-85fa-bf9ffbf39404",
   "metadata": {},
   "outputs": [
    {
     "data": {
      "text/plain": [
       "19436"
      ]
     },
     "execution_count": 11,
     "metadata": {},
     "output_type": "execute_result"
    }
   ],
   "source": [
    "len(links)"
   ]
  },
  {
   "cell_type": "code",
   "execution_count": 12,
   "id": "8631d1c3-d3b1-49d9-a250-2bab41c9403a",
   "metadata": {},
   "outputs": [
    {
     "data": {
      "text/plain": [
       "2047"
      ]
     },
     "execution_count": 12,
     "metadata": {},
     "output_type": "execute_result"
    }
   ],
   "source": [
    "len(graph['nodes'])"
   ]
  },
  {
   "cell_type": "code",
   "execution_count": 13,
   "id": "3b98a464-89a0-4916-b947-cf7025743395",
   "metadata": {},
   "outputs": [],
   "source": [
    "with open(data_dir+'attack_graph.json', 'w') as f:\n",
    "    json.dump(graph, f)"
   ]
  },
  {
   "cell_type": "code",
   "execution_count": null,
   "id": "78eacf89-a091-4375-b36c-7e26241d8fb9",
   "metadata": {},
   "outputs": [],
   "source": []
  }
 ],
 "metadata": {
  "kernelspec": {
   "display_name": "Python 3 (ipykernel)",
   "language": "python",
   "name": "python3"
  },
  "language_info": {
   "codemirror_mode": {
    "name": "ipython",
    "version": 3
   },
   "file_extension": ".py",
   "mimetype": "text/x-python",
   "name": "python",
   "nbconvert_exporter": "python",
   "pygments_lexer": "ipython3",
   "version": "3.8.19"
  }
 },
 "nbformat": 4,
 "nbformat_minor": 5
}
