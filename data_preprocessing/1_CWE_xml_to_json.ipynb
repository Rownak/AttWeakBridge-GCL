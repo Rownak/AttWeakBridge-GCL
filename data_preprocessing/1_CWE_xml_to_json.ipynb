{
 "cells": [
  {
   "cell_type": "code",
   "execution_count": 14,
   "id": "f8909457-7e7a-43a4-997b-452749a39b11",
   "metadata": {},
   "outputs": [
    {
     "data": {
      "text/plain": [
       "('{http://cwe.mitre.org/cwe-7}Weakness_Catalog',\n",
       " {'Name': 'CWE',\n",
       "  'Version': '4.12',\n",
       "  'Date': '2023-06-29',\n",
       "  '{http://www.w3.org/2001/XMLSchema-instance}schemaLocation': 'http://cwe.mitre.org/cwe-7 http://cwe.mitre.org/data/xsd/cwe_schema_v7.0.xsd'},\n",
       " ['{http://cwe.mitre.org/cwe-7}Weaknesses',\n",
       "  '{http://cwe.mitre.org/cwe-7}Categories',\n",
       "  '{http://cwe.mitre.org/cwe-7}Views',\n",
       "  '{http://cwe.mitre.org/cwe-7}External_References'])"
      ]
     },
     "execution_count": 14,
     "metadata": {},
     "output_type": "execute_result"
    }
   ],
   "source": [
    "import json\n",
    "import xml.etree.ElementTree as ET\n",
    "data_dir = \"../datasets/ics_attack/\"\n",
    "# Load the XML file\n",
    "xml_file_name = \"cwec_v4.12\"\n",
    "tree = ET.parse(data_dir+xml_file_name+'.xml')\n",
    "root = tree.getroot()\n",
    "\n",
    "# Get the XML root attributes and its immediate children\n",
    "root_attrib = root.attrib\n",
    "children_tags = [child.tag for child in root]\n",
    "\n",
    "(root.tag, root_attrib, children_tags)"
   ]
  },
  {
   "cell_type": "code",
   "execution_count": 15,
   "id": "5e2212d6-f4c1-4bac-9fb3-6a4e5fdd84d5",
   "metadata": {},
   "outputs": [],
   "source": [
    "weaknesses_section = root.find('{http://cwe.mitre.org/cwe-7}Weaknesses')\n",
    "weakness_entries = list(weaknesses_section)"
   ]
  },
  {
   "cell_type": "code",
   "execution_count": 16,
   "id": "714c592b-47e2-477d-82c6-201d7c86a80d",
   "metadata": {},
   "outputs": [],
   "source": [
    "# Parse the XML\n",
    "from collections import defaultdict\n",
    "namespace = {\n",
    "    'cwe': 'http://cwe.mitre.org/cwe-7',\n",
    "    'xhtml': 'http://www.w3.org/1999/xhtml'\n",
    "}\n",
    "# Extract Weakness information\n",
    "weakness_info = defaultdict(list)\n",
    "\n",
    "count3=0\n",
    "for weakness in root.findall('.//cwe:Weakness', namespace):\n",
    "    weakness_id = weakness.get('ID')\n",
    "    weakness_name = weakness.get('Name')\n",
    "    \n",
    "    description = weakness.find('.//cwe:Description', namespace).text.strip() if weakness.find('.//cwe:Description', namespace) is not None else 'N/A'\n",
    "    extended_description_elems = weakness.findall('.//cwe:Extended_Description/xhtml:p', namespace)\n",
    "    if not extended_description_elems:\n",
    "        extended_description = weakness.find('.//cwe:Extended_Description', namespace).text.strip() if weakness.find('.//cwe:Extended_Description', namespace) is not None else 'N/A'\n",
    "    else:\n",
    "        extended_description = ''.join(ET.tostring(e, encoding='unicode', method='text').strip() for e in extended_description_elems)\n",
    "    # print(\"# ID #\")\n",
    "    # print(weakness_id)\n",
    "    # print(\"# description #\")\n",
    "    # print(description)\n",
    "    # print(\"# extended_description #\")\n",
    "    # print(extended_description.strip())\n",
    "    modes_of_introduction = \"\"\n",
    "    for intro in weakness.findall('.//cwe:Introduction', namespace):\n",
    "        phase = intro.find('.//cwe:Phase', namespace).text.strip() if intro.find('.//cwe:Phase', namespace) is not None else 'N/A'\n",
    "        #note = intro.find('.//cwe:Note', namespace).text.strip() if intro.find('.//cwe:Note', namespace) is not None else 'N/A'\n",
    "        note_elems = intro.findall('.//cwe:Note/xhtml:p', namespace)\n",
    "        if not note_elems:\n",
    "            note = intro.find('.//cwe:Note', namespace).text.strip() if intro.find('.//cwe:Note', namespace) is not None else 'N/A'\n",
    "        else:\n",
    "            note = ''.join(ET.tostring(e, encoding='unicode', method='text').strip() for e in note_elems)\n",
    "            \n",
    "        if(phase!='N/A' and note!='N/A'):\n",
    "            modes_of_introduction+=(phase+\": \"+note)\n",
    "        elif(note!='N/A'):\n",
    "            modes_of_introduction+=(\". \"+note)\n",
    "\n",
    "    # print(\"# modes_of_introduction #\")\n",
    "    # print(modes_of_introduction)\n",
    "    consequences = \"\"\n",
    "    for consequence in weakness.findall('.//cwe:Consequence', namespace):\n",
    "        scopes = [scope.text.strip() for scope in consequence.findall('.//cwe:Scope', namespace)]\n",
    "        impacts = [impact.text.strip() for impact in consequence.findall('.//cwe:Impact', namespace)]\n",
    "        note_elems = consequence.findall('.//cwe:Note/xhtml:p', namespace)\n",
    "        if not note_elems:\n",
    "            note = consequence.find('.//cwe:Note', namespace).text.strip() if consequence.find('.//cwe:Note', namespace) is not None else 'N/A'\n",
    "        else:\n",
    "            note = ''.join(ET.tostring(e, encoding='unicode', method='text').strip() for e in note_elems)\n",
    "        scope_str = \"Scopes: \"\n",
    "        for scope in scopes:\n",
    "            if(scope=='N/A'):\n",
    "                continue\n",
    "            scope_str+=scope\n",
    "        impact_str = \"Impacts: \"\n",
    "        for impact in impacts:\n",
    "            if(impact=='N/A'):\n",
    "                continue\n",
    "            impact_str+=impact\n",
    "        if(note!='N/A'):\n",
    "            consequences+=(scope_str+\". \"+ impact_str+\". Note: \"+ note)\n",
    "    # print(\"# consequences #\")\n",
    "    # print(consequences)\n",
    "    detection_methods = \"\"\n",
    "    for method in weakness.findall('.//cwe:Detection_Method', namespace):\n",
    "        method_name = method.find('.//cwe:Method', namespace).text.strip() if method.find('.//cwe:Method', namespace) is not None else 'N/A'\n",
    "        #description = method.find('.//cwe:Description', namespace).text if method.find('.//cwe:Description', namespace) is not None else 'N/A'\n",
    "        \n",
    "        description_elems = method.findall('.//cwe:Description/xhtml:p', namespace)\n",
    "        if not description_elems:\n",
    "            description = method.find('.//cwe:Description', namespace).text.strip() if method.find('.//cwe:Description', namespace) is not None else 'N/A'\n",
    "        else:\n",
    "            description = ''.join(ET.tostring(e, encoding='unicode', method='text').strip() for e in description_elems)\n",
    "        effectiveness = method.find('.//cwe:Effectiveness', namespace).text.strip() if method.find('.//cwe:Effectiveness', namespace) is not None else 'N/A'\n",
    "        text=\"\"\n",
    "        if(method_name!='N/A'):\n",
    "            text+=\" Method Name: \"+method_name\n",
    "        if(description!='N/A'):\n",
    "            text+=\". Description: \"+description\n",
    "        detection_methods+=text\n",
    "    # print(\"# detection_methods #\")\n",
    "    # print(detection_methods)\n",
    "    mitigations = \"\"\n",
    "    for mitigation in weakness.findall('.//cwe:Mitigation', namespace):\n",
    "        phase = mitigation.find('.//cwe:Phase', namespace).text.strip() if mitigation.find('.//cwe:Phase', namespace) is not None else 'N/A'\n",
    "        \n",
    "        description = ''.join(ET.tostring(e, encoding='unicode', method='text').strip() for e in mitigation.findall('.//cwe:Description', namespace))\n",
    "        mitigations+=(phase+\" : \"+description)\n",
    "    # print(\"# mitigations #\")\n",
    "    # print(mitigations)\n",
    "    \n",
    "    examples = \"\"\n",
    "\n",
    "    for example in weakness.findall('.//cwe:Demonstrative_Example', namespace):\n",
    "        intro_text_elems = example.findall('.//cwe:Intro_Text/xhtml:p', namespace)\n",
    "        if not intro_text_elems:\n",
    "            intro_text = example.find('.//cwe:Intro_Text', namespace).text.strip() if example.find('.//cwe:Intro_Text', namespace) is not None else 'N/A'\n",
    "        else:\n",
    "            intro_text = ''.join(ET.tostring(e, encoding='unicode', method='text').strip() for e in intro_text_elems)\n",
    "        body_text_elems = example.findall('.//cwe:Body_Text/xhtml:p', namespace)\n",
    "        if not body_text_elems:\n",
    "            body_text = example.find('.//cwe:Body_Text', namespace).text.strip() if example.find('.//cwe:Body_Text', namespace) is not None else 'N/A'\n",
    "        else:\n",
    "            body_text = ''.join(ET.tostring(e, encoding='unicode', method='text').strip() for e in body_text_elems)\n",
    "        \n",
    "        if(intro_text!='N/A' and body_text!='N/A'):\n",
    "            examples+=(intro_text+\". \"+ body_text)\n",
    "        elif(body_text!='N/A'):\n",
    "            examples+=(\". \"+body_text)\n",
    "        elif(intro_text!='N/A'):\n",
    "            examples+=(\". \"+intro_text)\n",
    "    # print(\"# examples #\")\n",
    "    # print(examples)\n",
    "    # Extract Related Weaknesses\n",
    "    # Extract sub-elements\n",
    "    related_weaknesses = []\n",
    "    for related in weakness.findall('.//cwe:Related_Weaknesses/cwe:Related_Weakness', namespace):\n",
    "        related_weakness = {\n",
    "            'Nature': related.get('Nature'),\n",
    "            'CWE_ID': related.get('CWE_ID'),\n",
    "            'View_ID': related.get('View_ID'),\n",
    "            'Ordinal': related.get('Ordinal')\n",
    "        }\n",
    "        related_weaknesses.append(related_weakness)\n",
    "\n",
    "    weakness_info[weakness_id] = {\n",
    "        'ID':weakness_id,\n",
    "        'Name': weakness_name,\n",
    "        'Description': description.strip(),\n",
    "        'Extended_Description': extended_description.strip(),\n",
    "        'Modes_Of_Introduction': modes_of_introduction.strip(),\n",
    "        'Common_Consequences': consequences.strip(),\n",
    "        'Detection_Methods': detection_methods.strip(),\n",
    "        'Potential_Mitigations': mitigations.strip(),\n",
    "        'Demonstrative_Examples': examples.strip(),\n",
    "        'Related_Weaknesses':related_weaknesses\n",
    "    }\n"
   ]
  },
  {
   "cell_type": "code",
   "execution_count": null,
   "id": "d1f83343-13f6-43bf-ac72-88dece589e1a",
   "metadata": {},
   "outputs": [],
   "source": []
  },
  {
   "cell_type": "code",
   "execution_count": 17,
   "id": "b7e2b025-2c83-4fee-be4f-fdf6f3dbfd2f",
   "metadata": {},
   "outputs": [],
   "source": [
    "# 1421 = note\n",
    "# 1253 = intro_text\n",
    "# 1191 = description"
   ]
  },
  {
   "cell_type": "code",
   "execution_count": 18,
   "id": "0c99998e-76c7-4b46-8455-fdfd1c4bd20e",
   "metadata": {},
   "outputs": [
    {
     "data": {
      "text/plain": [
       "{'ID': '1267',\n",
       " 'Name': 'Policy Uses Obsolete Encoding',\n",
       " 'Description': 'Security Token Decoders should be reviewed for design inconsistency and common weaknesses.\\n      Access and programming flows should be tested in both pre-silicon and post-silicon testing.',\n",
       " 'Extended_Description': 'Within a System-On-a-Chip (SoC), various circuits and hardware engines generate transactions for the purpose of accessing (read/write) assets or performing various actions (e.g., reset, fetch, compute, etc.). Among various types of message information, a typical transaction is comprised of source identity (identifying the originator of the transaction) and a destination identity (routing the transaction to the respective entity). Sometimes the transactions are qualified with a Security Token. This Security Token helps the destination agent decide on the set of allowed actions (e.g., access to an asset for reads and writes). A policy encoder is used to map the bus transactions to Security Tokens that in turn are used as access-controls/protection mechanisms. A common weakness involves using an encoding which is no longer trusted, i.e., an obsolete encoding.',\n",
       " 'Modes_Of_Introduction': '',\n",
       " 'Common_Consequences': '',\n",
       " 'Detection_Methods': '',\n",
       " 'Potential_Mitigations': 'Architecture and Design : Security Token Decoders should be reviewed for design inconsistency and common weaknesses.\\n      Access and programming flows should be tested in both pre-silicon and post-silicon testing.',\n",
       " 'Demonstrative_Examples': 'For example, consider a system that has four bus masters. The table below provides bus masters, their Security Tokens, and trust assumptions.The policy encoding is to be defined such that Security Token will be used in implemented access-controls. The bits in the bus transaction that contain Security-Token information are Bus_transaction [15:11]. The assets are the AES-Key registers for encryption or decryption. The key of 128 bits is implemented as a set of four, 32-bit registers.Below is an example of a policy encoding scheme inherited from a previous project where all \"ODD\" numbered Security Tokens are trusted.. The inherited policy encoding is obsolete and does not work for the new system where an untrusted bus master with an odd Security Token exists in the system, i.e., Master_3 whose Security Token is \"11\". Based on the old policy, the untrusted bus master (Master_3) has access to the AES-Key registers. To resolve this, a register AES_KEY_ACCESS_POLICY can be defined to provide necessary, access controls:New Policy:The AES_KEY_ACCESS_POLICY register defines which agents with a Security Token in the transaction can access the AES-key registers. Each bit in this 32-bit register defines a Security Token. There could be a maximum of 32 security Tokens that are allowed access to the AES-key registers. The number of the bit when set (i.e., \"1\") allows respective action from an agent whose identity matches the number of the bit and, if \"0\" (i.e., Clear), disallows the respective action to that corresponding agent. Thus, any bus master with Security Token \"01\" is allowed access to the AES-Key registers. Below is the Pseudo Code for policy encoding:',\n",
       " 'Related_Weaknesses': [{'Nature': 'ChildOf',\n",
       "   'CWE_ID': '284',\n",
       "   'View_ID': '1000',\n",
       "   'Ordinal': 'Primary'}]}"
      ]
     },
     "execution_count": 18,
     "metadata": {},
     "output_type": "execute_result"
    }
   ],
   "source": [
    "weakness_info['1267']"
   ]
  },
  {
   "cell_type": "code",
   "execution_count": null,
   "id": "8cff2d91-5760-4069-a806-75b698793ce5",
   "metadata": {},
   "outputs": [],
   "source": []
  },
  {
   "cell_type": "code",
   "execution_count": 19,
   "id": "4ea2f773-ad7a-475e-a273-f3aaaec4b33a",
   "metadata": {},
   "outputs": [],
   "source": [
    "# Save File"
   ]
  },
  {
   "cell_type": "code",
   "execution_count": 20,
   "id": "8b548de4-6411-4567-9681-8983ece5d7d4",
   "metadata": {},
   "outputs": [],
   "source": [
    "with open(data_dir+xml_file_name+'.json','w') as fp:\n",
    "    json.dump(weakness_info,fp)"
   ]
  },
  {
   "cell_type": "code",
   "execution_count": null,
   "id": "b502a0c4-7440-4408-872a-a015075a2821",
   "metadata": {},
   "outputs": [],
   "source": []
  }
 ],
 "metadata": {
  "kernelspec": {
   "display_name": "Python 3 (ipykernel)",
   "language": "python",
   "name": "python3"
  },
  "language_info": {
   "codemirror_mode": {
    "name": "ipython",
    "version": 3
   },
   "file_extension": ".py",
   "mimetype": "text/x-python",
   "name": "python",
   "nbconvert_exporter": "python",
   "pygments_lexer": "ipython3",
   "version": "3.8.19"
  }
 },
 "nbformat": 4,
 "nbformat_minor": 5
}
