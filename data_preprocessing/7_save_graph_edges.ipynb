{
 "cells": [
  {
   "cell_type": "code",
   "execution_count": 22,
   "id": "643d43dc-2f82-4fbf-bf4f-241168bbda2a",
   "metadata": {},
   "outputs": [],
   "source": [
    "import numpy as np\n",
    "import json\n",
    "import sys\n",
    "sys.path.append('../')\n",
    "import config\n",
    "import os"
   ]
  },
  {
   "cell_type": "code",
   "execution_count": 23,
   "id": "338be67a-24c3-4c95-a97b-a5f2efb2e935",
   "metadata": {},
   "outputs": [],
   "source": [
    "data_dir = config.DATA_DIR\n",
    "cwe_dir = config.CWE_DIR\n",
    "with open(data_dir+'doc_id_to_emb_id.json') as f:\n",
    "    doc_id_to_emb_id = json.load(f)\n",
    "with open(data_dir+'emb_id_to_doc_id.json') as f:\n",
    "    emb_id_to_doc_id = json.load(f)\n",
    "with open(data_dir+'attack_graph.json') as f:\n",
    "    attack_graph = json.load(f)\n",
    "with open(cwe_dir+config.cwe_dataset+'_graph.json') as f:\n",
    "    cwe_graph = json.load(f)"
   ]
  },
  {
   "cell_type": "code",
   "execution_count": 24,
   "id": "07f1231d-d4d7-4b05-8960-d0e640bc42c3",
   "metadata": {},
   "outputs": [],
   "source": [
    "combined_edges = []"
   ]
  },
  {
   "cell_type": "code",
   "execution_count": 25,
   "id": "db29c2e7-2595-499b-90a0-93572ff2622b",
   "metadata": {},
   "outputs": [
    {
     "data": {
      "text/plain": [
       "{'source': 'malware--6a21e3a4-5ffe-4581-af9a-6a54c7536f44',\n",
       " 'target': 'attack-pattern--707399d6-ab3e-4963-9315-d9d3818cd6a0'}"
      ]
     },
     "execution_count": 25,
     "metadata": {},
     "output_type": "execute_result"
    }
   ],
   "source": [
    "attack_graph['links'][0]"
   ]
  },
  {
   "cell_type": "code",
   "execution_count": 26,
   "id": "940602cb-5106-4d77-89fc-390c86bfc6b6",
   "metadata": {},
   "outputs": [],
   "source": [
    "for entry in attack_graph['links']:\n",
    "    if(entry['source'] in doc_id_to_emb_id and entry['target'] in doc_id_to_emb_id):\n",
    "        combined_edges.append((doc_id_to_emb_id[entry['source']], doc_id_to_emb_id[entry['target']]))"
   ]
  },
  {
   "cell_type": "code",
   "execution_count": 27,
   "id": "a4ee81ff-773d-4f4f-99f0-51c7295a4aa7",
   "metadata": {},
   "outputs": [],
   "source": [
    "for entry in cwe_graph['links']:\n",
    "    if(entry['source'] in doc_id_to_emb_id and entry['target'] in doc_id_to_emb_id):\n",
    "        combined_edges.append((doc_id_to_emb_id[entry['source']], doc_id_to_emb_id[entry['target']]))"
   ]
  },
  {
   "cell_type": "code",
   "execution_count": 28,
   "id": "8b403752-66df-48ac-aca6-66f9cdb80e21",
   "metadata": {},
   "outputs": [
    {
     "data": {
      "text/plain": [
       "20683"
      ]
     },
     "execution_count": 28,
     "metadata": {},
     "output_type": "execute_result"
    }
   ],
   "source": [
    "len(combined_edges)"
   ]
  },
  {
   "cell_type": "code",
   "execution_count": 29,
   "id": "19d9d47a-df56-4dc8-9251-374fc31e88c1",
   "metadata": {},
   "outputs": [],
   "source": [
    "with open(data_dir+'graph_edges.json', 'w') as f:\n",
    "    json.dump(combined_edges, f)"
   ]
  },
  {
   "cell_type": "code",
   "execution_count": 31,
   "id": "d4cf5c50-33a8-49da-bb45-e1b3fc6d261e",
   "metadata": {},
   "outputs": [
    {
     "name": "stdout",
     "output_type": "stream",
     "text": [
      "Max of first elements: 2979\n",
      "Max of second elements: 2981\n"
     ]
    }
   ],
   "source": [
    "# Find the maximum of the first elements\n",
    "max_first = max(pair[0] for pair in combined_edges)\n",
    "\n",
    "# Find the maximum of the second elements\n",
    "max_second = max(pair[1] for pair in combined_edges)\n",
    "\n",
    "print(\"Max of first elements:\", max_first)\n",
    "print(\"Max of second elements:\", max_second)"
   ]
  },
  {
   "cell_type": "code",
   "execution_count": null,
   "id": "247b3515-b12c-4eaa-bbae-16f4755f27a4",
   "metadata": {},
   "outputs": [],
   "source": []
  }
 ],
 "metadata": {
  "kernelspec": {
   "display_name": "Python 3 (ipykernel)",
   "language": "python",
   "name": "python3"
  },
  "language_info": {
   "codemirror_mode": {
    "name": "ipython",
    "version": 3
   },
   "file_extension": ".py",
   "mimetype": "text/x-python",
   "name": "python",
   "nbconvert_exporter": "python",
   "pygments_lexer": "ipython3",
   "version": "3.8.19"
  }
 },
 "nbformat": 4,
 "nbformat_minor": 5
}
