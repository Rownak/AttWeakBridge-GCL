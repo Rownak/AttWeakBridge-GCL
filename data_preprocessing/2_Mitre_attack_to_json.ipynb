{
 "cells": [
  {
   "cell_type": "code",
   "execution_count": 1,
   "id": "65c41672-e93c-4e2a-a9fe-fb69cad4c788",
   "metadata": {},
   "outputs": [],
   "source": [
    "import json\n",
    "import os\n",
    "import numpy as np\n",
    "from collections import Counter\n",
    "from collections import defaultdict"
   ]
  },
  {
   "cell_type": "code",
   "execution_count": 5,
   "id": "3088964b-e805-4674-82af-2b5f6557a42b",
   "metadata": {},
   "outputs": [],
   "source": [
    "data_dir = \"../datasets/enterprise_attack/\"\n",
    "with open(data_dir+'enterprise-attack.json', encoding='utf-8') as f:\n",
    "    data = json.load(f)"
   ]
  },
  {
   "cell_type": "code",
   "execution_count": 6,
   "id": "5bccdbfd-ef5b-4b0a-a4cb-93d353a83e4f",
   "metadata": {},
   "outputs": [],
   "source": [
    "# Get the list of objects\n",
    "objects = data['objects']\n",
    "# Extract Attack information\n",
    "attack_info = defaultdict(list)"
   ]
  },
  {
   "cell_type": "code",
   "execution_count": 24,
   "id": "870ea22b-0b54-46e1-80dc-dc2e1f33c061",
   "metadata": {},
   "outputs": [
    {
     "name": "stdout",
     "output_type": "stream",
     "text": [
      "Procesed 50 th object: id: course-of-action--f9fcb3ec-6de0-4559-8cd9-ef1c0c7d1971\n",
      "Procesed 100 th object: id: attack-pattern--19a71d1e-6334-4233-8260-b749cae37953\n",
      "Procesed 150 th object: id: attack-pattern--9f947a1c-3860-48a8-8af0-a2dfa3efde03\n",
      "Procesed 200 th object: id: relationship--2e5f338d-92c4-4647-8fef-7c901ff774f5\n",
      "Procesed 250 th object: id: relationship--0beb0088-3bea-4612-b2d9-ff9988f829ae\n",
      "Procesed 300 th object: id: relationship--99ec0a8e-4a4f-427c-89db-163e4b206021\n",
      "Procesed 350 th object: id: relationship--c63c35c2-a402-4d0d-bf25-f48eb9b379c1\n",
      "Procesed 400 th object: id: relationship--3dde2b07-7c30-4a18-a9df-f85db84f9b14\n",
      "Procesed 450 th object: id: relationship--668f8c4b-225a-4287-ac5b-7717a4f75b5d\n",
      "Procesed 500 th object: id: relationship--c59a3d89-c8fa-4c5d-813e-f4495d892d1a\n",
      "Procesed 550 th object: id: relationship--3c341d13-938e-4535-ac75-10a79abc7017\n",
      "Procesed 600 th object: id: relationship--6d1906b4-e815-4688-86f1-ce61d403f8c6\n",
      "Procesed 650 th object: id: relationship--ca3c4d4b-cf53-4489-904f-8a220e421aeb\n",
      "Procesed 700 th object: id: relationship--72bfda0b-31e9-4958-8d40-6efe816d9989\n",
      "Procesed 750 th object: id: relationship--55f3dd59-08be-4e23-a680-b6db7850b399\n",
      "Procesed 800 th object: id: relationship--327916f7-fe5d-4858-adeb-f72f74c60c25\n",
      "Procesed 850 th object: id: relationship--f8cf3800-6521-41d9-b272-d6ba2db0ccd2\n",
      "Procesed 900 th object: id: relationship--a86cee0a-dc49-4c95-b5dc-37405337490b\n",
      "Procesed 950 th object: id: relationship--fc6cc5f2-ef5b-4a28-a0b2-a277ee98191d\n",
      "Procesed 1000 th object: id: x-mitre-data-component--1177a4c5-31c8-400c-8544-9071166afa0e\n",
      "1035 objects have valid text descriptions.\n",
      "0 objects have valid text x_mitre_detection.\n"
     ]
    }
   ],
   "source": [
    "count=0\n",
    "count2=0\n",
    "for i in range(0, len(objects)):\n",
    "    obj=objects[i]\n",
    "    i=i+1\n",
    "\n",
    "    description=\"\"\n",
    "    name=\"\"\n",
    "    x_mitre_detection = \"\"\n",
    "    if 'name' in obj:\n",
    "        if(len(obj['name'])>0):\n",
    "            name = obj['name']\n",
    "    if 'description' in obj:\n",
    "        if len(obj['description'])>0:\n",
    "            try:\n",
    "                description = obj['description']\n",
    "                count=count+1\n",
    "            except Exception as e:\n",
    "                print(\"Exception:\", e)        \n",
    "                print(\"i\", i)\n",
    "                print(\"Len:\", len(obj['description']))\n",
    "                print(obj['description'])\n",
    "                break\n",
    "    if 'x_mitre_detection' in obj:\n",
    "        if len(obj['x_mitre_detection'])>0:\n",
    "            try:\n",
    "                x_mitre_detection = obj['x_mitre_detection']\n",
    "                count2=count2+1\n",
    "            except Exception as e:\n",
    "                print(\"Exception:\", e)        \n",
    "                print(\"i\", i)\n",
    "                print(\"Len:\", len(obj['x_mitre_detection']))\n",
    "                print(obj['x_mitre_detection'])\n",
    "                break\n",
    "\n",
    "    if 'id' in obj:\n",
    "        attack_info[obj['id']] = {\n",
    "            'Name': name,\n",
    "            'Description': description.strip(),\n",
    "            'x_mitre_detection': x_mitre_detection.strip()\n",
    "        }\n",
    "        \n",
    "    if (i%50==0):\n",
    "        print(\"Procesed\", i,\"th object: id:\", obj['id'])   \n",
    "\n",
    "    #if (i==2):\n",
    "    #    break\n",
    "print(count, \"objects have valid text descriptions.\")\n",
    "print(count2, \"objects have valid text x_mitre_detection.\")"
   ]
  },
  {
   "cell_type": "code",
   "execution_count": 25,
   "id": "a93462f9-6f0a-4b9f-b320-a113ddbc9a14",
   "metadata": {},
   "outputs": [
    {
     "data": {
      "text/plain": [
       "{'Name': 'Restrict File and Directory Permissions',\n",
       " 'Description': 'Restrict access by setting directory and file permissions that are not specific to users or privileged accounts.',\n",
       " 'x_mitre_detection': ''}"
      ]
     },
     "execution_count": 25,
     "metadata": {},
     "output_type": "execute_result"
    }
   ],
   "source": [
    "attack_info['course-of-action--f9fcb3ec-6de0-4559-8cd9-ef1c0c7d1971']"
   ]
  },
  {
   "cell_type": "code",
   "execution_count": 26,
   "id": "5728d59f-f90d-4020-8c4a-4c47d0d23d33",
   "metadata": {},
   "outputs": [],
   "source": [
    "with open(data_dir+'ics-attack_info.json', 'w') as f:\n",
    "    json.dump(attack_info,f)"
   ]
  },
  {
   "cell_type": "code",
   "execution_count": null,
   "id": "0d59b459-fb1a-4a38-af2b-735f0cae8c56",
   "metadata": {},
   "outputs": [],
   "source": []
  }
 ],
 "metadata": {
  "kernelspec": {
   "display_name": "Python 3 (ipykernel)",
   "language": "python",
   "name": "python3"
  },
  "language_info": {
   "codemirror_mode": {
    "name": "ipython",
    "version": 3
   },
   "file_extension": ".py",
   "mimetype": "text/x-python",
   "name": "python",
   "nbconvert_exporter": "python",
   "pygments_lexer": "ipython3",
   "version": "3.8.19"
  }
 },
 "nbformat": 4,
 "nbformat_minor": 5
}
